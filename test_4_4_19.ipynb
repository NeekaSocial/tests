{
 "cells": [
  {
   "cell_type": "code",
   "execution_count": 1,
   "id": "24e64354-14a9-4fa1-ab95-6ac7f7fb82b3",
   "metadata": {},
   "outputs": [],
   "source": [
    "import numpy as np\n",
    "import pandas as pd\n",
    "import random\n",
    "from neeka_lib import *\n",
    "from reddit_helper import *\n",
    "from sklearn.cluster import KMeans"
   ]
  },
  {
   "cell_type": "code",
   "execution_count": 2,
   "id": "8c79d76d-3bb2-45cd-89d5-b83edc0d32d4",
   "metadata": {},
   "outputs": [],
   "source": [
    "# Parameters\n",
    "MIN_VOTES_PER_USER = 4\n",
    "MIN_VOTES_PER_POST = 4\n",
    "N_GRAPH_ITERATIONS = 19\n",
    "VECTOR_LENGTH = 300 # length of user/post embeddings\n",
    "SUBREDDIT_NAMES = ['politics', 'news', 'worldnews']"
   ]
  },
  {
   "cell_type": "code",
   "execution_count": 3,
   "id": "211a1e44-21e8-46e8-b5f5-d83dc3e81028",
   "metadata": {},
   "outputs": [],
   "source": [
    "# get ALL votes\n",
    "all_votes_df = pd.read_csv('reddit_votes_data/44_million_reddit_votes/44_million_votes.txt',sep='\\t')"
   ]
  },
  {
   "cell_type": "code",
   "execution_count": 4,
   "id": "428c84b5-7655-4758-813a-92683a9d487b",
   "metadata": {},
   "outputs": [],
   "source": [
    "# get ALL submissions\n",
    "all_submissions_df = pd.read_csv('reddit_votes_data/submission_info/submission_info.txt',sep='\\t')\n",
    "all_submissions_df.set_index('SUBMISSION_ID',inplace=True)"
   ]
  },
  {
   "cell_type": "code",
   "execution_count": 5,
   "id": "124a95bf-5527-4a21-b10d-0bccc2729d79",
   "metadata": {},
   "outputs": [],
   "source": [
    "# get all submissions in specified subreddits submissions\n",
    "submissions_df = all_submissions_df[all_submissions_df['SUBREDDIT'].isin(SUBREDDIT_NAMES)]\n",
    "\n",
    "# get all submissions in specified subreddits submissions\n",
    "r_subreddit_names = [f'r/{NAME}' for NAME in SUBREDDIT_NAMES]\n",
    "votes_df = all_votes_df[all_votes_df['SUBREDDIT'].isin(r_subreddit_names)]\n",
    "votes_df = all_votes_df[all_votes_df['SUBMISSION_ID'].isin(submissions_df.index)]"
   ]
  },
  {
   "cell_type": "code",
   "execution_count": 6,
   "id": "ebf04562-94c8-4769-a83b-ed96bd4fff8a",
   "metadata": {},
   "outputs": [],
   "source": [
    "votes_df = filter_to_multiple_votes(votes_df, min_usr_votes=MIN_VOTES_PER_USER, min_post_votes=MIN_VOTES_PER_POST)"
   ]
  },
  {
   "cell_type": "code",
   "execution_count": 7,
   "id": "ad825b24-4799-4487-91ec-2f3a0d0b46fc",
   "metadata": {},
   "outputs": [],
   "source": [
    "# get all politics users \n",
    "pol_users = votes_df['USERNAME'].unique()\n",
    "\n",
    "# create our dataframe of users\n",
    "vectors = pd.Series([ np.random.choice([1,-1],VECTOR_LENGTH) for _ in range(len(pol_users)) ])\n",
    "intermediary_vectors = pd.Series([ np.zeros(VECTOR_LENGTH) for _ in range(len(pol_users)) ])\n",
    "\n",
    "users_df = pd.DataFrame({'USERS':pol_users,'VECTOR':vectors, 'INTERMEDIARY':intermediary_vectors})\n",
    "users_df.set_index('USERS',inplace=True)"
   ]
  },
  {
   "cell_type": "code",
   "execution_count": 8,
   "id": "c7d505d3-e050-4206-84b9-c208678b7b50",
   "metadata": {},
   "outputs": [],
   "source": [
    "reset_users(users_df)"
   ]
  },
  {
   "cell_type": "code",
   "execution_count": 9,
   "id": "24260026-4726-4b26-9dac-e5e82fec4ab2",
   "metadata": {},
   "outputs": [
    {
     "name": "stdout",
     "output_type": "stream",
     "text": [
      "          71000 / 71048         \r"
     ]
    }
   ],
   "source": [
    "# Iterate graph to form user embeddings\n",
    "for _ in range(N_GRAPH_ITERATIONS):\n",
    "    iterate_graph(votes_df, users_df)\n",
    "    resolve_graph(users_df)"
   ]
  },
  {
   "cell_type": "code",
   "execution_count": 10,
   "id": "ecf95d4b-1756-4ac0-845f-e4b2e3e43f56",
   "metadata": {},
   "outputs": [
    {
     "name": "stdout",
     "output_type": "stream",
     "text": [
      "0: 6737\n",
      "1: 10499\n"
     ]
    }
   ],
   "source": [
    "# Perform k-means clustering to group users - this is needed for testing\n",
    "kmeans = KMeans(n_clusters=2, random_state=0, n_init='auto')\n",
    "kmeans.fit(  np.stack(users_df['VECTOR'].to_numpy())  )\n",
    "group_labels = kmeans.labels_\n",
    "group_ids, group_counts = np.unique(group_labels, return_counts=True)\n",
    "for grpid, grpcnt in zip(group_ids,group_counts):\n",
    "    print(f'{grpid}: {grpcnt}')"
   ]
  },
  {
   "cell_type": "code",
   "execution_count": 11,
   "id": "5d713b00-f10f-4fa4-9a18-852d19f61620",
   "metadata": {},
   "outputs": [],
   "source": [
    "# Put users into groups - this is needed for testing\n",
    "users_df['GROUP'] = \"NO_GROUP\"\n",
    "users_df.loc[group_labels == 0,'GROUP'] = 'GROUP_0'\n",
    "users_df.loc[group_labels == 1,'GROUP'] = 'GROUP_1' "
   ]
  },
  {
   "cell_type": "code",
   "execution_count": 12,
   "id": "27aa8c79-330e-4069-bc4a-39009692572e",
   "metadata": {},
   "outputs": [],
   "source": [
    "# initialize the posts_df dataframe\n",
    "posts_df = pd.DataFrame({'POST_ID':list(set(votes_df['SUBMISSION_ID']))})\n",
    "posts_df.set_index('POST_ID',inplace=True)\n",
    "reset_post_stats(posts_df)"
   ]
  },
  {
   "cell_type": "code",
   "execution_count": 13,
   "id": "a6f8627e-e011-48f4-a59f-b8d9b6b76e88",
   "metadata": {
    "scrolled": true
   },
   "outputs": [],
   "source": [
    "# calculate some base statistics for each post\n",
    "calculate_post_stats(users_df, votes_df, posts_df)"
   ]
  },
  {
   "cell_type": "code",
   "execution_count": 14,
   "id": "3b930c36-748d-4e84-b686-4938f8ad074b",
   "metadata": {},
   "outputs": [],
   "source": [
    "# calvulate the Neeka score for each post\n",
    "neeka_score_calculation(posts_df)"
   ]
  },
  {
   "cell_type": "code",
   "execution_count": 15,
   "id": "c405e26b-1f68-417a-899c-cebde9084ad1",
   "metadata": {},
   "outputs": [],
   "source": [
    "# calculate percentile rank \n",
    "x_index = np.logical_not(np.logical_or( posts_df['GROUP1_X'].isna(), posts_df['GROUP0_X'].isna())) \n",
    "posts_x_df = posts_df[x_index].copy()\n",
    "calculate_percentile_rank(posts_x_df)"
   ]
  },
  {
   "cell_type": "markdown",
   "id": "074b2f4c-76a5-450b-96d7-d6d1c73702bc",
   "metadata": {},
   "source": [
    "# Results"
   ]
  },
  {
   "cell_type": "markdown",
   "id": "be6f17ed-3250-4cad-9408-02e533afdbe7",
   "metadata": {},
   "source": [
    "### Statistics"
   ]
  },
  {
   "cell_type": "code",
   "execution_count": 16,
   "id": "630850c9-d590-4f89-8bcf-21302063dc91",
   "metadata": {},
   "outputs": [
    {
     "name": "stdout",
     "output_type": "stream",
     "text": [
      "\n",
      "    simple_agreement: 50.45 %\n",
      "    neeka_agreement: 65.77 %\n",
      "    agreement_change: 15.33 %\n",
      "\n",
      "    simple_apolar: 33.88 %\n",
      "    neeka_apolar: 49.21 %\n",
      "    apolar_change: 15.33 %\n",
      "\n",
      "    simple_neutrality: 70.66 %\n",
      "    neeka_neutrality: 91.46 %\n",
      "    neutrality_change: 20.8 %\n",
      "\n",
      "    Overall:\n",
      "    simple_quality: 51.66 %\n",
      "    neeka_quality: 68.81 %\n",
      "    quality_change: 17.15 %\n",
      "\n",
      "    #######################################\n",
      "\n",
      "    simple_group0_bias: 30.32 %\n",
      "    simple_group1_bias: 59.66 %\n",
      "    \n",
      "    neeka_group0_bias: 46.31 %\n",
      "    neeka_group1_bias: 54.85 %\n",
      "    \n"
     ]
    }
   ],
   "source": [
    "results = calculate_test_results(posts_x_df)\n",
    "print_test_results(results)"
   ]
  },
  {
   "cell_type": "markdown",
   "id": "5be8ea92-76b6-4ae4-af99-94e3c5ce11d3",
   "metadata": {},
   "source": [
    "### Most Promoted/Demoted ALL POSTS "
   ]
  },
  {
   "cell_type": "code",
   "execution_count": 17,
   "id": "9fc929b6-3331-4bd9-8ab4-4778a8f6b9e2",
   "metadata": {},
   "outputs": [
    {
     "name": "stdout",
     "output_type": "stream",
     "text": [
      "Most Promoted by **Neeka Consensus** over simple-consensus (most demoted by simple-consensus):\n",
      "1. \"India to buy US$1 billion of US crude for the first time ever\"\n",
      "2. \"Michigan Dam Fails; Flooding in Kentucky and Ohio Also Forces Evacuations\"\n",
      "3. \"US school 'sorry' for foster care threat over lunch debt\"\n",
      "4. \"DEA announces intent to schedule kratom\"\n",
      "5. \"Four rockets hit Iraqi military base near Baghdad airport\"\n",
      "6. \"Hungary Withdraws From European Singing Competition Because 'It's Too Gay'\"\n",
      "7. \"Students called a suicide hotline listed on their ID cards. It was sex hotline instead.\"\n",
      "8. \"Obama formally joins US into climate pact\"\n",
      "9. \"Nearly 175 Saudi military aviation students grounded in U.S. after base shooting\"\n",
      "10. \"Oliver Stone: Don't praise President Bush just because you hate Donald Trump\"\n",
      "-\n",
      "Most Promoted by **simple-consensus** over Neeka (most demoted by Neeka):\n",
      "1. \"Experts say Trump firing of 3 officials including Sondland and Vindman is a ‘criminal’ offense\"\n",
      "2. \"Europeans fear relationship with America will only get worse under a Trump second term. “Eight years in political terms is an era, not an error. And it would undermine the reality of American democracy,” said French analyst François Heisbourg.\"\n",
      "3. \"Trump Named ‘Worst President for Our Environment in History' by Nine Green Groups\"\n",
      "4. \"Skeptics Blast Trump's New Claim That Soleimani Targeted 4 US Embassies: \"Either Fox News gets higher level briefings than Congress ... or there was no such imminent threat,\" charged Sen. Chris Murphy.\"\n",
      "5. \"WHO official calls Trump comments on coronavirus response 'incoherent'\"\n",
      "6. \"Trump launches snide attack on Greta Thunberg after she beats him to Time Person of the Year\"\n",
      "7. \"Trump Flatly Admits He’d Leave Americans Stranded to Hold Coronavirus Numbers Static | The president is purposely downplaying the coronavirus for selfish reasons but is too stupid to keep that quiet\"\n",
      "8. \"'He Is Planning to Rig the Impeachment Trial': McConnell Vows 'Total Coordination' With Trump on Senate Process: “The jury—Senate Republicans—are going to coordinate with the defendant—Donald Trump—on how exactly the kangaroo court is going to be run.\"\"\n",
      "9. \"Kim Jong Un Wants Trump To Win In 2020, Former White House Adviser Says: 'All The Bad Guys Want Trump To Win'\"\n",
      "10. \"'There need to be mass protests': Authoritarianism experts say time is running out for Americans to stop Trump\"\n"
     ]
    }
   ],
   "source": [
    "sample = posts_df\n",
    "print_most_changed(sample, submissions_df)"
   ]
  },
  {
   "cell_type": "markdown",
   "id": "d5c1d1fb-300f-4855-8042-418c9a380e5f",
   "metadata": {},
   "source": [
    "### Most Promoted/Demoted SAMPLE A"
   ]
  },
  {
   "cell_type": "code",
   "execution_count": 18,
   "id": "b33fbef9-dd37-4f25-8faf-108d3f41a947",
   "metadata": {},
   "outputs": [
    {
     "name": "stdout",
     "output_type": "stream",
     "text": [
      "Most Promoted by **Neeka Consensus** over simple-consensus (most demoted by simple-consensus):\n",
      "1. \"40 years ago we stopped the practice of separating American Indian families. Let’s not reverse course.\"\n",
      "2. \"Rod Rosenstein resigned and thanked Trump for his ‘courtesy’. Is this the saddest ever case of Stockholm syndrome?\"\n",
      "3. \"5 rockets land near american embassy\"\n",
      "4. \"Black hole found 1,000 light years from Earth: Object found in HR 6819 system is the closest to Earth yet known – and is unusually dark.\"\n",
      "5. \"Prime Minister Boris Johnson released from intensive care\"\n",
      "6. \"Connecticut Police Accidentally Record Themselves Conspiring to Fabricate Criminal Charges Against Protester\"\n",
      "7. \"Beto O'Rourke raises more funds in 3rd quarter than Jeb Bush raised for entire 2016 campaign\"\n",
      "8. \"Rohingya leaders condemn 'liar' Aung San Suu Kyi after she denies Myanmar genocide\"\n",
      "9. \"Steyer aide offered money for endorsements\"\n",
      "10. \"Trump, Bill Barr, and the arrival of the worst-case scenario\"\n",
      "-\n",
      "Most Promoted by **simple-consensus** over Neeka (most demoted by Neeka):\n",
      "1. \"Kim Jong Un Wants Trump To Win In 2020, Former White House Adviser Says: 'All The Bad Guys Want Trump To Win'\"\n",
      "2. \"Greta Thunberg has hit back at adults who “choose to spend their time mocking and threatening teenagers and children for promoting science”, suggesting they “must simply feel so threatened”.\"\n",
      "3. \"“I forced her out”: Giuliani goes on Fox News and admits he’s much more than Trump’s lawyer | Trump’s lawyer is remarkably oblivious about the fact that he’s not supposed to be driving foreign policy.\"\n",
      "4. \"A Utah substitute told fifth graders that ‘homosexuality is wrong.’ She was escorted out after 3 students spoke up.\"\n",
      "5. \"The public servants Trump smeared as 'traitors' and 'human scum' are Time magazine's 2019 'Guardians of the Year'\"\n",
      "6. \"It has come to this: Ted Cruz is Putin’s stooge\"\n",
      "7. \"‘Jesus Christ, of course he’s a racist,’ Beto O’Rourke vehemently says of Trump, tying him to weekend shootings\"\n",
      "8. \"Reporter Grills Trump: What Did You Do for Entire Month? | CBS Reporter Paula Reid Questions President Trump About What His Administration Did the Entire Month of February as the Coronavirus Pandemic Was Spreading.\"\n",
      "9. \"Sanders declares victory in Iowa, says he can 'defeat the most dangerous president in modern American history'\"\n",
      "10. \"Bill Taylor is willing to testify publicly in impeachment probe\"\n"
     ]
    }
   ],
   "source": [
    "sample = posts_df.sample(1000)\n",
    "print_most_changed(sample, submissions_df)"
   ]
  },
  {
   "cell_type": "markdown",
   "id": "43613b92-9210-459d-ab19-df1205cf5d5d",
   "metadata": {},
   "source": [
    "### Most Promoted/Demoted SAMPLE B"
   ]
  },
  {
   "cell_type": "code",
   "execution_count": 19,
   "id": "498b6893-adb5-4b0a-b3d0-7c2a158b9ccd",
   "metadata": {},
   "outputs": [
    {
     "name": "stdout",
     "output_type": "stream",
     "text": [
      "Most Promoted by **Neeka Consensus** over simple-consensus (most demoted by simple-consensus):\n",
      "1. \"US-linked Australian church fined US$98,000 for selling bleach as coronavirus ‘miracle cure’: ‘There is no clinical, scientifically-accepted evidence showing that Miracle Mineral Solution can cure or alleviate any disease,’ says Australia’s drug regulator\"\n",
      "2. \"Black snow falling in Siberia due to air loaded with coal dust prompted the regional governor on Tuesday to temporarily close a coal processing plant he accused of killing residents\"\n",
      "3. \"Doctors and nurses are getting hit with pay cuts, layoffs, and furloughs even as they fight the coronavirus pandemic\"\n",
      "4. \"Donald Trump tweets \"Impeach the Pres,\" Twitter responds accordingly: \"I bet Melania typed that\"\"\n",
      "5. \"'He hates white men': Prosecutors accuse Iowa man, convicted in separate murder, of racially-charged killing\"\n",
      "6. \"U.S. envoy Sondland did not link Biden probe to aid: Ukraine minister\"\n",
      "7. \"Obama tells anxious Democrats to 'chill out about the candidates' and avoid putting them through 'purity tests'. \"Everybody needs to chill out about the candidates but gin up about the prospect of rallying behind whoever emerges from this process,\"\"\n",
      "8. \"Bolivia’s De Facto Gov’t Grants Impunity to Police, Armed Forces\"\n",
      "9. \"Substitute teacher, 23, is charged with 'having sex with 16-year-old male student at her parent's house in 2018'\"\n",
      "10. \"'Stop provoking ally': Korea's conservatives slam Trump - \"With the 'money is everything' mind of a merchant, Trump seems to be confused about what is his ally and foe,\" Rep. Cho Kyung-tae of the main opposition Liberty Party of Korea said on a radio show Tuesday.\"\n",
      "-\n",
      "Most Promoted by **simple-consensus** over Neeka (most demoted by Neeka):\n",
      "1. \"Far-Right Terrorism Has Increased 320 Percent in Just 4 Years, Extremism Watchdog Warns\"\n",
      "2. \"Ivanka Trump’s relationship with British spy revealed in new report strikes massive blow to president's claims\"\n",
      "3. \"Report Finds One Third Of Trump Appeals Court Judges Have History Of Anti-LGBT Bias\"\n",
      "4. \"Trump makes 'insane' suggestion Kurds are deliberately freeing Isis prisoners, after hundreds escape during Turkey bombing\"\n",
      "5. \"Top economist: US coronavirus response is like third world country -- US on course for second Great Depression\"\n",
      "6. \"Boris Johnson condemned in brutal direct attack by London Bridge victim's father: 'He’s the worst of us and he’s taking you for a ride'\"\n",
      "7. \"After Giuliani 'fixer' alleges Nunes met with Ukrainian officials to seek Biden dirt, congressman threatens to sue media\"\n",
      "8. \"Colorado Democrat believes Trump awarded ventilators as political favor to vulnerable GOP senator\"\n",
      "9. \"Greta Thunberg says global wave of school strikes for the climate over past year has “achieved nothing” because greenhouse gas emissions have continued to rise, she told activists at UN climate talks in Madrid — Activist says 4% greenhouse gas emissions rise since 2015 shows action is insufficient\"\n",
      "10. \"Jimmy Carter says a full investigation would show Trump lost in 2016\"\n"
     ]
    }
   ],
   "source": [
    "sample = posts_df.sample(1000)\n",
    "print_most_changed(sample, submissions_df)"
   ]
  },
  {
   "cell_type": "markdown",
   "id": "a073ac97-8aa0-4f66-b523-942153a30eb3",
   "metadata": {},
   "source": [
    "### Most Promoted/Demoted SAMPLE C"
   ]
  },
  {
   "cell_type": "code",
   "execution_count": 20,
   "id": "ab7b9fb7-8c41-44fc-a8f1-67ffabaa9173",
   "metadata": {},
   "outputs": [
    {
     "name": "stdout",
     "output_type": "stream",
     "text": [
      "Most Promoted by **Neeka Consensus** over simple-consensus (most demoted by simple-consensus):\n",
      "1. \"India: J&amp;K cop posts a video of bustling Kashmir streets ahead of Eid\"\n",
      "2. \"The NSA has obtained direct access to the systems of Google, Facebook, Apple and other US internet giants allowing them to freely obtain the content of emails, video and voice chat, videos, photos, Skype chats, file transfers, social networking details, and more.\"\n",
      "3. \"Google tracked his bike ride past a burglarized home. That made him a suspect\"\n",
      "4. \"40 years ago we stopped the practice of separating American Indian families. Let’s not reverse course.\"\n",
      "5. \"Trump Trust Revised So He Can Take Profits From His Businesses At Any Time\"\n",
      "6. \"‘Just go ahead. Let’s do this.’ Democratic presidential contender Pete Buttigieg takes on protester at Chicago fundraiser.\"\n",
      "7. \"A California college student has accused popular video-sharing app TikTok in a class-action lawsuit of transferring private user data to servers in China, despite the company's assurances that it does not store personal data there.\"\n",
      "8. \"U.S. to require drug companies to include prices in their ads\"\n",
      "9. \"A healthy group of Tasmanian devils has been discovered in Australia, giving new hope for the survival of the endangered species.\"\n",
      "10. \"Thinking of voting for Jill Stein or Gary Johnson? Here are their policy positions\"\n",
      "-\n",
      "Most Promoted by **simple-consensus** over Neeka (most demoted by Neeka):\n",
      "1. \"McConnell appears to break with the Constitution on Trump impeachment: \"I'm not an impartial juror\" | Lawmakers take an oath pledging to act as an \"impartial justice\" before engaging in the trial, per the Constitution\"\n",
      "2. \"House Republicans' Trump impeachment strategy was simple: Distract, deceive and yell | GOP lawmakers have treated the hearings like Fox New segments, delivering loud, rambling monologues in a deliberate attempt to wear down participants and viewers.\"\n",
      "3. \"Trump Tied Soleimani Hit To Support From GOP Hawks Ahead Of Impeachment Trial According to NYT and WSJ: New motivation emerges after contradictory Trump administration accounts of \"imminent\" threats justifying airstrike assassination.\"\n",
      "4. \"Trump being booed at UFC 244 event a surprise, says political scientist: \"This should be his crowd\"\"\n",
      "5. \"Hillary Clinton: 'Impeachable offenses committed on national television still count'\"\n",
      "6. \"Sen. Bernie Sanders: Remove Stephen Bannon from National Security Council\"\n",
      "7. \"Trump Lies To The Troops And Makes Up Fake Afghanistan Cease-Fire\"\n",
      "8. \"‘This is what we call a clue’: New docs show White House halted Ukraine aid less than two hours after Trump’s ‘perfect’ call\"\n",
      "9. \"Trump Responds to Reports About His Incompetence by Flying Into a Self-Pitying Rage at Press\"\n",
      "10. \"A Trial Without Witnesses Is No Trial at All\"\n"
     ]
    }
   ],
   "source": [
    "sample = posts_df.sample(1000)\n",
    "print_most_changed(sample, submissions_df)"
   ]
  },
  {
   "cell_type": "code",
   "execution_count": null,
   "id": "bc2bba37-7245-4bb1-a6ea-bcbfac8fedf4",
   "metadata": {},
   "outputs": [],
   "source": []
  },
  {
   "cell_type": "code",
   "execution_count": null,
   "id": "87a05785-5510-4737-ac28-5e5a0dbec151",
   "metadata": {},
   "outputs": [],
   "source": []
  }
 ],
 "metadata": {
  "kernelspec": {
   "display_name": "Python 3 (ipykernel)",
   "language": "python",
   "name": "python3"
  },
  "language_info": {
   "codemirror_mode": {
    "name": "ipython",
    "version": 3
   },
   "file_extension": ".py",
   "mimetype": "text/x-python",
   "name": "python",
   "nbconvert_exporter": "python",
   "pygments_lexer": "ipython3",
   "version": "3.12.3"
  }
 },
 "nbformat": 4,
 "nbformat_minor": 5
}
