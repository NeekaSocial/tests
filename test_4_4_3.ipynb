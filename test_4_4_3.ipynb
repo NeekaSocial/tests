{
 "cells": [
  {
   "cell_type": "code",
   "execution_count": 1,
   "id": "24e64354-14a9-4fa1-ab95-6ac7f7fb82b3",
   "metadata": {},
   "outputs": [],
   "source": [
    "import numpy as np\n",
    "import pandas as pd\n",
    "import random\n",
    "from neeka_lib import *\n",
    "from reddit_helper import *\n",
    "from sklearn.cluster import KMeans"
   ]
  },
  {
   "cell_type": "code",
   "execution_count": 2,
   "id": "8c79d76d-3bb2-45cd-89d5-b83edc0d32d4",
   "metadata": {},
   "outputs": [],
   "source": [
    "# Parameters\n",
    "MIN_VOTES_PER_USER = 4\n",
    "MIN_VOTES_PER_POST = 4\n",
    "N_GRAPH_ITERATIONS = 3\n",
    "VECTOR_LENGTH = 300 # length of user/post embeddings\n",
    "SUBREDDIT_NAMES = ['politics', 'news', 'worldnews']"
   ]
  },
  {
   "cell_type": "code",
   "execution_count": 3,
   "id": "211a1e44-21e8-46e8-b5f5-d83dc3e81028",
   "metadata": {},
   "outputs": [],
   "source": [
    "# get ALL votes\n",
    "all_votes_df = pd.read_csv('reddit_votes_data/44_million_reddit_votes/44_million_votes.txt',sep='\\t')"
   ]
  },
  {
   "cell_type": "code",
   "execution_count": 4,
   "id": "428c84b5-7655-4758-813a-92683a9d487b",
   "metadata": {},
   "outputs": [],
   "source": [
    "# get ALL submissions\n",
    "all_submissions_df = pd.read_csv('reddit_votes_data/submission_info/submission_info.txt',sep='\\t')\n",
    "all_submissions_df.set_index('SUBMISSION_ID',inplace=True)"
   ]
  },
  {
   "cell_type": "code",
   "execution_count": 5,
   "id": "124a95bf-5527-4a21-b10d-0bccc2729d79",
   "metadata": {},
   "outputs": [],
   "source": [
    "# get all submissions in specified subreddits submissions\n",
    "submissions_df = all_submissions_df[all_submissions_df['SUBREDDIT'].isin(SUBREDDIT_NAMES)]\n",
    "\n",
    "# get all submissions in specified subreddits submissions\n",
    "r_subreddit_names = [f'r/{NAME}' for NAME in SUBREDDIT_NAMES]\n",
    "votes_df = all_votes_df[all_votes_df['SUBREDDIT'].isin(r_subreddit_names)]\n",
    "votes_df = all_votes_df[all_votes_df['SUBMISSION_ID'].isin(submissions_df.index)]"
   ]
  },
  {
   "cell_type": "code",
   "execution_count": 6,
   "id": "ebf04562-94c8-4769-a83b-ed96bd4fff8a",
   "metadata": {},
   "outputs": [],
   "source": [
    "votes_df = filter_to_multiple_votes(votes_df, min_usr_votes=MIN_VOTES_PER_USER, min_post_votes=MIN_VOTES_PER_POST)"
   ]
  },
  {
   "cell_type": "code",
   "execution_count": 7,
   "id": "ad825b24-4799-4487-91ec-2f3a0d0b46fc",
   "metadata": {},
   "outputs": [],
   "source": [
    "# get all politics users \n",
    "pol_users = votes_df['USERNAME'].unique()\n",
    "\n",
    "# create our dataframe of users\n",
    "vectors = pd.Series([ np.random.choice([1,-1],VECTOR_LENGTH) for _ in range(len(pol_users)) ])\n",
    "intermediary_vectors = pd.Series([ np.zeros(VECTOR_LENGTH) for _ in range(len(pol_users)) ])\n",
    "\n",
    "users_df = pd.DataFrame({'USERS':pol_users,'VECTOR':vectors, 'INTERMEDIARY':intermediary_vectors})\n",
    "users_df.set_index('USERS',inplace=True)"
   ]
  },
  {
   "cell_type": "code",
   "execution_count": 8,
   "id": "c7d505d3-e050-4206-84b9-c208678b7b50",
   "metadata": {},
   "outputs": [],
   "source": [
    "reset_users(users_df)"
   ]
  },
  {
   "cell_type": "code",
   "execution_count": 9,
   "id": "24260026-4726-4b26-9dac-e5e82fec4ab2",
   "metadata": {},
   "outputs": [
    {
     "name": "stdout",
     "output_type": "stream",
     "text": [
      "          71000 / 71048         \r"
     ]
    }
   ],
   "source": [
    "# Iterate graph to form user embeddings\n",
    "for _ in range(N_GRAPH_ITERATIONS):\n",
    "    iterate_graph(votes_df, users_df)\n",
    "    resolve_graph(users_df)"
   ]
  },
  {
   "cell_type": "code",
   "execution_count": 10,
   "id": "ecf95d4b-1756-4ac0-845f-e4b2e3e43f56",
   "metadata": {},
   "outputs": [
    {
     "name": "stdout",
     "output_type": "stream",
     "text": [
      "0: 7366\n",
      "1: 9870\n"
     ]
    }
   ],
   "source": [
    "# Perform k-means clustering to group users - this is needed for testing\n",
    "kmeans = KMeans(n_clusters=2, random_state=0, n_init='auto')\n",
    "kmeans.fit(  np.stack(users_df['VECTOR'].to_numpy())  )\n",
    "group_labels = kmeans.labels_\n",
    "group_ids, group_counts = np.unique(group_labels, return_counts=True)\n",
    "for grpid, grpcnt in zip(group_ids,group_counts):\n",
    "    print(f'{grpid}: {grpcnt}')"
   ]
  },
  {
   "cell_type": "code",
   "execution_count": 11,
   "id": "5d713b00-f10f-4fa4-9a18-852d19f61620",
   "metadata": {},
   "outputs": [],
   "source": [
    "# Put users into groups - this is needed for testing\n",
    "users_df['GROUP'] = \"NO_GROUP\"\n",
    "users_df.loc[group_labels == 0,'GROUP'] = 'GROUP_0'\n",
    "users_df.loc[group_labels == 1,'GROUP'] = 'GROUP_1' "
   ]
  },
  {
   "cell_type": "code",
   "execution_count": 12,
   "id": "27aa8c79-330e-4069-bc4a-39009692572e",
   "metadata": {},
   "outputs": [],
   "source": [
    "# initialize the posts_df dataframe\n",
    "posts_df = pd.DataFrame({'POST_ID':list(set(votes_df['SUBMISSION_ID']))})\n",
    "posts_df.set_index('POST_ID',inplace=True)\n",
    "reset_post_stats(posts_df)"
   ]
  },
  {
   "cell_type": "code",
   "execution_count": 13,
   "id": "a6f8627e-e011-48f4-a59f-b8d9b6b76e88",
   "metadata": {
    "scrolled": true
   },
   "outputs": [],
   "source": [
    "# calculate some base statistics for each post\n",
    "calculate_post_stats(users_df, votes_df, posts_df)"
   ]
  },
  {
   "cell_type": "code",
   "execution_count": 14,
   "id": "3b930c36-748d-4e84-b686-4938f8ad074b",
   "metadata": {},
   "outputs": [],
   "source": [
    "# calvulate the Neeka score for each post\n",
    "neeka_score_calculation(posts_df)"
   ]
  },
  {
   "cell_type": "code",
   "execution_count": 15,
   "id": "c405e26b-1f68-417a-899c-cebde9084ad1",
   "metadata": {},
   "outputs": [],
   "source": [
    "# calculate percentile rank \n",
    "x_index = np.logical_not(np.logical_or( posts_df['GROUP1_X'].isna(), posts_df['GROUP0_X'].isna())) \n",
    "posts_x_df = posts_df[x_index].copy()\n",
    "calculate_percentile_rank(posts_x_df)"
   ]
  },
  {
   "cell_type": "markdown",
   "id": "074b2f4c-76a5-450b-96d7-d6d1c73702bc",
   "metadata": {},
   "source": [
    "# Results"
   ]
  },
  {
   "cell_type": "markdown",
   "id": "be6f17ed-3250-4cad-9408-02e533afdbe7",
   "metadata": {},
   "source": [
    "### Statistics"
   ]
  },
  {
   "cell_type": "code",
   "execution_count": 16,
   "id": "630850c9-d590-4f89-8bcf-21302063dc91",
   "metadata": {},
   "outputs": [
    {
     "name": "stdout",
     "output_type": "stream",
     "text": [
      "\n",
      "    simple_agreement: 52.24 %\n",
      "    neeka_agreement: 60.96 %\n",
      "    agreement_change: 8.71 %\n",
      "\n",
      "    simple_apolar: 28.23 %\n",
      "    neeka_apolar: 36.53 %\n",
      "    apolar_change: 8.3 %\n",
      "\n",
      "    simple_neutrality: 76.78 %\n",
      "    neeka_neutrality: 86.53 %\n",
      "    neutrality_change: 9.75 %\n",
      "\n",
      "    Overall:\n",
      "    simple_quality: 52.42 %\n",
      "    neeka_quality: 61.34 %\n",
      "    quality_change: 8.92 %\n",
      "\n",
      "    #######################################\n",
      "\n",
      "    simple_group0_bias: 37.11 %\n",
      "    simple_group1_bias: 60.33 %\n",
      "    \n",
      "    neeka_group0_bias: 46.13 %\n",
      "    neeka_group1_bias: 59.6 %\n",
      "    \n"
     ]
    }
   ],
   "source": [
    "results = calculate_test_results(posts_x_df)\n",
    "print_test_results(results)"
   ]
  },
  {
   "cell_type": "markdown",
   "id": "5be8ea92-76b6-4ae4-af99-94e3c5ce11d3",
   "metadata": {},
   "source": [
    "### Most Promoted/Demoted ALL POSTS "
   ]
  },
  {
   "cell_type": "code",
   "execution_count": 17,
   "id": "9fc929b6-3331-4bd9-8ab4-4778a8f6b9e2",
   "metadata": {},
   "outputs": [
    {
     "name": "stdout",
     "output_type": "stream",
     "text": [
      "Most Promoted by **Neeka Consensus** over simple-consensus (most demoted by simple-consensus):\n",
      "1. \"US school 'sorry' for foster care threat over lunch debt\"\n",
      "2. \"Four rockets hit Iraqi military base near Baghdad airport\"\n",
      "3. \"Nearly 175 Saudi military aviation students grounded in U.S. after base shooting\"\n",
      "4. \"Hungary Withdraws From European Singing Competition Because 'It's Too Gay'\"\n",
      "5. \"India to buy US$1 billion of US crude for the first time ever\"\n",
      "6. \"Students called a suicide hotline listed on their ID cards. It was sex hotline instead.\"\n",
      "7. \"Man Shot Dead by UK Police Wanted Girlfriend to Behead Her Parents\"\n",
      "8. \"Trump signs executive order to support moon mining, tap asteroid resources\"\n",
      "9. \"A Russian military ammo depot that blew up earlier this week just exploded again\"\n",
      "10. \"Judge rules law enforcement can’t force suspects to unlock their iPhone with Face ID or Touch ID\"\n",
      "-\n",
      "Most Promoted by **simple-consensus** over Neeka (most demoted by Neeka):\n",
      "1. \"Greta Thunberg is Time's 2019 Person of the Year\"\n",
      "2. \"Trump Named ‘Worst President for Our Environment in History' by Nine Green Groups\"\n",
      "3. \"Greta Thunberg tells cheering crowd 'we will make sure we put world leaders against the wall' if they do not tackle global warming | 'The adults are behaving as if there is no tomorrow but there is a tomorrow, it is the tomorrow where our young people will live &amp; we have to fight for that tomorrow.\"\"\n",
      "4. \"Millennials support socialism because they want to make America great — but for everyone\"\n",
      "5. \"Greta Thunberg says she ‘needs a rest’ as she heads home to Sweden after year of global climate activism. Teen campaigner, this week named Time’s Person of the Year, is currently in Italy leading a ‘Fridays for Future’ demonstration\"\n",
      "6. \"Trump is just 67 votes away from being an ex-President and it's freaking him out\"\n",
      "7. \"Trump launches snide attack on Greta Thunberg after she beats him to Time Person of the Year\"\n",
      "8. \"Yale psychiatrist urges Pelosi: Request 72-hour mental health hold on Trump after Iran attack\"\n",
      "9. \"Republicans Are Talking 'Civil War' Because They Don't Have Any Defense for the President*\"\n",
      "10. \"Trump officials are bending over backwards to say he didn't threaten to commit a war crime after he repeatedly threatened to commit a war crime\"\n"
     ]
    }
   ],
   "source": [
    "sample = posts_df\n",
    "print_most_changed(sample, submissions_df)"
   ]
  },
  {
   "cell_type": "markdown",
   "id": "d5c1d1fb-300f-4855-8042-418c9a380e5f",
   "metadata": {},
   "source": [
    "### Most Promoted/Demoted SAMPLE A"
   ]
  },
  {
   "cell_type": "code",
   "execution_count": 18,
   "id": "b33fbef9-dd37-4f25-8faf-108d3f41a947",
   "metadata": {},
   "outputs": [
    {
     "name": "stdout",
     "output_type": "stream",
     "text": [
      "Most Promoted by **Neeka Consensus** over simple-consensus (most demoted by simple-consensus):\n",
      "1. \"Kevin Spacey accuser Ari Behn, ex of Norwegian princess, died by suicide, manager says\"\n",
      "2. \"eSports player comments on his ban for supporting Hong Kiong: “Today, what I have lost in Hearthstone is four years of time, but if Hong Kong loses it would be the matter of a lifetime.\"\"\n",
      "3. \"Arnold Schwarzenegger said in a press conference that the U.S. Supreme Court's ruling legalizing same-sex marriage nationwide was \"the right decision\" – and he rebuffed those politicians \"not having the balls\" to lead\"\n",
      "4. \"India Warned by Australian Cyber Officials Against Using Huawei: Reports. | Australia in 2018 became the first country to ban Huawei from supplying equipment for a 5G mobile network.\"\n",
      "5. \"A Million People Are Jailed at China's Gulags. I Managed to Escape. Here's What Really Goes on Inside\"\n",
      "6. \"John Kerry on jet lag: \"When I'm flying, I usually take an Ambien and listen to one of my own speeches on my iPod. I'm out in seconds.\"\"\n",
      "7. \"Sergii Leshchenko: Republicans keep lying about me at impeachment hearings\"\n",
      "8. \"Atheists have right to their opinion: Rules Indian High Court\"\n",
      "9. \"Global coronavirus cases are spiking and the World Health Organization warned that \"the window of opportunity is narrowing\" to contain the deadly coronavirus.\"\n",
      "10. \"Video Played at Trump Resort Portrays Him Murdering Media, Opponents\"\n",
      "-\n",
      "Most Promoted by **simple-consensus** over Neeka (most demoted by Neeka):\n",
      "1. \"Donald Trump Gave a Terrible State of the Union Speech. Nancy Pelosi Ripped It Up.\"\n",
      "2. \"Europeans fear relationship with America will only get worse under a Trump second term. “Eight years in political terms is an era, not an error. And it would undermine the reality of American democracy,” said French analyst François Heisbourg.\"\n",
      "3. \"U.S. President Donald Trump fired the federal government's top lawyer Sally Yates on Monday after she took the extraordinarily rare step of defying the White House and refused to defend new travel restrictions targeting seven Muslim-majority nations.\"\n",
      "4. \"Jimmy Carter: 'It would be a disaster to have four more years of Trump'\"\n",
      "5. \"Trump revealed highly classified information to Russian foreign minister and ambassador\"\n",
      "6. \"Trump doubts Russians will meddle in 2020 election, however, Donald Trump’s FBI Director Christopher A. Wray told the Senate Judiciary Committee: “The Russians are absolutely intent on trying to interfere with our elections”\"\n",
      "7. \"Why is McConnell so upset about being called Moscow Mitch? Maybe it hits too close to home\"\n",
      "8. \"Trump press aide Sarah Sanders must be fired after admitting she made false claims, say White House reporters\"\n",
      "9. \"Decade in the Red: Trump Tax Figures Show Over $1 Billion in Business Losses\"\n",
      "10. \"Dear Robert Mueller: Not Testifying Publicly Is an Intensely Political Decision\"\n"
     ]
    }
   ],
   "source": [
    "sample = posts_df.sample(1000)\n",
    "print_most_changed(sample, submissions_df)"
   ]
  },
  {
   "cell_type": "markdown",
   "id": "43613b92-9210-459d-ab19-df1205cf5d5d",
   "metadata": {},
   "source": [
    "### Most Promoted/Demoted SAMPLE B"
   ]
  },
  {
   "cell_type": "code",
   "execution_count": 19,
   "id": "498b6893-adb5-4b0a-b3d0-7c2a158b9ccd",
   "metadata": {},
   "outputs": [
    {
     "name": "stdout",
     "output_type": "stream",
     "text": [
      "Most Promoted by **Neeka Consensus** over simple-consensus (most demoted by simple-consensus):\n",
      "1. \"Trump Met Brazilian Official Who Tested Positive for Coronavirus\"\n",
      "2. \"The drug industry wants us to think Martin Shkreli is a rogue CEO. He isn’t.\"\n",
      "3. \"Teen's TikTok video about China's Muslim camps goes viral\"\n",
      "4. \"Bernie Sanders slams Joe Biden on trade before Michigan rally in Detroit\"\n",
      "5. \"Federal judge pushes back against Trump criticism of handling of Roger Stone case\"\n",
      "6. \"Saturday Morning Political Cartoon Thread\"\n",
      "7. \"The Biggest Social Media Operation You’ve Never Heard Of Is Run Out of Cyprus by Russians\"\n",
      "8. \"The \"What happened in your state last week?\" Megathread, Week 47\"\n",
      "9. \"70 cases of COVID-19 at French schools days after re-opening\"\n",
      "10. \"Judge restores Obama-era drilling ban in Arctic\"\n",
      "-\n",
      "Most Promoted by **simple-consensus** over Neeka (most demoted by Neeka):\n",
      "1. \"Dan Crenshaw is worried that universal background checks might keep him from arming his friends - It is unclear why he doesn't think his friends could pass background checks.\"\n",
      "2. \"CNN sues President Trump and White House for banning reporter Jim Acosta\"\n",
      "3. \"Dow falls 1,700 points as Trump's crisis response underwhelms traders, slams stocks\"\n",
      "4. \"Sanders declares victory in Iowa, says he can 'defeat the most dangerous president in modern American history'\"\n",
      "5. \"Sarah Sanders Admitted to the Special Counsel that She Lied About Comey\"\n",
      "6. \"Milo Yiannopoulos banned from entering Australia following Christchurch shooting comments\"\n",
      "7. \"Climate crisis could cause economic recession ‘like we’ve never seen before’, study warns\"\n",
      "8. \"\"I Would Vote For My Dead Cat Over Trump\": Even Moderate Democrats Say They’d Vote For Bernie Sanders If He’s The Nominee\"\n",
      "9. \"Disney CEO Bob Iger doubts Disney will continue to film in Georgia if abortion law takes effect\"\n",
      "10. \"Planned Parenthood receives $9 million gift to open new clinics in West Texas\"\n"
     ]
    }
   ],
   "source": [
    "sample = posts_df.sample(1000)\n",
    "print_most_changed(sample, submissions_df)"
   ]
  },
  {
   "cell_type": "markdown",
   "id": "a073ac97-8aa0-4f66-b523-942153a30eb3",
   "metadata": {},
   "source": [
    "### Most Promoted/Demoted SAMPLE C"
   ]
  },
  {
   "cell_type": "code",
   "execution_count": 20,
   "id": "ab7b9fb7-8c41-44fc-a8f1-67ffabaa9173",
   "metadata": {},
   "outputs": [
    {
     "name": "stdout",
     "output_type": "stream",
     "text": [
      "Most Promoted by **Neeka Consensus** over simple-consensus (most demoted by simple-consensus):\n",
      "1. \"Rich Sportswriter Cheers Rioters Burning Poor Areas but Calls Them ‘Animals’ When They Get To His\"\n",
      "2. \"US active duty face poor living conditions in on base housing.\"\n",
      "3. \"Support for Trump is fading among active-duty troops, new poll shows\"\n",
      "4. \"North Korea calls Donald Trump 'senile' and 'bereft of reason'\"\n",
      "5. \"Donald Trump incorrect that U.S. dollar is strongest it's ever been\"\n",
      "6. \"U.N. says it has credible reports that China holds million Uighurs in secret camps\"\n",
      "7. \"Gwyneth Paltrow called out by NASA for selling a ten pack of body-stickers for $60 that \"re-balance energy.\"\"\n",
      "8. \"Couple donates bug collection worth $10m, a goldmine for researchers: Collection will help scientists piece together a large branch of insects’ family tree and be a resource for scientists who study natural controls on the environment\"\n",
      "9. \"Video Played at Trump Resort Portrays Him Murdering Media, Opponents\"\n",
      "10. \"UK Child sex abuse inquiry widens scope to other religions outside Christianity for first time -Faiths including Buddhism, Jehovah's Witnesses and Baptists and religious settings such as mosques and synagogues will all fall within the scope of the newly announced probe.\"\n",
      "-\n",
      "Most Promoted by **simple-consensus** over Neeka (most demoted by Neeka):\n",
      "1. \"Greta Thunberg has hit back at adults who “choose to spend their time mocking and threatening teenagers and children for promoting science”, suggesting they “must simply feel so threatened”.\"\n",
      "2. \"William Barr will \"interfere\" in the election to boost Trump, says MSNBC analyst: \"A ruthless...political hack\"\"\n",
      "3. \"A new Fox News poll shows Donald Trump losing to every Democratic frontrunner in the 2020 election\"\n",
      "4. \"Schwarzenegger calls Trump attack on minority lawmakers 'un-American' and 'crude'\"\n",
      "5. \"The President Is a Pandemic-Sized Asshole and When He’s Called on It, He’s Attacks the Media\"\n",
      "6. \"Trump's Use of Pentagon Cash to Prop Up Scottish Resort Latest Example of Why He 'Must Be Impeached': AOC\"\n",
      "7. \"Bernie Sanders could actually win this thing\"\n",
      "8. \"Fox News Poll Shows Trump Losing to Biden, Warren, Sanders and Harris\"\n",
      "9. \"\"I Would Vote For My Dead Cat Over Trump\": Even Moderate Democrats Say They’d Vote For Bernie Sanders If He’s The Nominee\"\n",
      "10. \"Trump Lies To The Troops And Makes Up Fake Afghanistan Cease-Fire\"\n"
     ]
    }
   ],
   "source": [
    "sample = posts_df.sample(1000)\n",
    "print_most_changed(sample, submissions_df)"
   ]
  },
  {
   "cell_type": "code",
   "execution_count": null,
   "id": "bc2bba37-7245-4bb1-a6ea-bcbfac8fedf4",
   "metadata": {},
   "outputs": [],
   "source": []
  },
  {
   "cell_type": "code",
   "execution_count": null,
   "id": "87a05785-5510-4737-ac28-5e5a0dbec151",
   "metadata": {},
   "outputs": [],
   "source": []
  }
 ],
 "metadata": {
  "kernelspec": {
   "display_name": "Python 3 (ipykernel)",
   "language": "python",
   "name": "python3"
  },
  "language_info": {
   "codemirror_mode": {
    "name": "ipython",
    "version": 3
   },
   "file_extension": ".py",
   "mimetype": "text/x-python",
   "name": "python",
   "nbconvert_exporter": "python",
   "pygments_lexer": "ipython3",
   "version": "3.12.3"
  }
 },
 "nbformat": 4,
 "nbformat_minor": 5
}
