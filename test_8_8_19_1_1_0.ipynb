{
 "cells": [
  {
   "cell_type": "code",
   "execution_count": 1,
   "id": "24e64354-14a9-4fa1-ab95-6ac7f7fb82b3",
   "metadata": {},
   "outputs": [],
   "source": [
    "import numpy as np\n",
    "import pandas as pd\n",
    "import random\n",
    "from neeka_lib import *\n",
    "from reddit_helper import *\n",
    "from sklearn.cluster import KMeans"
   ]
  },
  {
   "cell_type": "code",
   "execution_count": 2,
   "id": "8c79d76d-3bb2-45cd-89d5-b83edc0d32d4",
   "metadata": {},
   "outputs": [],
   "source": [
    "# Parameters\n",
    "MIN_VOTES_PER_USER = 8\n",
    "MIN_VOTES_PER_POST = 8\n",
    "N_GRAPH_ITERATIONS = 19\n",
    "DIV_WEIGHT = 1\n",
    "CENT_WEIGHT = 1\n",
    "POL_WEIGHT = 0\n",
    "VECTOR_LENGTH = 300 # length of user/post embeddings\n",
    "SUBREDDIT_NAMES = ['politics', 'news', 'worldnews']"
   ]
  },
  {
   "cell_type": "code",
   "execution_count": 3,
   "id": "211a1e44-21e8-46e8-b5f5-d83dc3e81028",
   "metadata": {},
   "outputs": [],
   "source": [
    "# get ALL votes\n",
    "all_votes_df = pd.read_csv('reddit_votes_data/44_million_reddit_votes/44_million_votes.txt',sep='\\t')"
   ]
  },
  {
   "cell_type": "code",
   "execution_count": 4,
   "id": "428c84b5-7655-4758-813a-92683a9d487b",
   "metadata": {},
   "outputs": [],
   "source": [
    "# get ALL submissions\n",
    "all_submissions_df = pd.read_csv('reddit_votes_data/submission_info/submission_info.txt',sep='\\t')\n",
    "all_submissions_df.set_index('SUBMISSION_ID',inplace=True)"
   ]
  },
  {
   "cell_type": "code",
   "execution_count": 5,
   "id": "124a95bf-5527-4a21-b10d-0bccc2729d79",
   "metadata": {},
   "outputs": [],
   "source": [
    "# get all submissions in specified subreddits submissions\n",
    "submissions_df = all_submissions_df[all_submissions_df['SUBREDDIT'].isin(SUBREDDIT_NAMES)]\n",
    "\n",
    "# get all submissions in specified subreddits submissions\n",
    "r_subreddit_names = [f'r/{NAME}' for NAME in SUBREDDIT_NAMES]\n",
    "votes_df = all_votes_df[all_votes_df['SUBREDDIT'].isin(r_subreddit_names)]\n",
    "votes_df = all_votes_df[all_votes_df['SUBMISSION_ID'].isin(submissions_df.index)]"
   ]
  },
  {
   "cell_type": "code",
   "execution_count": 6,
   "id": "ebf04562-94c8-4769-a83b-ed96bd4fff8a",
   "metadata": {},
   "outputs": [],
   "source": [
    "votes_df = filter_to_multiple_votes(votes_df, min_usr_votes=MIN_VOTES_PER_USER, min_post_votes=MIN_VOTES_PER_POST)"
   ]
  },
  {
   "cell_type": "code",
   "execution_count": 7,
   "id": "ad825b24-4799-4487-91ec-2f3a0d0b46fc",
   "metadata": {},
   "outputs": [],
   "source": [
    "# get all politics users \n",
    "pol_users = votes_df['USERNAME'].unique()\n",
    "\n",
    "# create our dataframe of users\n",
    "vectors = pd.Series([ np.random.choice([1,-1],VECTOR_LENGTH) for _ in range(len(pol_users)) ])\n",
    "intermediary_vectors = pd.Series([ np.zeros(VECTOR_LENGTH) for _ in range(len(pol_users)) ])\n",
    "\n",
    "users_df = pd.DataFrame({'USERS':pol_users,'VECTOR':vectors, 'INTERMEDIARY':intermediary_vectors})\n",
    "users_df.set_index('USERS',inplace=True)"
   ]
  },
  {
   "cell_type": "code",
   "execution_count": 8,
   "id": "c7d505d3-e050-4206-84b9-c208678b7b50",
   "metadata": {},
   "outputs": [],
   "source": [
    "reset_users(users_df)"
   ]
  },
  {
   "cell_type": "code",
   "execution_count": 9,
   "id": "24260026-4726-4b26-9dac-e5e82fec4ab2",
   "metadata": {},
   "outputs": [
    {
     "name": "stdout",
     "output_type": "stream",
     "text": [
      "          35600 / 35608         \r"
     ]
    }
   ],
   "source": [
    "# Iterate graph to form user embeddings\n",
    "for _ in range(N_GRAPH_ITERATIONS):\n",
    "    iterate_graph(votes_df, users_df)\n",
    "    resolve_graph(users_df)"
   ]
  },
  {
   "cell_type": "code",
   "execution_count": 10,
   "id": "ecf95d4b-1756-4ac0-845f-e4b2e3e43f56",
   "metadata": {},
   "outputs": [
    {
     "name": "stdout",
     "output_type": "stream",
     "text": [
      "0: 4606\n",
      "1: 8050\n"
     ]
    }
   ],
   "source": [
    "# Perform k-means clustering to group users - this is needed for testing\n",
    "kmeans = KMeans(n_clusters=2, random_state=0, n_init='auto')\n",
    "kmeans.fit(  np.stack(users_df['VECTOR'].to_numpy())  )\n",
    "group_labels = kmeans.labels_\n",
    "group_ids, group_counts = np.unique(group_labels, return_counts=True)\n",
    "for grpid, grpcnt in zip(group_ids,group_counts):\n",
    "    print(f'{grpid}: {grpcnt}')"
   ]
  },
  {
   "cell_type": "code",
   "execution_count": 11,
   "id": "5d713b00-f10f-4fa4-9a18-852d19f61620",
   "metadata": {},
   "outputs": [],
   "source": [
    "# Put users into groups - this is needed for testing\n",
    "users_df['GROUP'] = \"NO_GROUP\"\n",
    "users_df.loc[group_labels == 0,'GROUP'] = 'GROUP_0'\n",
    "users_df.loc[group_labels == 1,'GROUP'] = 'GROUP_1' "
   ]
  },
  {
   "cell_type": "code",
   "execution_count": 12,
   "id": "27aa8c79-330e-4069-bc4a-39009692572e",
   "metadata": {},
   "outputs": [],
   "source": [
    "# initialize the posts_df dataframe\n",
    "posts_df = pd.DataFrame({'POST_ID':list(set(votes_df['SUBMISSION_ID']))})\n",
    "posts_df.set_index('POST_ID',inplace=True)\n",
    "reset_post_stats(posts_df)"
   ]
  },
  {
   "cell_type": "code",
   "execution_count": 13,
   "id": "a6f8627e-e011-48f4-a59f-b8d9b6b76e88",
   "metadata": {
    "scrolled": true
   },
   "outputs": [],
   "source": [
    "# calculate some base statistics for each post\n",
    "calculate_post_stats(users_df, votes_df, posts_df)"
   ]
  },
  {
   "cell_type": "code",
   "execution_count": 14,
   "id": "3b930c36-748d-4e84-b686-4938f8ad074b",
   "metadata": {},
   "outputs": [],
   "source": [
    "# calvulate the Neeka score for each post\n",
    "neeka_score_calculation(posts_df, div_weight=DIV_WEIGHT, cent_weight=CENT_WEIGHT, pol_weight=POL_WEIGHT)"
   ]
  },
  {
   "cell_type": "code",
   "execution_count": 15,
   "id": "c405e26b-1f68-417a-899c-cebde9084ad1",
   "metadata": {},
   "outputs": [],
   "source": [
    "# calculate percentile rank \n",
    "x_index = np.logical_not(np.logical_or( posts_df['GROUP1_X'].isna(), posts_df['GROUP0_X'].isna())) \n",
    "posts_x_df = posts_df[x_index].copy()\n",
    "calculate_percentile_rank(posts_x_df)"
   ]
  },
  {
   "cell_type": "markdown",
   "id": "074b2f4c-76a5-450b-96d7-d6d1c73702bc",
   "metadata": {},
   "source": [
    "# Results"
   ]
  },
  {
   "cell_type": "markdown",
   "id": "be6f17ed-3250-4cad-9408-02e533afdbe7",
   "metadata": {},
   "source": [
    "### Statistics"
   ]
  },
  {
   "cell_type": "code",
   "execution_count": 16,
   "id": "630850c9-d590-4f89-8bcf-21302063dc91",
   "metadata": {},
   "outputs": [
    {
     "name": "stdout",
     "output_type": "stream",
     "text": [
      "\n",
      "    simple_agreement: 46.5 %\n",
      "    neeka_agreement: 51.45 %\n",
      "    agreement_change: 4.95 %\n",
      "\n",
      "    simple_apolar: 33.87 %\n",
      "    neeka_apolar: 38.24 %\n",
      "    apolar_change: 4.36 %\n",
      "\n",
      "    simple_neutrality: 66.34 %\n",
      "    neeka_neutrality: 72.17 %\n",
      "    neutrality_change: 5.84 %\n",
      "\n",
      "    Overall:\n",
      "    simple_quality: 48.9 %\n",
      "    neeka_quality: 53.95 %\n",
      "    quality_change: 5.05 %\n",
      "\n",
      "    #######################################\n",
      "\n",
      "    simple_group0_bias: 24.86 %\n",
      "    simple_group1_bias: 58.52 %\n",
      "    \n",
      "    neeka_group0_bias: 29.29 %\n",
      "    neeka_group1_bias: 57.12 %\n",
      "    \n"
     ]
    }
   ],
   "source": [
    "results = calculate_test_results(posts_x_df)\n",
    "print_test_results(results)"
   ]
  },
  {
   "cell_type": "markdown",
   "id": "5be8ea92-76b6-4ae4-af99-94e3c5ce11d3",
   "metadata": {},
   "source": [
    "### Most Promoted/Demoted ALL POSTS "
   ]
  },
  {
   "cell_type": "code",
   "execution_count": 17,
   "id": "9fc929b6-3331-4bd9-8ab4-4778a8f6b9e2",
   "metadata": {},
   "outputs": [
    {
     "name": "stdout",
     "output_type": "stream",
     "text": [
      "Most Promoted by **Neeka Consensus** over simple-consensus (most demoted by simple-consensus):\n",
      "1. \"Exclusive: Grand jury returns 16 felony counts against Jussie Smollett\"\n",
      "2. \"Andrew Yang endorses Joe Biden: “The math says” the former VP is the presumptive nominee\"\n",
      "3. \"Trump attacks protections for immigrants from ‘shithole’ countries in Oval Office meeting\"\n",
      "4. \"Andrew Yang accuses NBC of turning off his mic during debate\"\n",
      "5. \"The Great Republican Abdication | A party that no longer believes in American values.\"\n",
      "6. \"Trump’s lawyers seek to undercut Mueller’s Russia investigation\"\n",
      "7. \"Tibetan students and government workers are banned from participating in religious observances, as Chinese authorities continue efforts to separate Tibetans from their cultural heritage and identity.\"\n",
      "8. \"ISIS leader al-Baghdadi believed to have been killed in a US military raid, sources say\"\n",
      "9. \"Google found it was underpaying more men than women for similar jobs.\"\n",
      "10. \"Justin Trudeau brownface photo surfaces ahead of Canada election\"\n",
      "-\n",
      "Most Promoted by **simple-consensus** over Neeka (most demoted by Neeka):\n",
      "1. \"Teenage climate change activist Greta Thunberg said on Monday that talking to Trump at a UN summit on global warming would have been a waste of time since he would not have paid any attention.\"\n",
      "2. \"Pete Buttigieg’s Defense of His Billionaire Funding Is Orwellian\"\n",
      "3. \"Hillary Clinton: The most exonerated politician ever\"\n",
      "4. \"Mr. Impeached Pretend President, What the Fuck Is Wrong With You?\"\n",
      "5. \"Biden and Buttigieg Take Big Bucks From Union-Busting Lawyers\"\n",
      "6. \"A church gun buyback in honor of MLK runs out of money within the first hour\"\n",
      "7. \"`We can do it,' say young believers fueling Sanders campaign\"\n",
      "8. \"Greta Thunberg says her 'demands' to Davos billionaires on climate change 'have been completely ignored' but admits she 'expected nothing less'\"\n",
      "9. \"Eric Trump falsely claims his father spoke to 30,000 people at arena with 8,600 capacity\"\n",
      "10. \"Popular Vote Proponent Pete Buttigieg Claims Victory in State Where Another Guy Got More Votes\"\n"
     ]
    }
   ],
   "source": [
    "sample = posts_df\n",
    "print_most_changed(sample, submissions_df)"
   ]
  },
  {
   "cell_type": "markdown",
   "id": "d5c1d1fb-300f-4855-8042-418c9a380e5f",
   "metadata": {},
   "source": [
    "### Most Promoted/Demoted SAMPLE A"
   ]
  },
  {
   "cell_type": "code",
   "execution_count": 18,
   "id": "b33fbef9-dd37-4f25-8faf-108d3f41a947",
   "metadata": {},
   "outputs": [
    {
     "name": "stdout",
     "output_type": "stream",
     "text": [
      "Most Promoted by **Neeka Consensus** over simple-consensus (most demoted by simple-consensus):\n",
      "1. \"D.C. Circuit sent complaints about Kavanaugh’s testimony to Chief Justice Roberts\"\n",
      "2. \"Ugandan President wants to ban oral sex; says the 'mouth is for eating'\"\n",
      "3. \"A college football fan's sign asking for beer money raised more than $1 million. He's giving it to charity\"\n",
      "4. \"Journalist in Ghana who helped expose FIFA corruption shot dead\"\n",
      "5. \"‘Leave Tanks for Red Square’: Trump’s July 4 Celebration Unsettles Military\"\n",
      "6. \"Michael Avenatti arrested for alleged $20 million extortion attempt on Nike\"\n",
      "7. \"Virginia teacher sues school after being fired for not using transgender student's pronouns\"\n",
      "8. \"Trump sues Deutsche Bank and Capital One to block release of financial records\"\n",
      "9. \"Apple and Samsung fined for deliberately slowing down phones\"\n",
      "10. \"The Senate is yet again trying to pass CISPA.\"\n",
      "-\n",
      "Most Promoted by **simple-consensus** over Neeka (most demoted by Neeka):\n",
      "1. \"Mr. Impeached Pretend President, What the Fuck Is Wrong With You?\"\n",
      "2. \"The .01 Percent Freakout Over Elizabeth Warren Just Makes Her More Powerful\"\n",
      "3. \"After the Nevada Blowout, It’s Bernie’s Party Now\"\n",
      "4. \"We're Ready to 'Reopen the Country,' But Also We Need a Blanket Immigration Ban | This is about American workers. Or wait—health. It's definitely not about changing the subject from testing.\"\n",
      "5. \"ICE deports California gang member convicted of manslaughter on same day he’s released from prison\"\n",
      "6. \"'This is a trap Giuliani and Trump literally walked into': Russia may know more about the Ukraine scandal than we do\"\n",
      "7. \"Birx: 'It bothers me' Trump comments on injecting disinfectant 'still in the news cycle'\"\n",
      "8. \"Trump to face protests by NHS staff when he arrives in London. US president’s visit to UK for Nato summit making Tories nervous about what he may say\"\n",
      "9. \"The Country Could Use a First Lady. But Melania Trump Has Gone AWOL — Melania could be out there sewing masks, visiting caregivers, working at a food bank—whatever. That’s what First Ladies do during crises. So where is she?\"\n",
      "10. \"Bernie Sanders Has All the Right Enemies\"\n"
     ]
    }
   ],
   "source": [
    "sample = posts_df.sample(1000)\n",
    "print_most_changed(sample, submissions_df)"
   ]
  },
  {
   "cell_type": "markdown",
   "id": "43613b92-9210-459d-ab19-df1205cf5d5d",
   "metadata": {},
   "source": [
    "### Most Promoted/Demoted SAMPLE B"
   ]
  },
  {
   "cell_type": "code",
   "execution_count": 19,
   "id": "498b6893-adb5-4b0a-b3d0-7c2a158b9ccd",
   "metadata": {},
   "outputs": [
    {
     "name": "stdout",
     "output_type": "stream",
     "text": [
      "Most Promoted by **Neeka Consensus** over simple-consensus (most demoted by simple-consensus):\n",
      "1. \"Trump attacks protections for immigrants from ‘shithole’ countries in Oval Office meeting\"\n",
      "2. \"IRS, FBI Search Home of Baltimore Mayor Catherine Pugh, Baltimore City Hall\"\n",
      "3. \"The UK, Australia, and US generally have the highest climate denial rates in the world. The big thing they have in common (aside from language) is a major Murdoch media presence\"\n",
      "4. \"Paul Manafort earned $600,000 a month from pro-Russia party, says Ukrainian report\"\n",
      "5. \"Major tech firms urge U.S. to retain net neutrality rules\"\n",
      "6. \"Nigeria goes three years without a case of polio\"\n",
      "7. \"R. Kelly turns himself in to Chicago police after being indicted on sexual abuse charges\"\n",
      "8. \"Trump said on Monday he was worried that any statements under oath he provides Mueller could be used to bring perjury charges against him as part of the probe into Russia’s electoral interference.\"\n",
      "9. \"Dog waited weeks for owners at home burned in Camp fire\"\n",
      "10. \"Trump reveals 87-page response to Mueller findings already created, despite no report released yet, pointing to strongly incriminating finding of collusion on the Russian investigation\"\n",
      "-\n",
      "Most Promoted by **simple-consensus** over Neeka (most demoted by Neeka):\n",
      "1. \"Vice President Mike Pence says climate change is just an issue for the left\"\n",
      "2. \"'Bernie or bust': Yes, electing Sanders is more important than just defeating Trump\"\n",
      "3. \"Napolitano: Ignoring a congressional subpoena is obstruction and an impeachable offense\"\n",
      "4. \"Trump Retweets Photoshopped Image of Nancy Pelosi in a Hijab Because a Muslim Is Obviously More Dangerous Than a Degenerate Wannabe Dictator\"\n",
      "5. \"White House tells supporters it will exit Paris deal\"\n",
      "6. \"Amid National Surge, New Poll Shows Bernie Sanders Top Democrat in New Hampshire\"\n",
      "7. \"Donald Trump Coronavirus Quotes: POTUS Sparks Dementia, Cognitive Decline Rumors With Recent Statements\"\n",
      "8. \"Bernie Sanders Wants All Households To Get $2,000 A Month During The Coronavirus Crisis\"\n",
      "9. \"Mike Pence refuses to condemn Donald Trump Jr. for saying Democrats want Americans to die of the coronavirus\"\n",
      "10. \"House Democrats slam Trump admin for 'illegally withholding' Puerto Rico hurricane aid\"\n"
     ]
    }
   ],
   "source": [
    "sample = posts_df.sample(1000)\n",
    "print_most_changed(sample, submissions_df)"
   ]
  },
  {
   "cell_type": "markdown",
   "id": "a073ac97-8aa0-4f66-b523-942153a30eb3",
   "metadata": {},
   "source": [
    "### Most Promoted/Demoted SAMPLE C"
   ]
  },
  {
   "cell_type": "code",
   "execution_count": 20,
   "id": "ab7b9fb7-8c41-44fc-a8f1-67ffabaa9173",
   "metadata": {},
   "outputs": [
    {
     "name": "stdout",
     "output_type": "stream",
     "text": [
      "Most Promoted by **Neeka Consensus** over simple-consensus (most demoted by simple-consensus):\n",
      "1. \"Andrew Yang endorses Joe Biden: “The math says” the former VP is the presumptive nominee\"\n",
      "2. \"Justin Trudeau brownface photo surfaces ahead of Canada election\"\n",
      "3. \"MMR vaccine does not cause autism, another study confirms\"\n",
      "4. \"Kansas man wrongfully imprisoned for 23 years receives no compensation from state\"\n",
      "5. \"Michael Jordan donates $2 million for Florence relief and recovery aid\"\n",
      "6. \"Thousands arrive at Richmond rally to protest gun-control legislation\"\n",
      "7. \"If I Didn't Know This Was All Rigged, I'd Think Brett Kavanaugh Is in Serious Trouble\"\n",
      "8. \"LDS Church leaders didn't report man who confessed to making child porn, docs say\"\n",
      "9. \"Journalist in Ghana who helped expose FIFA corruption shot dead\"\n",
      "10. \"Houston Chronicle calls on O'Rourke to end White House bid, run for Senate\"\n",
      "-\n",
      "Most Promoted by **simple-consensus** over Neeka (most demoted by Neeka):\n",
      "1. \"Joe Scarborough: The lies Trump told were preposterous\"\n",
      "2. \"Scaramucci calls Trump a 'traitor' to the US\"\n",
      "3. \"Previously undecided Nevada Democrat to vote in favor of impeaching Trump\"\n",
      "4. \"U.S. House Judiciary chief: Democrats likely to subpoena Bolton, continue Trump probe - CNN\"\n",
      "5. \"CDC employee tests positive for COVID-19\"\n",
      "6. \"Sanders Widens Lead In N.H. In New WBUR Poll\"\n",
      "7. \"Ocasio-Cortez, Sanders unveil $180B Green New Deal public housing plan\"\n",
      "8. \"U.S. Has World’s Highest Rate Of Children In Detention: U.N. Study\"\n",
      "9. \"Eric Trump funneled cancer charity money to his business: Report\"\n",
      "10. \"Amazon threatened to fire employees for speaking out on climate, workers say.\"\n"
     ]
    }
   ],
   "source": [
    "sample = posts_df.sample(1000)\n",
    "print_most_changed(sample, submissions_df)"
   ]
  },
  {
   "cell_type": "code",
   "execution_count": null,
   "id": "bc2bba37-7245-4bb1-a6ea-bcbfac8fedf4",
   "metadata": {},
   "outputs": [],
   "source": []
  },
  {
   "cell_type": "code",
   "execution_count": null,
   "id": "87a05785-5510-4737-ac28-5e5a0dbec151",
   "metadata": {},
   "outputs": [],
   "source": []
  }
 ],
 "metadata": {
  "kernelspec": {
   "display_name": "Python 3 (ipykernel)",
   "language": "python",
   "name": "python3"
  },
  "language_info": {
   "codemirror_mode": {
    "name": "ipython",
    "version": 3
   },
   "file_extension": ".py",
   "mimetype": "text/x-python",
   "name": "python",
   "nbconvert_exporter": "python",
   "pygments_lexer": "ipython3",
   "version": "3.12.3"
  }
 },
 "nbformat": 4,
 "nbformat_minor": 5
}
