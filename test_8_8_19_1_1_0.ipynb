{
 "cells": [
  {
   "cell_type": "code",
   "execution_count": 1,
   "id": "24e64354-14a9-4fa1-ab95-6ac7f7fb82b3",
   "metadata": {},
   "outputs": [],
   "source": [
    "import numpy as np\n",
    "import pandas as pd\n",
    "import random\n",
    "from neeka_lib import *\n",
    "from reddit_helper import *\n",
    "from sklearn.cluster import KMeans"
   ]
  },
  {
   "cell_type": "code",
   "execution_count": 2,
   "id": "8c79d76d-3bb2-45cd-89d5-b83edc0d32d4",
   "metadata": {},
   "outputs": [],
   "source": [
    "# Parameters\n",
    "MIN_VOTES_PER_USER = 8\n",
    "MIN_VOTES_PER_POST = 8\n",
    "N_GRAPH_ITERATIONS = 19\n",
    "DIV_WEIGHT = 1\n",
    "CENT_WEIGHT = 1\n",
    "POL_WEIGHT = 0\n",
    "VECTOR_LENGTH = 300 # length of user/post embeddings\n",
    "SUBREDDIT_NAMES = ['politics', 'news', 'worldnews']"
   ]
  },
  {
   "cell_type": "code",
   "execution_count": 3,
   "id": "211a1e44-21e8-46e8-b5f5-d83dc3e81028",
   "metadata": {},
   "outputs": [],
   "source": [
    "# get ALL votes\n",
    "all_votes_df = pd.read_csv('reddit_votes_data/44_million_reddit_votes/44_million_votes.txt',sep='\\t')"
   ]
  },
  {
   "cell_type": "code",
   "execution_count": 4,
   "id": "428c84b5-7655-4758-813a-92683a9d487b",
   "metadata": {},
   "outputs": [],
   "source": [
    "# get ALL submissions\n",
    "all_submissions_df = pd.read_csv('reddit_votes_data/submission_info/submission_info.txt',sep='\\t')\n",
    "all_submissions_df.set_index('SUBMISSION_ID',inplace=True)"
   ]
  },
  {
   "cell_type": "code",
   "execution_count": 5,
   "id": "124a95bf-5527-4a21-b10d-0bccc2729d79",
   "metadata": {},
   "outputs": [],
   "source": [
    "# get all submissions in specified subreddits submissions\n",
    "submissions_df = all_submissions_df[all_submissions_df['SUBREDDIT'].isin(SUBREDDIT_NAMES)]\n",
    "\n",
    "# get all submissions in specified subreddits submissions\n",
    "r_subreddit_names = [f'r/{NAME}' for NAME in SUBREDDIT_NAMES]\n",
    "votes_df = all_votes_df[all_votes_df['SUBREDDIT'].isin(r_subreddit_names)]\n",
    "votes_df = all_votes_df[all_votes_df['SUBMISSION_ID'].isin(submissions_df.index)]"
   ]
  },
  {
   "cell_type": "code",
   "execution_count": 6,
   "id": "ebf04562-94c8-4769-a83b-ed96bd4fff8a",
   "metadata": {},
   "outputs": [],
   "source": [
    "votes_df = filter_to_multiple_votes(votes_df, min_usr_votes=MIN_VOTES_PER_USER, min_post_votes=MIN_VOTES_PER_POST)"
   ]
  },
  {
   "cell_type": "code",
   "execution_count": 7,
   "id": "ad825b24-4799-4487-91ec-2f3a0d0b46fc",
   "metadata": {},
   "outputs": [],
   "source": [
    "# get all politics users \n",
    "pol_users = votes_df['USERNAME'].unique()\n",
    "\n",
    "# create our dataframe of users\n",
    "vectors = pd.Series([ np.random.choice([1,-1],VECTOR_LENGTH) for _ in range(len(pol_users)) ])\n",
    "intermediary_vectors = pd.Series([ np.zeros(VECTOR_LENGTH) for _ in range(len(pol_users)) ])\n",
    "\n",
    "users_df = pd.DataFrame({'USERS':pol_users,'VECTOR':vectors, 'INTERMEDIARY':intermediary_vectors})\n",
    "users_df.set_index('USERS',inplace=True)"
   ]
  },
  {
   "cell_type": "code",
   "execution_count": 8,
   "id": "c7d505d3-e050-4206-84b9-c208678b7b50",
   "metadata": {},
   "outputs": [],
   "source": [
    "reset_users(users_df)"
   ]
  },
  {
   "cell_type": "code",
   "execution_count": 9,
   "id": "24260026-4726-4b26-9dac-e5e82fec4ab2",
   "metadata": {},
   "outputs": [
    {
     "name": "stdout",
     "output_type": "stream",
     "text": [
      "          35600 / 35608         \r"
     ]
    }
   ],
   "source": [
    "# Iterate graph to form user embeddings\n",
    "for _ in range(N_GRAPH_ITERATIONS):\n",
    "    iterate_graph(votes_df, users_df)\n",
    "    resolve_graph(users_df)"
   ]
  },
  {
   "cell_type": "code",
   "execution_count": 10,
   "id": "ecf95d4b-1756-4ac0-845f-e4b2e3e43f56",
   "metadata": {},
   "outputs": [
    {
     "name": "stdout",
     "output_type": "stream",
     "text": [
      "0: 4587\n",
      "1: 8069\n"
     ]
    }
   ],
   "source": [
    "# Perform k-means clustering to group users - this is needed for testing\n",
    "kmeans = KMeans(n_clusters=2, random_state=0, n_init='auto')\n",
    "kmeans.fit(  np.stack(users_df['VECTOR'].to_numpy())  )\n",
    "group_labels = kmeans.labels_\n",
    "group_ids, group_counts = np.unique(group_labels, return_counts=True)\n",
    "for grpid, grpcnt in zip(group_ids,group_counts):\n",
    "    print(f'{grpid}: {grpcnt}')"
   ]
  },
  {
   "cell_type": "code",
   "execution_count": 11,
   "id": "5d713b00-f10f-4fa4-9a18-852d19f61620",
   "metadata": {},
   "outputs": [],
   "source": [
    "# Put users into groups - this is needed for testing\n",
    "users_df['GROUP'] = \"NO_GROUP\"\n",
    "users_df.loc[group_labels == 0,'GROUP'] = 'GROUP_0'\n",
    "users_df.loc[group_labels == 1,'GROUP'] = 'GROUP_1' "
   ]
  },
  {
   "cell_type": "code",
   "execution_count": 12,
   "id": "27aa8c79-330e-4069-bc4a-39009692572e",
   "metadata": {},
   "outputs": [],
   "source": [
    "# initialize the posts_df dataframe\n",
    "posts_df = pd.DataFrame({'POST_ID':list(set(votes_df['SUBMISSION_ID']))})\n",
    "posts_df.set_index('POST_ID',inplace=True)\n",
    "reset_post_stats(posts_df)"
   ]
  },
  {
   "cell_type": "code",
   "execution_count": 13,
   "id": "a6f8627e-e011-48f4-a59f-b8d9b6b76e88",
   "metadata": {
    "scrolled": true
   },
   "outputs": [],
   "source": [
    "# calculate some base statistics for each post\n",
    "calculate_post_stats(users_df, votes_df, posts_df)"
   ]
  },
  {
   "cell_type": "code",
   "execution_count": 14,
   "id": "3b930c36-748d-4e84-b686-4938f8ad074b",
   "metadata": {},
   "outputs": [],
   "source": [
    "# calvulate the Neeka score for each post\n",
    "neeka_score_calculation(posts_df, div_weight=DIV_WEIGHT, cent_weight=CENT_WEIGHT, pol_weight=POL_WEIGHT)"
   ]
  },
  {
   "cell_type": "code",
   "execution_count": 15,
   "id": "c405e26b-1f68-417a-899c-cebde9084ad1",
   "metadata": {},
   "outputs": [],
   "source": [
    "# calculate percentile rank \n",
    "x_index = np.logical_not(np.logical_or( posts_df['GROUP1_X'].isna(), posts_df['GROUP0_X'].isna())) \n",
    "posts_x_df = posts_df[x_index].copy()\n",
    "calculate_percentile_rank(posts_x_df)"
   ]
  },
  {
   "cell_type": "markdown",
   "id": "074b2f4c-76a5-450b-96d7-d6d1c73702bc",
   "metadata": {},
   "source": [
    "# Results"
   ]
  },
  {
   "cell_type": "markdown",
   "id": "be6f17ed-3250-4cad-9408-02e533afdbe7",
   "metadata": {},
   "source": [
    "### Statistics"
   ]
  },
  {
   "cell_type": "code",
   "execution_count": 16,
   "id": "630850c9-d590-4f89-8bcf-21302063dc91",
   "metadata": {},
   "outputs": [
    {
     "name": "stdout",
     "output_type": "stream",
     "text": [
      "\n",
      "    simple_agreement: 46.25 %\n",
      "    neeka_agreement: 65.33 %\n",
      "    agreement_change: 19.08 %\n",
      "\n",
      "    simple_apolar: 33.62 %\n",
      "    neeka_apolar: 54.21 %\n",
      "    apolar_change: 20.59 %\n",
      "\n",
      "    simple_neutrality: 66.2 %\n",
      "    neeka_neutrality: 93.55 %\n",
      "    neutrality_change: 27.36 %\n",
      "\n",
      "    Overall:\n",
      "    simple_quality: 48.69 %\n",
      "    neeka_quality: 71.03 %\n",
      "    quality_change: 22.34 %\n",
      "\n",
      "    #######################################\n",
      "\n",
      "    simple_group0_bias: 24.74 %\n",
      "    simple_group1_bias: 58.55 %\n",
      "    \n",
      "    neeka_group0_bias: 44.84 %\n",
      "    neeka_group1_bias: 51.29 %\n",
      "    \n"
     ]
    }
   ],
   "source": [
    "results = calculate_test_results(posts_x_df)\n",
    "print_test_results(results)"
   ]
  },
  {
   "cell_type": "markdown",
   "id": "5be8ea92-76b6-4ae4-af99-94e3c5ce11d3",
   "metadata": {},
   "source": [
    "### Most Promoted/Demoted ALL POSTS "
   ]
  },
  {
   "cell_type": "code",
   "execution_count": 17,
   "id": "9fc929b6-3331-4bd9-8ab4-4778a8f6b9e2",
   "metadata": {},
   "outputs": [
    {
     "name": "stdout",
     "output_type": "stream",
     "text": [
      "Most Promoted by **Neeka Consensus** over simple-consensus (most demoted by simple-consensus):\n",
      "1. \"Apple and Samsung fined for deliberately slowing down phones\"\n",
      "2. \"FBI: Nation-state actors have breached two US municipalities\"\n",
      "3. \"A former neighbor of Joe Biden's accuser Tara Reade has come forward to corroborate her sexual assault account, saying Reade discussed the allegations in detail in the mid-1990s\"\n",
      "4. \"Spain: prosecutors claim attack not rape as victim ‘did not fight back’ - Six men accused of sexual abuse of 14-year-old girl in abandoned factory in Manresa\"\n",
      "5. \"Rapper Pop Smoke killed in home invasion\"\n",
      "6. \"Not a conspiracy anymore\"\n",
      "7. \"Feb. 11 Is 'The Day We Fight Back' Against NSA Surveillance | More than 5,300 web-based companies and other organizations, including Reddit, Imgur, Tumblr, Mozilla the Electronic Frontier Foundation and the ACLU, have joined forces to protest National Security Agency surveillance on Feb. 11.\"\n",
      "8. \"Banksy says that most \"Banksy\" works are fake\"\n",
      "9. \"Iceland sentences 26 corrupt bankers to 74 years in prison\"\n",
      "10. \"Houston Chronicle calls on O'Rourke to end White House bid, run for Senate\"\n",
      "-\n",
      "Most Promoted by **simple-consensus** over Neeka (most demoted by Neeka):\n",
      "1. \"Europeans fear relationship with America will only get worse under a Trump second term. “Eight years in political terms is an era, not an error. And it would undermine the reality of American democracy,” said French analyst François Heisbourg.\"\n",
      "2. \"Experts say Trump firing of 3 officials including Sondland and Vindman is a ‘criminal’ offense\"\n",
      "3. \"Trump Named ‘Worst President for Our Environment in History' by Nine Green Groups\"\n",
      "4. \"Trump launches snide attack on Greta Thunberg after she beats him to Time Person of the Year\"\n",
      "5. \"Skeptics Blast Trump's New Claim That Soleimani Targeted 4 US Embassies: \"Either Fox News gets higher level briefings than Congress ... or there was no such imminent threat,\" charged Sen. Chris Murphy.\"\n",
      "6. \"Kim Jong Un Wants Trump To Win In 2020, Former White House Adviser Says: 'All The Bad Guys Want Trump To Win'\"\n",
      "7. \"Greta Thunberg is Time's 2019 Person of the Year\"\n",
      "8. \"It Is Beginning to Look Like the U.S. Has a Corruption Problem, Not Ukraine\"\n",
      "9. \"No, Mr. President, healthcare workers aren’t stealing masks. You failed them.\"\n",
      "10. \"Trump officials are bending over backwards to say he didn't threaten to commit a war crime after he repeatedly threatened to commit a war crime\"\n"
     ]
    }
   ],
   "source": [
    "sample = posts_df\n",
    "print_most_changed(sample, submissions_df)"
   ]
  },
  {
   "cell_type": "markdown",
   "id": "d5c1d1fb-300f-4855-8042-418c9a380e5f",
   "metadata": {},
   "source": [
    "### Most Promoted/Demoted SAMPLE A"
   ]
  },
  {
   "cell_type": "code",
   "execution_count": 18,
   "id": "b33fbef9-dd37-4f25-8faf-108d3f41a947",
   "metadata": {},
   "outputs": [
    {
     "name": "stdout",
     "output_type": "stream",
     "text": [
      "Most Promoted by **Neeka Consensus** over simple-consensus (most demoted by simple-consensus):\n",
      "1. \"Two years after Ireland introduced some of the strictest laws in the world on lobbying transparency, the reforms are being held up as the gold standard for policymakers looking to shine a light on the often murky world of influence peddling.\"\n",
      "2. \"Germany cuts fares for long-distance rail travel in response to climate crisis\"\n",
      "3. \"Walmart says it will raise age restriction to 21 for gun purchases, remove items resembling assault-style rifles from website\"\n",
      "4. \"Sanders Files Bill to Break Up Big Banks\"\n",
      "5. \"Comey: ‘If this were a case about somebody other than the president, they'd already have been indicted’\"\n",
      "6. \"Trump Taunts Democrats: “We Have All the Material. They Don’t Have the Material.”\"\n",
      "7. \"Fast food cashier and manager fired for refusing to serve police officer\"\n",
      "8. \"St. Louis will drop minimum wage from $10 to $7.70.\"\n",
      "9. \"FDA: CBD and hemp are now legal in the U.S\"\n",
      "10. \"Motorcade carrying the U.S. Ambassador to Bangladesh was attacked by a group of armed men in the country's capital Dhaka\"\n",
      "-\n",
      "Most Promoted by **simple-consensus** over Neeka (most demoted by Neeka):\n",
      "1. \"Greta Thunberg tells cheering crowd 'we will make sure we put world leaders against the wall' if they do not tackle global warming | 'The adults are behaving as if there is no tomorrow but there is a tomorrow, it is the tomorrow where our young people will live &amp; we have to fight for that tomorrow.\"\"\n",
      "2. \"Germany mass shooting: Man who shot nine dead at Hanau shisha bars was far-right, confession letter reveals\"\n",
      "3. \"Donald Trump has violated his oath. Mitch McConnell is about to violate 2.\"\n",
      "4. \"Trump’s ignorant son-in-law is running the coronavirus response. That’s unacceptable.\"\n",
      "5. \"Public support for Trump conviction at all-time high, poll finds\"\n",
      "6. \"Bernie Sanders is looking indestructible\"\n",
      "7. \"Keep calling him #MoscowMitch: McConnell is finally running scared\"\n",
      "8. \"‘We could make history’: Young voters spearhead campaign to unseat Boris Johnson - Hundreds expected to take part in demonstration in prime minister's constituency\"\n",
      "9. \"As Trump Tweets He Is 'Bringing Soldiers Home,' Pentagon Chief Says US Forces Leaving Syria Are Shifting to Iraq: \"We simply cannot believe anything the Trump administration says - and neither can our allies.\"\"\n",
      "10. \"Republicans wake to a blue Virginia\"\n"
     ]
    }
   ],
   "source": [
    "sample = posts_df.sample(1000)\n",
    "print_most_changed(sample, submissions_df)"
   ]
  },
  {
   "cell_type": "markdown",
   "id": "43613b92-9210-459d-ab19-df1205cf5d5d",
   "metadata": {},
   "source": [
    "### Most Promoted/Demoted SAMPLE B"
   ]
  },
  {
   "cell_type": "code",
   "execution_count": 19,
   "id": "498b6893-adb5-4b0a-b3d0-7c2a158b9ccd",
   "metadata": {},
   "outputs": [
    {
     "name": "stdout",
     "output_type": "stream",
     "text": [
      "Most Promoted by **Neeka Consensus** over simple-consensus (most demoted by simple-consensus):\n",
      "1. \"US announces withdrawal from TPP\"\n",
      "2. \"Mitch McConnell should drop the lame excuses. Let the Senate vote on bipartisan justice, prison reforms.\"\n",
      "3. \"FCC chairman warns about China's 'leverage' over NBA: Imagine what Beijing can do with 5G networks\"\n",
      "4. \"Republican candidate body-slams Guardian reporter in Montana\"\n",
      "5. \"Trump Administration to LGBT Couples: Your ‘Out of Wedlock’ Kids Aren’t Citizens\"\n",
      "6. \"West Virginia Law Makers Vote to Let Foster Care Agencies Turn Away LGBTQ Children, Parents\"\n",
      "7. \"First bear in Germany in 16 years\"\n",
      "8. \"Houston billionaire Tilman Fertitta furloughed 40,000 workers nationwide\"\n",
      "9. \"China Tears Down the Tibetan City in the Sky: demolishing homes and evicting thousands from Larung Gar, the world’s largest Tibetan Buddhist institution\"\n",
      "10. \"Mass Shooting in Virginia: Witnesses Say Gunman Opened Fire on Members of Congress\"\n",
      "-\n",
      "Most Promoted by **simple-consensus** over Neeka (most demoted by Neeka):\n",
      "1. \"Oversight erased, Supreme Court hijacked: Trump turns the presidency into a dictatorship\"\n",
      "2. \"Our Dunning-Kruger president: Trump's arrogance and ignorance are killing people. When stupid people think they're smart, they do maximum damage. That's where we are with Trump and the pandemic\"\n",
      "3. \"Outrage and Disgust After 'Serial Killer' Navy SEAL, Pardoned by Trump for War Crimes, Rebrands as Conservative Influencer: In Iraq, Gallagher allegedly committed a number of war crimes, including killing a 15-yr-old. Gallagher was acquitted of all crimes other than posing with the child's body\"\n",
      "4. \"Trump's death cult finally says it: Time to kill the \"useless eaters\" for capitalism. Republicans say the quiet part out loud: Americans must die of the coronavirus in order to save capitalism\"\n",
      "5. \"Ohio lawmaker says she'll press crimes against humanity charge against Trump over drug promotion\"\n",
      "6. \"'The Door Is Open, Come On In,' Sanders Says to Buttigieg and Klobuchar Supporters as Centrists Line Up Behind Biden; Sanders said the former candidates' supporters \"understand that we have got to move toward a government which believes in justice, not greed.\"\"\n",
      "7. \"'One of the Most Brazen Acts of Voter Suppression in Modern Times' as US Supreme Court Blocks Absentee Ballot Extension in Wisconsin. Justice Ruth Bader Ginsburg warned in a scathing dissent that the right-wing majority's ruling \"will result in massive disenfranchisement.\"\"\n",
      "8. \"Ex-GOP congressman slams republicans' 'illiterate defense' of Trump: 'They promise not to read reports'\"\n",
      "9. \"Macron wins French presidency by decisive margin over Le Pen\"\n",
      "10. \"There Were No 'Moderate Republicans' in the Senate on Tuesday. Only Collaborators.\"\n"
     ]
    }
   ],
   "source": [
    "sample = posts_df.sample(1000)\n",
    "print_most_changed(sample, submissions_df)"
   ]
  },
  {
   "cell_type": "markdown",
   "id": "a073ac97-8aa0-4f66-b523-942153a30eb3",
   "metadata": {},
   "source": [
    "### Most Promoted/Demoted SAMPLE C"
   ]
  },
  {
   "cell_type": "code",
   "execution_count": 20,
   "id": "ab7b9fb7-8c41-44fc-a8f1-67ffabaa9173",
   "metadata": {},
   "outputs": [
    {
     "name": "stdout",
     "output_type": "stream",
     "text": [
      "Most Promoted by **Neeka Consensus** over simple-consensus (most demoted by simple-consensus):\n",
      "1. \"Doctor who exposed Sars cover-up under house arrest in China, family confirms\"\n",
      "2. \"Hong Kong protests: second car rams protesters as teargas deployed\"\n",
      "3. \"Wisconsin judge: Strip clubs should be eligible for emergency loans\"\n",
      "4. \"Salman Khan and his Khan Academy online platform that offers free classes worldwide have won Spain's Princess of Asturias award for international cooperation.\"\n",
      "5. \"Newly found video evidence may indicate turkish coup was facade\"\n",
      "6. \"'Medicare-for-all' gets unexpected surge of support, even in red states\"\n",
      "7. \"\"FCC’s claim that one ISP counts as “competition” faces scrutiny in court\"\"\n",
      "8. \"Democrat Warren vows to use 'every tool' to combat white nationalist violence\"\n",
      "9. \"The UK, Australia, and US generally have the highest climate denial rates in the world. The big thing they have in common (aside from language) is a major Murdoch media presence\"\n",
      "10. \"Opinion: I Asked Joe Biden A Tough Question, So He Called Me A Child. He Wants To Be President?\"\n",
      "-\n",
      "Most Promoted by **simple-consensus** over Neeka (most demoted by Neeka):\n",
      "1. \"Bernie’s Democratic Socialism Is a Strength, Not a Weakness. All the best things in America were once decried as socialist: Medicare, unions, Social Security. Bernie’s democratic socialism is his strength, and we shouldn’t shy away from talking about it.\"\n",
      "2. \"Trump officials are bending over backwards to say he didn't threaten to commit a war crime after he repeatedly threatened to commit a war crime\"\n",
      "3. \"Greta Thunberg apologises after saying politicians should be ‘put against the wall’. 'That’s what happens when you improvise speeches in a second language’ the 16-year-old said following criticism\"\n",
      "4. \"Right-wing pundits' shameless pivot: It was a \"hoax,\" but now it's an \"emergency\". After weeks of minimizing coronavirus, now conservatives are trying to blame Democrats for the pandemic\"\n",
      "5. \"Trump ruined a G7 summit dinner by insisting the group readmit Russia\"\n",
      "6. \"Trump Brags About Serving Up American Troops to Saudi Arabia for Nothing More Than Cash\"\n",
      "7. \"The U.S. President Was Credibly Accused of Rape—But It Didn't Make Front-Page News\"\n",
      "8. \"Rubio Admitted in 2015 That Sanders' Socialism Was Not Cuban Communism\"\n",
      "9. \"Judge Rules Against Trump's Attempt to Log in America's Largest National Forest\"\n",
      "10. \"Lt. Col. Alexander Vindman said during Tuesday's impeachment hearing that the conspiracy theory that Ukraine interfered in the 2016 presidential election is \"a Russian narrative that President [Vladimir] Putin has promoted.\"\"\n"
     ]
    }
   ],
   "source": [
    "sample = posts_df.sample(1000)\n",
    "print_most_changed(sample, submissions_df)"
   ]
  },
  {
   "cell_type": "code",
   "execution_count": null,
   "id": "bc2bba37-7245-4bb1-a6ea-bcbfac8fedf4",
   "metadata": {},
   "outputs": [],
   "source": []
  },
  {
   "cell_type": "code",
   "execution_count": null,
   "id": "87a05785-5510-4737-ac28-5e5a0dbec151",
   "metadata": {},
   "outputs": [],
   "source": []
  }
 ],
 "metadata": {
  "kernelspec": {
   "display_name": "Python 3 (ipykernel)",
   "language": "python",
   "name": "python3"
  },
  "language_info": {
   "codemirror_mode": {
    "name": "ipython",
    "version": 3
   },
   "file_extension": ".py",
   "mimetype": "text/x-python",
   "name": "python",
   "nbconvert_exporter": "python",
   "pygments_lexer": "ipython3",
   "version": "3.12.3"
  }
 },
 "nbformat": 4,
 "nbformat_minor": 5
}
