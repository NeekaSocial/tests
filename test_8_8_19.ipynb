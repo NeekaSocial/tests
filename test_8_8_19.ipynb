{
 "cells": [
  {
   "cell_type": "code",
   "execution_count": 1,
   "id": "24e64354-14a9-4fa1-ab95-6ac7f7fb82b3",
   "metadata": {},
   "outputs": [],
   "source": [
    "import numpy as np\n",
    "import pandas as pd\n",
    "import random\n",
    "from neeka_lib import *\n",
    "from reddit_helper import *\n",
    "from sklearn.cluster import KMeans"
   ]
  },
  {
   "cell_type": "code",
   "execution_count": 2,
   "id": "8c79d76d-3bb2-45cd-89d5-b83edc0d32d4",
   "metadata": {},
   "outputs": [],
   "source": [
    "# Parameters\n",
    "MIN_VOTES_PER_USER = 8\n",
    "MIN_VOTES_PER_POST = 8\n",
    "N_GRAPH_ITERATIONS = 19\n",
    "VECTOR_LENGTH = 300 # length of user/post embeddings\n",
    "SUBREDDIT_NAMES = ['politics', 'news', 'worldnews']"
   ]
  },
  {
   "cell_type": "code",
   "execution_count": 3,
   "id": "211a1e44-21e8-46e8-b5f5-d83dc3e81028",
   "metadata": {},
   "outputs": [],
   "source": [
    "# get ALL votes\n",
    "all_votes_df = pd.read_csv('reddit_votes_data/44_million_reddit_votes/44_million_votes.txt',sep='\\t')"
   ]
  },
  {
   "cell_type": "code",
   "execution_count": 4,
   "id": "428c84b5-7655-4758-813a-92683a9d487b",
   "metadata": {},
   "outputs": [],
   "source": [
    "# get ALL submissions\n",
    "all_submissions_df = pd.read_csv('reddit_votes_data/submission_info/submission_info.txt',sep='\\t')\n",
    "all_submissions_df.set_index('SUBMISSION_ID',inplace=True)"
   ]
  },
  {
   "cell_type": "code",
   "execution_count": 5,
   "id": "124a95bf-5527-4a21-b10d-0bccc2729d79",
   "metadata": {},
   "outputs": [],
   "source": [
    "# get all submissions in specified subreddits submissions\n",
    "submissions_df = all_submissions_df[all_submissions_df['SUBREDDIT'].isin(SUBREDDIT_NAMES)]\n",
    "\n",
    "# get all submissions in specified subreddits submissions\n",
    "r_subreddit_names = [f'r/{NAME}' for NAME in SUBREDDIT_NAMES]\n",
    "votes_df = all_votes_df[all_votes_df['SUBREDDIT'].isin(r_subreddit_names)]\n",
    "votes_df = all_votes_df[all_votes_df['SUBMISSION_ID'].isin(submissions_df.index)]"
   ]
  },
  {
   "cell_type": "code",
   "execution_count": 6,
   "id": "ebf04562-94c8-4769-a83b-ed96bd4fff8a",
   "metadata": {},
   "outputs": [],
   "source": [
    "votes_df = filter_to_multiple_votes(votes_df, min_usr_votes=MIN_VOTES_PER_USER, min_post_votes=MIN_VOTES_PER_POST)"
   ]
  },
  {
   "cell_type": "code",
   "execution_count": 7,
   "id": "c322c737-0361-4d39-9cf7-336d96337c51",
   "metadata": {},
   "outputs": [
    {
     "data": {
      "text/plain": [
       "1174890"
      ]
     },
     "execution_count": 7,
     "metadata": {},
     "output_type": "execute_result"
    }
   ],
   "source": [
    "len(votes_df)"
   ]
  },
  {
   "cell_type": "code",
   "execution_count": 8,
   "id": "2c3e9c5a-ef79-4584-aa33-c82b24f488d5",
   "metadata": {},
   "outputs": [
    {
     "data": {
      "text/plain": [
       "1174890"
      ]
     },
     "execution_count": 8,
     "metadata": {},
     "output_type": "execute_result"
    }
   ],
   "source": [
    "votes_df = filter_to_multiple_votes(votes_df, min_usr_votes=MIN_VOTES_PER_USER, min_post_votes=MIN_VOTES_PER_POST)\n",
    "len(votes_df)"
   ]
  },
  {
   "cell_type": "code",
   "execution_count": 9,
   "id": "ad825b24-4799-4487-91ec-2f3a0d0b46fc",
   "metadata": {},
   "outputs": [],
   "source": [
    "# get all politics users \n",
    "pol_users = votes_df['USERNAME'].unique()\n",
    "\n",
    "# create our dataframe of users\n",
    "vectors = pd.Series([ np.random.choice([1,-1],VECTOR_LENGTH) for _ in range(len(pol_users)) ])\n",
    "intermediary_vectors = pd.Series([ np.zeros(VECTOR_LENGTH) for _ in range(len(pol_users)) ])\n",
    "\n",
    "users_df = pd.DataFrame({'USERS':pol_users,'VECTOR':vectors, 'INTERMEDIARY':intermediary_vectors})\n",
    "users_df.set_index('USERS',inplace=True)"
   ]
  },
  {
   "cell_type": "code",
   "execution_count": 10,
   "id": "c7d505d3-e050-4206-84b9-c208678b7b50",
   "metadata": {},
   "outputs": [],
   "source": [
    "reset_users(users_df)"
   ]
  },
  {
   "cell_type": "code",
   "execution_count": 11,
   "id": "24260026-4726-4b26-9dac-e5e82fec4ab2",
   "metadata": {},
   "outputs": [
    {
     "name": "stdout",
     "output_type": "stream",
     "text": [
      "          35600 / 35608         \r"
     ]
    }
   ],
   "source": [
    "# Iterate graph to form user embeddings\n",
    "for _ in range(N_GRAPH_ITERATIONS):\n",
    "    iterate_graph(votes_df, users_df)\n",
    "    resolve_graph(users_df)"
   ]
  },
  {
   "cell_type": "code",
   "execution_count": 12,
   "id": "ecf95d4b-1756-4ac0-845f-e4b2e3e43f56",
   "metadata": {},
   "outputs": [
    {
     "name": "stdout",
     "output_type": "stream",
     "text": [
      "0: 4597\n",
      "1: 8059\n"
     ]
    }
   ],
   "source": [
    "# Perform k-means clustering to group users - this is needed for testing\n",
    "kmeans = KMeans(n_clusters=2, random_state=0, n_init='auto')\n",
    "kmeans.fit(  np.stack(users_df['VECTOR'].to_numpy())  )\n",
    "group_labels = kmeans.labels_\n",
    "group_ids, group_counts = np.unique(group_labels, return_counts=True)\n",
    "for grpid, grpcnt in zip(group_ids,group_counts):\n",
    "    print(f'{grpid}: {grpcnt}')"
   ]
  },
  {
   "cell_type": "code",
   "execution_count": 13,
   "id": "5d713b00-f10f-4fa4-9a18-852d19f61620",
   "metadata": {},
   "outputs": [],
   "source": [
    "# Put users into groups - this is needed for testing\n",
    "users_df['GROUP'] = \"NO_GROUP\"\n",
    "users_df.loc[group_labels == 0,'GROUP'] = 'GROUP_0'\n",
    "users_df.loc[group_labels == 1,'GROUP'] = 'GROUP_1' "
   ]
  },
  {
   "cell_type": "code",
   "execution_count": 14,
   "id": "27aa8c79-330e-4069-bc4a-39009692572e",
   "metadata": {},
   "outputs": [],
   "source": [
    "# initialize the posts_df dataframe\n",
    "posts_df = pd.DataFrame({'POST_ID':list(set(votes_df['SUBMISSION_ID']))})\n",
    "posts_df.set_index('POST_ID',inplace=True)\n",
    "reset_post_stats(posts_df)"
   ]
  },
  {
   "cell_type": "code",
   "execution_count": 15,
   "id": "a6f8627e-e011-48f4-a59f-b8d9b6b76e88",
   "metadata": {
    "scrolled": true
   },
   "outputs": [],
   "source": [
    "# calculate some base statistics for each post\n",
    "calculate_post_stats(users_df, votes_df, posts_df)"
   ]
  },
  {
   "cell_type": "code",
   "execution_count": 16,
   "id": "3b930c36-748d-4e84-b686-4938f8ad074b",
   "metadata": {},
   "outputs": [],
   "source": [
    "# calvulate the Neeka score for each post\n",
    "neeka_score_calculation(posts_df)"
   ]
  },
  {
   "cell_type": "code",
   "execution_count": 17,
   "id": "c405e26b-1f68-417a-899c-cebde9084ad1",
   "metadata": {},
   "outputs": [],
   "source": [
    "# calculate percentile rank \n",
    "x_index = np.logical_not(np.logical_or( posts_df['GROUP1_X'].isna(), posts_df['GROUP0_X'].isna())) \n",
    "posts_x_df = posts_df[x_index].copy()\n",
    "calculate_percentile_rank(posts_x_df)"
   ]
  },
  {
   "cell_type": "markdown",
   "id": "074b2f4c-76a5-450b-96d7-d6d1c73702bc",
   "metadata": {},
   "source": [
    "# Results"
   ]
  },
  {
   "cell_type": "markdown",
   "id": "be6f17ed-3250-4cad-9408-02e533afdbe7",
   "metadata": {},
   "source": [
    "### Statistics"
   ]
  },
  {
   "cell_type": "code",
   "execution_count": 18,
   "id": "630850c9-d590-4f89-8bcf-21302063dc91",
   "metadata": {},
   "outputs": [
    {
     "name": "stdout",
     "output_type": "stream",
     "text": [
      "\n",
      "    simple_agreement: 46.21 %\n",
      "    neeka_agreement: 65.27 %\n",
      "    agreement_change: 19.06 %\n",
      "\n",
      "    simple_apolar: 33.42 %\n",
      "    neeka_apolar: 54.0 %\n",
      "    apolar_change: 20.58 %\n",
      "\n",
      "    simple_neutrality: 66.32 %\n",
      "    neeka_neutrality: 93.9 %\n",
      "    neutrality_change: 27.58 %\n",
      "\n",
      "    Overall:\n",
      "    simple_quality: 48.65 %\n",
      "    neeka_quality: 71.06 %\n",
      "    quality_change: 22.41 %\n",
      "\n",
      "    #######################################\n",
      "\n",
      "    simple_group0_bias: 24.84 %\n",
      "    simple_group1_bias: 58.52 %\n",
      "    \n",
      "    neeka_group0_bias: 45.05 %\n",
      "    neeka_group1_bias: 51.15 %\n",
      "    \n"
     ]
    }
   ],
   "source": [
    "results = calculate_test_results(posts_x_df)\n",
    "print_test_results(results)"
   ]
  },
  {
   "cell_type": "markdown",
   "id": "5be8ea92-76b6-4ae4-af99-94e3c5ce11d3",
   "metadata": {},
   "source": [
    "### Most Promoted/Demoted ALL POSTS "
   ]
  },
  {
   "cell_type": "code",
   "execution_count": 19,
   "id": "9fc929b6-3331-4bd9-8ab4-4778a8f6b9e2",
   "metadata": {},
   "outputs": [
    {
     "name": "stdout",
     "output_type": "stream",
     "text": [
      "Most Promoted by **Neeka Consensus** over simple-consensus (most demoted by simple-consensus):\n",
      "1. \"Apple and Samsung fined for deliberately slowing down phones\"\n",
      "2. \"FBI: Nation-state actors have breached two US municipalities\"\n",
      "3. \"A former neighbor of Joe Biden's accuser Tara Reade has come forward to corroborate her sexual assault account, saying Reade discussed the allegations in detail in the mid-1990s\"\n",
      "4. \"Spain: prosecutors claim attack not rape as victim ‘did not fight back’ - Six men accused of sexual abuse of 14-year-old girl in abandoned factory in Manresa\"\n",
      "5. \"Rapper Pop Smoke killed in home invasion\"\n",
      "6. \"Not a conspiracy anymore\"\n",
      "7. \"Feb. 11 Is 'The Day We Fight Back' Against NSA Surveillance | More than 5,300 web-based companies and other organizations, including Reddit, Imgur, Tumblr, Mozilla the Electronic Frontier Foundation and the ACLU, have joined forces to protest National Security Agency surveillance on Feb. 11.\"\n",
      "8. \"Banksy says that most \"Banksy\" works are fake\"\n",
      "9. \"Iceland sentences 26 corrupt bankers to 74 years in prison\"\n",
      "10. \"Vinnie Paul Dead: Pantera Drummer Dies at 54 | Billboard\"\n",
      "-\n",
      "Most Promoted by **simple-consensus** over Neeka (most demoted by Neeka):\n",
      "1. \"Experts say Trump firing of 3 officials including Sondland and Vindman is a ‘criminal’ offense\"\n",
      "2. \"Europeans fear relationship with America will only get worse under a Trump second term. “Eight years in political terms is an era, not an error. And it would undermine the reality of American democracy,” said French analyst François Heisbourg.\"\n",
      "3. \"Trump Named ‘Worst President for Our Environment in History' by Nine Green Groups\"\n",
      "4. \"Trump launches snide attack on Greta Thunberg after she beats him to Time Person of the Year\"\n",
      "5. \"Skeptics Blast Trump's New Claim That Soleimani Targeted 4 US Embassies: \"Either Fox News gets higher level briefings than Congress ... or there was no such imminent threat,\" charged Sen. Chris Murphy.\"\n",
      "6. \"Kim Jong Un Wants Trump To Win In 2020, Former White House Adviser Says: 'All The Bad Guys Want Trump To Win'\"\n",
      "7. \"It Is Beginning to Look Like the U.S. Has a Corruption Problem, Not Ukraine\"\n",
      "8. \"Greta Thunberg is Time's 2019 Person of the Year\"\n",
      "9. \"No, Mr. President, healthcare workers aren’t stealing masks. You failed them.\"\n",
      "10. \"'There need to be mass protests': Authoritarianism experts say time is running out for Americans to stop Trump\"\n"
     ]
    }
   ],
   "source": [
    "sample = posts_df\n",
    "print_most_changed(sample, submissions_df)"
   ]
  },
  {
   "cell_type": "markdown",
   "id": "d5c1d1fb-300f-4855-8042-418c9a380e5f",
   "metadata": {},
   "source": [
    "### Most Promoted/Demoted SAMPLE A"
   ]
  },
  {
   "cell_type": "code",
   "execution_count": 20,
   "id": "b33fbef9-dd37-4f25-8faf-108d3f41a947",
   "metadata": {},
   "outputs": [
    {
     "name": "stdout",
     "output_type": "stream",
     "text": [
      "Most Promoted by **Neeka Consensus** over simple-consensus (most demoted by simple-consensus):\n",
      "1. \"Iceland sentences 26 corrupt bankers to 74 years in prison\"\n",
      "2. \"Woman who partied while children died in hot car to serve 40 years in prison\"\n",
      "3. \"Shell Workers Had To Attend Trump Speech To Be Paid, Were Ordered Not To Protest: Report\"\n",
      "4. \"My name is Bill Browder, I’m the founder and CEO of Hermitage Capital Management, head of the Global Magnitsky Justice Campaign and the author of the New York Times bestseller - Red Notice. I am also Putin’s number one enemy. AMA\"\n",
      "5. \"Montreal police tracked journalist's iPhone: “I was living in the fiction that police officers wouldn’t dare do that, and in the fiction that judges were protecting journalists -- and hence the public -- against this type of police intrusion,” Lagace said. “Clearly, I was naive.”\"\n",
      "6. \"FCC chairman warns about China's 'leverage' over NBA: Imagine what Beijing can do with 5G networks\"\n",
      "7. \"Canadians who smoke marijuana legally, or work or invest in the industry, will be barred from the U.S.: Customs and Border Protection official\"\n",
      "8. \"Shepard Smith decries 'press vilification' in first speech since leaving Fox News\"\n",
      "9. \"Virginia Is First Southern State to Ban Conversion Therapy for Minors\"\n",
      "10. \"US blasts China for ‘unlawful claims’ in South China Sea during pandemic\"\n",
      "-\n",
      "Most Promoted by **simple-consensus** over Neeka (most demoted by Neeka):\n",
      "1. \"Oversight erased, Supreme Court hijacked: Trump turns the presidency into a dictatorship\"\n",
      "2. \"'I will not do a Trump': Chief Minister of N.T. in Australia cancels Territory Day, defies calls to relax restrictions\"\n",
      "3. \"Greta Thunberg arrives in Lisbon today for UNclimate summit after 3-week trip across Atlantic | \"I am not traveling like this because I want everyone to do so,\" said Thunberg. \"I'm doing this to sort of send the message that it is impossible to live sustainably today, and that needs to change.\"\"\n",
      "4. \"'Trump is killing his own supporters' – even White House insiders know it\"\n",
      "5. \"Georgia leads the race to become America’s No. 1 Death Destination\"\n",
      "6. \"While Bernie Sanders has always stood up for African Americans, Joe Biden has repeatedly let us down\"\n",
      "7. \"Brad Pitt Slams GOP, Trump Impeachment Trial at the Oscars\"\n",
      "8. \"Trump contradicts testimony -- and himself -- by claiming he never directed Giuliani on Ukraine\"\n",
      "9. \"During Iran Speech, Trump Demonstrated That He Is Not Well – The American public has a right to know about the physical health of the commander-in-chief.\"\n",
      "10. \"Without Evidence of 'Imminent' Attack on Americans, the White House's Justification for Killing Iranian General Seems Hollow: Reports now suggest that Trump took the unprecedented step of killing a foreign leader based on thin evidence of a threat and with an eye towards domestic politics.\"\n"
     ]
    }
   ],
   "source": [
    "sample = posts_df.sample(1000)\n",
    "print_most_changed(sample, submissions_df)"
   ]
  },
  {
   "cell_type": "markdown",
   "id": "43613b92-9210-459d-ab19-df1205cf5d5d",
   "metadata": {},
   "source": [
    "### Most Promoted/Demoted SAMPLE B"
   ]
  },
  {
   "cell_type": "code",
   "execution_count": 21,
   "id": "498b6893-adb5-4b0a-b3d0-7c2a158b9ccd",
   "metadata": {},
   "outputs": [
    {
     "name": "stdout",
     "output_type": "stream",
     "text": [
      "Most Promoted by **Neeka Consensus** over simple-consensus (most demoted by simple-consensus):\n",
      "1. \"World War II paratrooper Donald Malarky of Easy Company has passed away at 96\"\n",
      "2. \"Shinzo Abe says there are issues with WHO, and Japan will review its funding after the pandemic\"\n",
      "3. \"FCC chairman warns about China's 'leverage' over NBA: Imagine what Beijing can do with 5G networks\"\n",
      "4. \"Paul Manafort to be sentenced Thursday; faces 25 years in prison\"\n",
      "5. \"Boris Johnson's Conservative Party wins UK election with commanding majority, Sky News projects\"\n",
      "6. \"Bill Barr, finally under fire: Will Trump's henchman survive a DOJ insurrection?\"\n",
      "7. \"'Trump Is Getting a Little Bit Nervous,' Says Sanders Campaign as GOP Plots Anti-Bernie 'Victims of Socialism' Videos | \"The president's campaign is quickly realizing that the only way to attack someone who spent his entire life standing with the working class is to lie.\"\"\n",
      "8. \"Susan Collins’ disapproval rating spikes in new poll ahead of targeted 2020 re-election bid\"\n",
      "9. \"I think it's pretty clear Reddit won't vote for Romney and Ryan. Instead of beating a dead horse, why don't we start looking into corrupt politics in the congress, which is where the real power is?\"\n",
      "10. \"U.S. Suicide Rates Are the Highest They've Been Since World War II\"\n",
      "-\n",
      "Most Promoted by **simple-consensus** over Neeka (most demoted by Neeka):\n",
      "1. \"No, Mr. President, healthcare workers aren’t stealing masks. You failed them.\"\n",
      "2. \"McConnell appears to break with the Constitution on Trump impeachment: \"I'm not an impartial juror\" | Lawmakers take an oath pledging to act as an \"impartial justice\" before engaging in the trial, per the Constitution\"\n",
      "3. \"Every House Republican just ignored their oaths of office\"\n",
      "4. \"Senator says White House turned down emergency coronavirus funding in early February\"\n",
      "5. \"Ethics group calls for GOP Sen. Kelly Loeffler to be investigated after more stock sales revealed\"\n",
      "6. \"After Kellyanne Conway Says She Does Not Know Lev Parnas, Photo of them together resurfaces\"\n",
      "7. \"Trump Feared Testing Too Many People for Virus Would Spook Stock Markets, Says Report\"\n",
      "8. \"Mitch McConnell should not favor loyalty to Donald Trump over U.S. Constitution, law professor says in top Kentucky newspaper\"\n",
      "9. \"The U.S. President Was Credibly Accused of Rape—But It Didn't Make Front-Page News\"\n",
      "10. \"If Trump had been in charge during World War II, this column would be in German\"\n"
     ]
    }
   ],
   "source": [
    "sample = posts_df.sample(1000)\n",
    "print_most_changed(sample, submissions_df)"
   ]
  },
  {
   "cell_type": "markdown",
   "id": "a073ac97-8aa0-4f66-b523-942153a30eb3",
   "metadata": {},
   "source": [
    "### Most Promoted/Demoted SAMPLE C"
   ]
  },
  {
   "cell_type": "code",
   "execution_count": 22,
   "id": "ab7b9fb7-8c41-44fc-a8f1-67ffabaa9173",
   "metadata": {},
   "outputs": [
    {
     "name": "stdout",
     "output_type": "stream",
     "text": [
      "Most Promoted by **Neeka Consensus** over simple-consensus (most demoted by simple-consensus):\n",
      "1. \"Spain: prosecutors claim attack not rape as victim ‘did not fight back’ - Six men accused of sexual abuse of 14-year-old girl in abandoned factory in Manresa\"\n",
      "2. \"San Diego lab discovers COVID-19 vaccine in 3 hours | Inovio Pharmaceuticals created a vaccine that is going through pre-clinical trials. \"We have an algorithm which we designed, and we put the DNA sequence into our algorithm and came up with the vaccine in that short amount of time\"\"\n",
      "3. \"Shell Workers Had To Attend Trump Speech To Be Paid, Were Ordered Not To Protest: Report\"\n",
      "4. \"Stacey Abrams Will Not Run for President in 2020, Focusing Instead on Fighting Voter Suppression\"\n",
      "5. \"Couple jailed for genital mutilation of daughter\"\n",
      "6. \"Ontario introduces 'pay transparency' bill to require all publicly advertised job postings to include a salary rate or range, bar employers from asking about past compensation and prohibit reprisal against employees who do discuss or disclose compensation\"\n",
      "7. \"Canadians who smoke marijuana legally, or work or invest in the industry, will be barred from the U.S.: Customs and Border Protection official\"\n",
      "8. \"Heat-seeking drone finds missing 6-year-old Minnesota boy in cornfield\"\n",
      "9. \"Democrat Warren vows to use 'every tool' to combat white nationalist violence\"\n",
      "10. \"Boeing ex-CEO is denied severance, forfeits at least $44 million\"\n",
      "-\n",
      "Most Promoted by **simple-consensus** over Neeka (most demoted by Neeka):\n",
      "1. \"It Is Beginning to Look Like the U.S. Has a Corruption Problem, Not Ukraine\"\n",
      "2. \"Trump Tied Soleimani Hit To Support From GOP Hawks Ahead Of Impeachment Trial According to NYT and WSJ: New motivation emerges after contradictory Trump administration accounts of \"imminent\" threats justifying airstrike assassination.\"\n",
      "3. \"McConnell Trashes Dems’ Coronavirus Bill Calling For Paid Sick Leave, Free Testing\"\n",
      "4. \"AOC angrily slams ‘crumbs for our families’ in a fiery speech about coronavirus stimulus on House floor\"\n",
      "5. \"House passes resolution to limit Trump's war powers against Iran\"\n",
      "6. \"“I forced her out”: Giuliani goes on Fox News and admits he’s much more than Trump’s lawyer | Trump’s lawyer is remarkably oblivious about the fact that he’s not supposed to be driving foreign policy.\"\n",
      "7. \"Trump’s Top Coronavirus Expert: The President Is Full of Shit\"\n",
      "8. \"Pelosi says Trump lawyers have 'disgraced' themselves, suggests disbarment\"\n",
      "9. \"Greta Thunberg climate strike: 'The world is on fire' - \"Activism works so I'm telling you to act,\" she said. \"We are being betrayed by those in power.\"\"\n",
      "10. \"The public servants Trump smeared as 'traitors' and 'human scum' are Time magazine's 2019 'Guardians of the Year'\"\n"
     ]
    }
   ],
   "source": [
    "sample = posts_df.sample(1000)\n",
    "print_most_changed(sample, submissions_df)"
   ]
  },
  {
   "cell_type": "code",
   "execution_count": null,
   "id": "bc2bba37-7245-4bb1-a6ea-bcbfac8fedf4",
   "metadata": {},
   "outputs": [],
   "source": []
  },
  {
   "cell_type": "code",
   "execution_count": null,
   "id": "87a05785-5510-4737-ac28-5e5a0dbec151",
   "metadata": {},
   "outputs": [],
   "source": []
  }
 ],
 "metadata": {
  "kernelspec": {
   "display_name": "Python 3 (ipykernel)",
   "language": "python",
   "name": "python3"
  },
  "language_info": {
   "codemirror_mode": {
    "name": "ipython",
    "version": 3
   },
   "file_extension": ".py",
   "mimetype": "text/x-python",
   "name": "python",
   "nbconvert_exporter": "python",
   "pygments_lexer": "ipython3",
   "version": "3.12.3"
  }
 },
 "nbformat": 4,
 "nbformat_minor": 5
}
