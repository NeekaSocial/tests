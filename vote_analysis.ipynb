{
 "cells": [
  {
   "cell_type": "code",
   "execution_count": 1,
   "id": "24e64354-14a9-4fa1-ab95-6ac7f7fb82b3",
   "metadata": {},
   "outputs": [],
   "source": [
    "import numpy as np\n",
    "import pandas as pd\n",
    "import random\n",
    "from neeka_lib import *\n",
    "from reddit_helper import *\n",
    "from sklearn.cluster import KMeans"
   ]
  },
  {
   "cell_type": "code",
   "execution_count": null,
   "id": "8c79d76d-3bb2-45cd-89d5-b83edc0d32d4",
   "metadata": {},
   "outputs": [],
   "source": [
    "# Parameters\n",
    "MIN_VOTES_PER_USER = 4\n",
    "MIN_VOTES_PER_POST = 4\n",
    "N_GRAPH_ITERATIONS = 3\n",
    "VECTOR_LENGTH = 300 # length of user/post embeddings\n",
    "SUBREDDIT_NAMES = ['politics', 'news', 'worldnews']"
   ]
  },
  {
   "cell_type": "code",
   "execution_count": null,
   "id": "211a1e44-21e8-46e8-b5f5-d83dc3e81028",
   "metadata": {},
   "outputs": [],
   "source": [
    "# get ALL votes\n",
    "all_votes_df = pd.read_csv('reddit_votes_data/44_million_reddit_votes/44_million_votes.txt',sep='\\t')"
   ]
  },
  {
   "cell_type": "code",
   "execution_count": null,
   "id": "428c84b5-7655-4758-813a-92683a9d487b",
   "metadata": {},
   "outputs": [],
   "source": [
    "# get ALL submissions\n",
    "all_submissions_df = pd.read_csv('reddit_votes_data/submission_info/submission_info.txt',sep='\\t')\n",
    "all_submissions_df.set_index('SUBMISSION_ID',inplace=True)"
   ]
  },
  {
   "cell_type": "code",
   "execution_count": null,
   "id": "124a95bf-5527-4a21-b10d-0bccc2729d79",
   "metadata": {},
   "outputs": [],
   "source": [
    "# get all submissions in specified subreddits submissions\n",
    "submissions_df = all_submissions_df[all_submissions_df['SUBREDDIT'].isin(SUBREDDIT_NAMES)]\n",
    "\n",
    "# get all submissions in specified subreddits submissions\n",
    "r_subreddit_names = [f'r/{NAME}' for NAME in SUBREDDIT_NAMES]\n",
    "votes_df = all_votes_df[all_votes_df['SUBREDDIT'].isin(r_subreddit_names)]\n",
    "votes_df = all_votes_df[all_votes_df['SUBMISSION_ID'].isin(submissions_df.index)]"
   ]
  },
  {
   "cell_type": "code",
   "execution_count": null,
   "id": "ebf04562-94c8-4769-a83b-ed96bd4fff8a",
   "metadata": {},
   "outputs": [],
   "source": [
    "votes_df = filter_to_multiple_votes(votes_df, min_usr_votes=MIN_VOTES_PER_USER, min_post_votes=MIN_VOTES_PER_POST)"
   ]
  },
  {
   "cell_type": "code",
   "execution_count": null,
   "id": "ad825b24-4799-4487-91ec-2f3a0d0b46fc",
   "metadata": {},
   "outputs": [],
   "source": [
    "# get all politics users \n",
    "pol_users = votes_df['USERNAME'].unique()\n",
    "\n",
    "# create our dataframe of users\n",
    "vectors = pd.Series([ np.random.choice([1,-1],VECTOR_LENGTH) for _ in range(len(pol_users)) ])\n",
    "intermediary_vectors = pd.Series([ np.zeros(VECTOR_LENGTH) for _ in range(len(pol_users)) ])\n",
    "\n",
    "users_df = pd.DataFrame({'USERS':pol_users,'VECTOR':vectors, 'INTERMEDIARY':intermediary_vectors})\n",
    "users_df.set_index('USERS',inplace=True)"
   ]
  },
  {
   "cell_type": "code",
   "execution_count": null,
   "id": "c7d505d3-e050-4206-84b9-c208678b7b50",
   "metadata": {},
   "outputs": [],
   "source": [
    "reset_users(users_df)"
   ]
  },
  {
   "cell_type": "code",
   "execution_count": null,
   "id": "24260026-4726-4b26-9dac-e5e82fec4ab2",
   "metadata": {},
   "outputs": [],
   "source": [
    "# Iterate graph to form user embeddings\n",
    "for _ in range(N_GRAPH_ITERATIONS):\n",
    "    iterate_graph(votes_df, users_df)\n",
    "    resolve_graph(users_df)"
   ]
  },
  {
   "cell_type": "code",
   "execution_count": null,
   "id": "ecf95d4b-1756-4ac0-845f-e4b2e3e43f56",
   "metadata": {},
   "outputs": [],
   "source": [
    "# Perform k-means clustering to group users - this is needed for testing\n",
    "kmeans = KMeans(n_clusters=2, random_state=0, n_init='auto')\n",
    "kmeans.fit(  np.stack(users_df['VECTOR'].to_numpy())  )\n",
    "group_labels = kmeans.labels_\n",
    "group_ids, group_counts = np.unique(group_labels, return_counts=True)\n",
    "for grpid, grpcnt in zip(group_ids,group_counts):\n",
    "    print(f'{grpid}: {grpcnt}')"
   ]
  },
  {
   "cell_type": "code",
   "execution_count": null,
   "id": "5d713b00-f10f-4fa4-9a18-852d19f61620",
   "metadata": {},
   "outputs": [],
   "source": [
    "# Put users into groups - this is needed for testing\n",
    "users_df['GROUP'] = \"NO_GROUP\"\n",
    "users_df.loc[group_labels == 0,'GROUP'] = 'GROUP_0'\n",
    "users_df.loc[group_labels == 1,'GROUP'] = 'GROUP_1' "
   ]
  },
  {
   "cell_type": "code",
   "execution_count": null,
   "id": "27aa8c79-330e-4069-bc4a-39009692572e",
   "metadata": {},
   "outputs": [],
   "source": [
    "# initialize the posts_df dataframe\n",
    "posts_df = pd.DataFrame({'POST_ID':list(set(votes_df['SUBMISSION_ID']))})\n",
    "posts_df.set_index('POST_ID',inplace=True)\n",
    "reset_post_stats(posts_df)"
   ]
  },
  {
   "cell_type": "code",
   "execution_count": null,
   "id": "a6f8627e-e011-48f4-a59f-b8d9b6b76e88",
   "metadata": {
    "scrolled": true
   },
   "outputs": [],
   "source": [
    "# calculate some base statistics for each post\n",
    "calculate_post_stats(users_df, votes_df, posts_df)"
   ]
  },
  {
   "cell_type": "code",
   "execution_count": null,
   "id": "3b930c36-748d-4e84-b686-4938f8ad074b",
   "metadata": {},
   "outputs": [],
   "source": [
    "# calvulate the Neeka score for each post\n",
    "neeka_score_calculation(posts_df)"
   ]
  },
  {
   "cell_type": "code",
   "execution_count": null,
   "id": "c405e26b-1f68-417a-899c-cebde9084ad1",
   "metadata": {},
   "outputs": [],
   "source": [
    "# calculate percentile rank \n",
    "x_index = np.logical_not(np.logical_or( posts_df['GROUP1_X'].isna(), posts_df['GROUP0_X'].isna())) \n",
    "posts_x_df = posts_df[x_index].copy()\n",
    "calculate_percentile_rank(posts_x_df)"
   ]
  },
  {
   "cell_type": "markdown",
   "id": "074b2f4c-76a5-450b-96d7-d6d1c73702bc",
   "metadata": {},
   "source": [
    "# Results"
   ]
  },
  {
   "cell_type": "markdown",
   "id": "be6f17ed-3250-4cad-9408-02e533afdbe7",
   "metadata": {},
   "source": [
    "### Statistics"
   ]
  },
  {
   "cell_type": "code",
   "execution_count": null,
   "id": "630850c9-d590-4f89-8bcf-21302063dc91",
   "metadata": {},
   "outputs": [],
   "source": [
    "results = calculate_test_results(posts_x_df)\n",
    "print_test_results(results)"
   ]
  },
  {
   "cell_type": "markdown",
   "id": "5be8ea92-76b6-4ae4-af99-94e3c5ce11d3",
   "metadata": {},
   "source": [
    "### Most Promoted/Demoted ALL POSTS "
   ]
  },
  {
   "cell_type": "code",
   "execution_count": null,
   "id": "9fc929b6-3331-4bd9-8ab4-4778a8f6b9e2",
   "metadata": {},
   "outputs": [],
   "source": [
    "sample = posts_df\n",
    "print_most_changed(sample, submissions_df)"
   ]
  },
  {
   "cell_type": "markdown",
   "id": "d5c1d1fb-300f-4855-8042-418c9a380e5f",
   "metadata": {},
   "source": [
    "### Most Promoted/Demoted SAMPLE A"
   ]
  },
  {
   "cell_type": "code",
   "execution_count": null,
   "id": "b33fbef9-dd37-4f25-8faf-108d3f41a947",
   "metadata": {},
   "outputs": [],
   "source": [
    "sample = posts_df.sample(1000)\n",
    "print_most_changed(sample, submissions_df)"
   ]
  },
  {
   "cell_type": "markdown",
   "id": "43613b92-9210-459d-ab19-df1205cf5d5d",
   "metadata": {},
   "source": [
    "### Most Promoted/Demoted SAMPLE B"
   ]
  },
  {
   "cell_type": "code",
   "execution_count": null,
   "id": "498b6893-adb5-4b0a-b3d0-7c2a158b9ccd",
   "metadata": {},
   "outputs": [],
   "source": [
    "sample = posts_df.sample(1000)\n",
    "print_most_changed(sample, submissions_df)"
   ]
  },
  {
   "cell_type": "markdown",
   "id": "a073ac97-8aa0-4f66-b523-942153a30eb3",
   "metadata": {},
   "source": [
    "### Most Promoted/Demoted SAMPLE C"
   ]
  },
  {
   "cell_type": "code",
   "execution_count": null,
   "id": "ab7b9fb7-8c41-44fc-a8f1-67ffabaa9173",
   "metadata": {},
   "outputs": [],
   "source": [
    "sample = posts_df.sample(1000)\n",
    "print_most_changed(sample, submissions_df)"
   ]
  },
  {
   "cell_type": "code",
   "execution_count": null,
   "id": "bc2bba37-7245-4bb1-a6ea-bcbfac8fedf4",
   "metadata": {},
   "outputs": [],
   "source": []
  },
  {
   "cell_type": "code",
   "execution_count": null,
   "id": "87a05785-5510-4737-ac28-5e5a0dbec151",
   "metadata": {},
   "outputs": [],
   "source": []
  }
 ],
 "metadata": {
  "kernelspec": {
   "display_name": "Python 3 (ipykernel)",
   "language": "python",
   "name": "python3"
  },
  "language_info": {
   "codemirror_mode": {
    "name": "ipython",
    "version": 3
   },
   "file_extension": ".py",
   "mimetype": "text/x-python",
   "name": "python",
   "nbconvert_exporter": "python",
   "pygments_lexer": "ipython3",
   "version": "3.12.3"
  }
 },
 "nbformat": 4,
 "nbformat_minor": 5
}
