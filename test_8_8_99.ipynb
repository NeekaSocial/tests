{
 "cells": [
  {
   "cell_type": "code",
   "execution_count": 1,
   "id": "24e64354-14a9-4fa1-ab95-6ac7f7fb82b3",
   "metadata": {},
   "outputs": [],
   "source": [
    "import numpy as np\n",
    "import pandas as pd\n",
    "import random\n",
    "from neeka_lib import *\n",
    "from reddit_helper import *\n",
    "from sklearn.cluster import KMeans"
   ]
  },
  {
   "cell_type": "code",
   "execution_count": 2,
   "id": "8c79d76d-3bb2-45cd-89d5-b83edc0d32d4",
   "metadata": {},
   "outputs": [],
   "source": [
    "# Parameters\n",
    "MIN_VOTES_PER_USER = 8\n",
    "MIN_VOTES_PER_POST = 8\n",
    "N_GRAPH_ITERATIONS = 99\n",
    "VECTOR_LENGTH = 300 # length of user/post embeddings\n",
    "SUBREDDIT_NAMES = ['politics', 'news', 'worldnews']"
   ]
  },
  {
   "cell_type": "code",
   "execution_count": 3,
   "id": "211a1e44-21e8-46e8-b5f5-d83dc3e81028",
   "metadata": {},
   "outputs": [],
   "source": [
    "# get ALL votes\n",
    "all_votes_df = pd.read_csv('reddit_votes_data/44_million_reddit_votes/44_million_votes.txt',sep='\\t')"
   ]
  },
  {
   "cell_type": "code",
   "execution_count": 4,
   "id": "428c84b5-7655-4758-813a-92683a9d487b",
   "metadata": {},
   "outputs": [],
   "source": [
    "# get ALL submissions\n",
    "all_submissions_df = pd.read_csv('reddit_votes_data/submission_info/submission_info.txt',sep='\\t')\n",
    "all_submissions_df.set_index('SUBMISSION_ID',inplace=True)"
   ]
  },
  {
   "cell_type": "code",
   "execution_count": 5,
   "id": "124a95bf-5527-4a21-b10d-0bccc2729d79",
   "metadata": {},
   "outputs": [],
   "source": [
    "# get all submissions in specified subreddits submissions\n",
    "submissions_df = all_submissions_df[all_submissions_df['SUBREDDIT'].isin(SUBREDDIT_NAMES)]\n",
    "\n",
    "# get all submissions in specified subreddits submissions\n",
    "r_subreddit_names = [f'r/{NAME}' for NAME in SUBREDDIT_NAMES]\n",
    "votes_df = all_votes_df[all_votes_df['SUBREDDIT'].isin(r_subreddit_names)]\n",
    "votes_df = all_votes_df[all_votes_df['SUBMISSION_ID'].isin(submissions_df.index)]"
   ]
  },
  {
   "cell_type": "code",
   "execution_count": 6,
   "id": "ebf04562-94c8-4769-a83b-ed96bd4fff8a",
   "metadata": {},
   "outputs": [],
   "source": [
    "votes_df = filter_to_multiple_votes(votes_df, min_usr_votes=MIN_VOTES_PER_USER, min_post_votes=MIN_VOTES_PER_POST)"
   ]
  },
  {
   "cell_type": "code",
   "execution_count": 7,
   "id": "c322c737-0361-4d39-9cf7-336d96337c51",
   "metadata": {},
   "outputs": [
    {
     "data": {
      "text/plain": [
       "1174890"
      ]
     },
     "execution_count": 7,
     "metadata": {},
     "output_type": "execute_result"
    }
   ],
   "source": [
    "len(votes_df)"
   ]
  },
  {
   "cell_type": "code",
   "execution_count": 8,
   "id": "2c3e9c5a-ef79-4584-aa33-c82b24f488d5",
   "metadata": {},
   "outputs": [
    {
     "data": {
      "text/plain": [
       "1174890"
      ]
     },
     "execution_count": 8,
     "metadata": {},
     "output_type": "execute_result"
    }
   ],
   "source": [
    "votes_df = filter_to_multiple_votes(votes_df, min_usr_votes=MIN_VOTES_PER_USER, min_post_votes=MIN_VOTES_PER_POST)\n",
    "len(votes_df)"
   ]
  },
  {
   "cell_type": "code",
   "execution_count": 9,
   "id": "ad825b24-4799-4487-91ec-2f3a0d0b46fc",
   "metadata": {},
   "outputs": [],
   "source": [
    "# get all politics users \n",
    "pol_users = votes_df['USERNAME'].unique()\n",
    "\n",
    "# create our dataframe of users\n",
    "vectors = pd.Series([ np.random.choice([1,-1],VECTOR_LENGTH) for _ in range(len(pol_users)) ])\n",
    "intermediary_vectors = pd.Series([ np.zeros(VECTOR_LENGTH) for _ in range(len(pol_users)) ])\n",
    "\n",
    "users_df = pd.DataFrame({'USERS':pol_users,'VECTOR':vectors, 'INTERMEDIARY':intermediary_vectors})\n",
    "users_df.set_index('USERS',inplace=True)"
   ]
  },
  {
   "cell_type": "code",
   "execution_count": 10,
   "id": "c7d505d3-e050-4206-84b9-c208678b7b50",
   "metadata": {},
   "outputs": [],
   "source": [
    "reset_users(users_df)"
   ]
  },
  {
   "cell_type": "code",
   "execution_count": 11,
   "id": "24260026-4726-4b26-9dac-e5e82fec4ab2",
   "metadata": {},
   "outputs": [
    {
     "name": "stdout",
     "output_type": "stream",
     "text": [
      "          35600 / 35608         \r"
     ]
    }
   ],
   "source": [
    "# Iterate graph to form user embeddings\n",
    "for _ in range(N_GRAPH_ITERATIONS):\n",
    "    iterate_graph(votes_df, users_df)\n",
    "    resolve_graph(users_df)"
   ]
  },
  {
   "cell_type": "code",
   "execution_count": 12,
   "id": "ecf95d4b-1756-4ac0-845f-e4b2e3e43f56",
   "metadata": {},
   "outputs": [
    {
     "name": "stdout",
     "output_type": "stream",
     "text": [
      "0: 4613\n",
      "1: 8043\n"
     ]
    }
   ],
   "source": [
    "# Perform k-means clustering to group users - this is needed for testing\n",
    "kmeans = KMeans(n_clusters=2, random_state=0, n_init='auto')\n",
    "kmeans.fit(  np.stack(users_df['VECTOR'].to_numpy())  )\n",
    "group_labels = kmeans.labels_\n",
    "group_ids, group_counts = np.unique(group_labels, return_counts=True)\n",
    "for grpid, grpcnt in zip(group_ids,group_counts):\n",
    "    print(f'{grpid}: {grpcnt}')"
   ]
  },
  {
   "cell_type": "code",
   "execution_count": 13,
   "id": "5d713b00-f10f-4fa4-9a18-852d19f61620",
   "metadata": {},
   "outputs": [],
   "source": [
    "# Put users into groups - this is needed for testing\n",
    "users_df['GROUP'] = \"NO_GROUP\"\n",
    "users_df.loc[group_labels == 0,'GROUP'] = 'GROUP_0'\n",
    "users_df.loc[group_labels == 1,'GROUP'] = 'GROUP_1' "
   ]
  },
  {
   "cell_type": "code",
   "execution_count": 14,
   "id": "27aa8c79-330e-4069-bc4a-39009692572e",
   "metadata": {},
   "outputs": [],
   "source": [
    "# initialize the posts_df dataframe\n",
    "posts_df = pd.DataFrame({'POST_ID':list(set(votes_df['SUBMISSION_ID']))})\n",
    "posts_df.set_index('POST_ID',inplace=True)\n",
    "reset_post_stats(posts_df)"
   ]
  },
  {
   "cell_type": "code",
   "execution_count": 15,
   "id": "a6f8627e-e011-48f4-a59f-b8d9b6b76e88",
   "metadata": {
    "scrolled": true
   },
   "outputs": [],
   "source": [
    "# calculate some base statistics for each post\n",
    "calculate_post_stats(users_df, votes_df, posts_df)"
   ]
  },
  {
   "cell_type": "code",
   "execution_count": 16,
   "id": "3b930c36-748d-4e84-b686-4938f8ad074b",
   "metadata": {},
   "outputs": [],
   "source": [
    "# calvulate the Neeka score for each post\n",
    "neeka_score_calculation(posts_df)"
   ]
  },
  {
   "cell_type": "code",
   "execution_count": 17,
   "id": "c405e26b-1f68-417a-899c-cebde9084ad1",
   "metadata": {},
   "outputs": [],
   "source": [
    "# calculate percentile rank \n",
    "x_index = np.logical_not(np.logical_or( posts_df['GROUP1_X'].isna(), posts_df['GROUP0_X'].isna())) \n",
    "posts_x_df = posts_df[x_index].copy()\n",
    "calculate_percentile_rank(posts_x_df)"
   ]
  },
  {
   "cell_type": "markdown",
   "id": "074b2f4c-76a5-450b-96d7-d6d1c73702bc",
   "metadata": {},
   "source": [
    "# Results"
   ]
  },
  {
   "cell_type": "markdown",
   "id": "be6f17ed-3250-4cad-9408-02e533afdbe7",
   "metadata": {},
   "source": [
    "### Statistics"
   ]
  },
  {
   "cell_type": "code",
   "execution_count": 18,
   "id": "630850c9-d590-4f89-8bcf-21302063dc91",
   "metadata": {},
   "outputs": [
    {
     "name": "stdout",
     "output_type": "stream",
     "text": [
      "\n",
      "    simple_agreement: 46.46 %\n",
      "    neeka_agreement: 65.75 %\n",
      "    agreement_change: 19.29 %\n",
      "\n",
      "    simple_apolar: 33.83 %\n",
      "    neeka_apolar: 54.69 %\n",
      "    apolar_change: 20.86 %\n",
      "\n",
      "    simple_neutrality: 66.34 %\n",
      "    neeka_neutrality: 94.47 %\n",
      "    neutrality_change: 28.13 %\n",
      "\n",
      "    Overall:\n",
      "    simple_quality: 48.87 %\n",
      "    neeka_quality: 71.63 %\n",
      "    quality_change: 22.76 %\n",
      "\n",
      "    #######################################\n",
      "\n",
      "    simple_group0_bias: 24.85 %\n",
      "    simple_group1_bias: 58.52 %\n",
      "    \n",
      "    neeka_group0_bias: 45.41 %\n",
      "    neeka_group1_bias: 50.94 %\n",
      "    \n"
     ]
    }
   ],
   "source": [
    "results = calculate_test_results(posts_x_df)\n",
    "print_test_results(results)"
   ]
  },
  {
   "cell_type": "markdown",
   "id": "5be8ea92-76b6-4ae4-af99-94e3c5ce11d3",
   "metadata": {},
   "source": [
    "### Most Promoted/Demoted ALL POSTS "
   ]
  },
  {
   "cell_type": "code",
   "execution_count": 19,
   "id": "9fc929b6-3331-4bd9-8ab4-4778a8f6b9e2",
   "metadata": {},
   "outputs": [
    {
     "name": "stdout",
     "output_type": "stream",
     "text": [
      "Most Promoted by **Neeka Consensus** over simple-consensus (most demoted by simple-consensus):\n",
      "1. \"Apple and Samsung fined for deliberately slowing down phones\"\n",
      "2. \"FBI: Nation-state actors have breached two US municipalities\"\n",
      "3. \"Spain: prosecutors claim attack not rape as victim ‘did not fight back’ - Six men accused of sexual abuse of 14-year-old girl in abandoned factory in Manresa\"\n",
      "4. \"Rapper Pop Smoke killed in home invasion\"\n",
      "5. \"A former neighbor of Joe Biden's accuser Tara Reade has come forward to corroborate her sexual assault account, saying Reade discussed the allegations in detail in the mid-1990s\"\n",
      "6. \"Not a conspiracy anymore\"\n",
      "7. \"President Bernie Sanders would dismantle NSA spying. \"Kids will grow up knowing that every damn thing that they do is going to be recorded somewhere in a file, and I think that will have a very Orwellian and inhibiting impact on our lives.\"\"\n",
      "8. \"Vinnie Paul Dead: Pantera Drummer Dies at 54 | Billboard\"\n",
      "9. \"Banksy says that most \"Banksy\" works are fake\"\n",
      "10. \"Feb. 11 Is 'The Day We Fight Back' Against NSA Surveillance | More than 5,300 web-based companies and other organizations, including Reddit, Imgur, Tumblr, Mozilla the Electronic Frontier Foundation and the ACLU, have joined forces to protest National Security Agency surveillance on Feb. 11.\"\n",
      "-\n",
      "Most Promoted by **simple-consensus** over Neeka (most demoted by Neeka):\n",
      "1. \"Experts say Trump firing of 3 officials including Sondland and Vindman is a ‘criminal’ offense\"\n",
      "2. \"Europeans fear relationship with America will only get worse under a Trump second term. “Eight years in political terms is an era, not an error. And it would undermine the reality of American democracy,” said French analyst François Heisbourg.\"\n",
      "3. \"Trump Named ‘Worst President for Our Environment in History' by Nine Green Groups\"\n",
      "4. \"Trump launches snide attack on Greta Thunberg after she beats him to Time Person of the Year\"\n",
      "5. \"Skeptics Blast Trump's New Claim That Soleimani Targeted 4 US Embassies: \"Either Fox News gets higher level briefings than Congress ... or there was no such imminent threat,\" charged Sen. Chris Murphy.\"\n",
      "6. \"Kim Jong Un Wants Trump To Win In 2020, Former White House Adviser Says: 'All The Bad Guys Want Trump To Win'\"\n",
      "7. \"It Is Beginning to Look Like the U.S. Has a Corruption Problem, Not Ukraine\"\n",
      "8. \"WHO official calls Trump comments on coronavirus response 'incoherent'\"\n",
      "9. \"Greta Thunberg is Time's 2019 Person of the Year\"\n",
      "10. \"'There need to be mass protests': Authoritarianism experts say time is running out for Americans to stop Trump\"\n"
     ]
    }
   ],
   "source": [
    "sample = posts_df\n",
    "print_most_changed(sample, submissions_df)"
   ]
  },
  {
   "cell_type": "markdown",
   "id": "d5c1d1fb-300f-4855-8042-418c9a380e5f",
   "metadata": {},
   "source": [
    "### Most Promoted/Demoted SAMPLE A"
   ]
  },
  {
   "cell_type": "code",
   "execution_count": 20,
   "id": "b33fbef9-dd37-4f25-8faf-108d3f41a947",
   "metadata": {},
   "outputs": [
    {
     "name": "stdout",
     "output_type": "stream",
     "text": [
      "Most Promoted by **Neeka Consensus** over simple-consensus (most demoted by simple-consensus):\n",
      "1. \"French tourist prevents a bus with 21 passengers from plunging over a 100m (328ft) cliff in the Austrian Alps after the driver, 76, passed out. The passenger leapt from his seat as the vehicle crashed through the wooden roadside guardrail and applied the brake, leaving the bus hanging over the edge.\"\n",
      "2. \"FCC chairman warns about China's 'leverage' over NBA: Imagine what Beijing can do with 5G networks\"\n",
      "3. \"Paul Manafort to be sentenced Thursday; faces 25 years in prison\"\n",
      "4. \"Toys R Us yesterday opened its UK stores for a “quiet hour” designed to accommodate the needs of children with autism. Measures included dimmed fluorescent lighting and a ban on music and in-store announcements.\"\n",
      "5. \"Australia registers hottest day in recorded history. Outback towns become some of warmest places on Earth as report details season of unprecedented fire risk.\"\n",
      "6. \"Coca-Cola to cut 1,200 jobs as consumers turn away from sugary drinks\"\n",
      "7. \"Shooting reported near San Diego synagogue\"\n",
      "8. \"Donald Trump Jr. likes tweet suggesting children separated from parents at border are crisis actors\"\n",
      "9. \"'Utterly Irresponsible' To Put Mike Pence In Charge Of Coronavirus Response, Says Alexandria Ocasio-Cortez\"\n",
      "10. \"Atlanta student found dead filed a police report on unwanted kissing days before she vanished, authorities say\"\n",
      "-\n",
      "Most Promoted by **simple-consensus** over Neeka (most demoted by Neeka):\n",
      "1. \"Trump Suddenly Loses Interest In Briefings After Disastrous Disinfectant Comments\"\n",
      "2. \"Georgia leads the race to become America’s No. 1 Death Destination\"\n",
      "3. \"Trump reportedly picked his impeachment defense team based on how well he thinks they can perform on TV\"\n",
      "4. \"Every House Republican just ignored their oaths of office\"\n",
      "5. \"Democrats now have a real chance at winning the Senate in 2020\"\n",
      "6. \"You Should Be Absolutely Furious Over Donald Trump’s $1 Trillion Deficit\"\n",
      "7. \"Trump defends China's alleged cover-up of coronavirus victims: 'You don't want the world to go crazy'. US president claims without evidence disease will 'go away‘\"\n",
      "8. \"Public support for Trump conviction at all-time high, poll finds\"\n",
      "9. \"Trump walks out of press conference after altercation with female reporters\"\n",
      "10. \"President Trump Is Unfit for This Crisis. Period.\"\n"
     ]
    }
   ],
   "source": [
    "sample = posts_df.sample(1000)\n",
    "print_most_changed(sample, submissions_df)"
   ]
  },
  {
   "cell_type": "markdown",
   "id": "43613b92-9210-459d-ab19-df1205cf5d5d",
   "metadata": {},
   "source": [
    "### Most Promoted/Demoted SAMPLE B"
   ]
  },
  {
   "cell_type": "code",
   "execution_count": 21,
   "id": "498b6893-adb5-4b0a-b3d0-7c2a158b9ccd",
   "metadata": {},
   "outputs": [
    {
     "name": "stdout",
     "output_type": "stream",
     "text": [
      "Most Promoted by **Neeka Consensus** over simple-consensus (most demoted by simple-consensus):\n",
      "1. \"Trump refuses to rule out opponents being put to death for treason\"\n",
      "2. \"Joe Biden’s coronavirus speech was far better than Trump’s\"\n",
      "3. \"Ontario introduces 'pay transparency' bill to require all publicly advertised job postings to include a salary rate or range, bar employers from asking about past compensation and prohibit reprisal against employees who do discuss or disclose compensation\"\n",
      "4. \"Malaysia government to stop palm oil expansion, keep 50% land as forest\"\n",
      "5. \"Taiwan calls on China to share 'correct' virus information\"\n",
      "6. \"I think it's pretty clear Reddit won't vote for Romney and Ryan. Instead of beating a dead horse, why don't we start looking into corrupt politics in the congress, which is where the real power is?\"\n",
      "7. \"OK Boomers, Wake Up! — Sanders is the person you used to be but forgot about.\"\n",
      "8. \"Trump's food stamp cuts will strip lifeline from millions of Americans\"\n",
      "9. \"Ugandan President wants to ban oral sex; says the 'mouth is for eating'\"\n",
      "10. \"Joe Biden, the Cipher Presidential Candidate - Biden is winning the Democratic nomination on the basis of not being Bernie Sanders and wants to get elected president on the basis of not being Donald Trump.\"\n",
      "-\n",
      "Most Promoted by **simple-consensus** over Neeka (most demoted by Neeka):\n",
      "1. \"Sanders slams Trump pardons as part of 'broken and racist criminal justice system'\"\n",
      "2. \"Ivanka Trump’s relationship with British spy revealed in new report strikes massive blow to president's claims\"\n",
      "3. \"Trump Campaign Threatens TV Stations That Air Ad Critical Of President\"\n",
      "4. \"Warren Says Trump Admin Is Preventing States From Obtaining Coronavirus Equipment: They’re Doing ’Worse Than Nothing’\"\n",
      "5. \"Trump bizarrely claims coronavirus outbreak is 'fake news' conspiracy as new US cruise ship stranded at sea\"\n",
      "6. \"Nancy Pelosi Warns Donald Trump Impeachment Will Be 'Ironclad,' Says House Already Has Enough Evidence\"\n",
      "7. \"Trump Spent the Weekend Tweeting Wild Conspiracy Theories While Nearly 5,000 Americans Died of Coronavirus\"\n",
      "8. \"Trump 'Crime Family...Belong in Prison,' Says 'The Art of the Deal' Ghostwriter\"\n",
      "9. \"America Is Acting Like a Failed State | Many businesses, local governments, and individuals are doing what is necessary to beat back the coronavirus—with little help from the White House.\"\n",
      "10. \"Trump says 'nobody can even define' what Roger Stone did. Here are crimes Stone committed\"\n"
     ]
    }
   ],
   "source": [
    "sample = posts_df.sample(1000)\n",
    "print_most_changed(sample, submissions_df)"
   ]
  },
  {
   "cell_type": "markdown",
   "id": "a073ac97-8aa0-4f66-b523-942153a30eb3",
   "metadata": {},
   "source": [
    "### Most Promoted/Demoted SAMPLE C"
   ]
  },
  {
   "cell_type": "code",
   "execution_count": 22,
   "id": "ab7b9fb7-8c41-44fc-a8f1-67ffabaa9173",
   "metadata": {},
   "outputs": [
    {
     "name": "stdout",
     "output_type": "stream",
     "text": [
      "Most Promoted by **Neeka Consensus** over simple-consensus (most demoted by simple-consensus):\n",
      "1. \"Anger grows as Puerto Rico misses power restoration deadline\"\n",
      "2. \"Oregon governor prepared to use executive powers to pass climate legislation after GOP walkout\"\n",
      "3. \"Shep Smith Out at Fox News Amid Trump Tension\"\n",
      "4. \"Paul Manafort to be sentenced Thursday; faces 25 years in prison\"\n",
      "5. \"Protests rage in India against citizenship law amid restrictions\"\n",
      "6. \"60 students without vaccines kept out of school in Fargo, West Fargo\"\n",
      "7. \"Russia's top secret $155m Su-57 stealth fighter crashes just days before it is due to enter service\"\n",
      "8. \"Activists call for protests Thursday to protect Mueller investigation\"\n",
      "9. \"Google latest to withdraw from Saudi conference\"\n",
      "10. \"Republicans Outnumbered by Independents for First Time in US History | But Voters Registered as Democrat Still Outnumber Both\"\n",
      "-\n",
      "Most Promoted by **simple-consensus** over Neeka (most demoted by Neeka):\n",
      "1. \"NPR Poll: Majority Of Americans Believe Trump Encourages Election Interference\"\n",
      "2. \"Trump claims he only blocked military aid to Ukraine in order to pressure that country to crack down on corruption. But his administration has repeatedly tried to slash billions from anti-corruption efforts in Ukraine and around the world.\"\n",
      "3. \"Fact check: Trump lies about voter fraud while states, CDC encourage voting-by-mail as pandemic-friendly option\"\n",
      "4. \"MSNBC Cuts Into Briefing So Doctor Can Refute Trump's \"Mystifying\" Claim That Zinc Can Treat Covid-19\"\n",
      "5. \"Coronavirus stock crash wipes out 80% of Trump's market gains since 2016 election\"\n",
      "6. \"Pastor of Louisiana church charged, accused of disobeying governor’s order\"\n",
      "7. \"They Know Trump Did It. They Just Don’t Care.\"\n",
      "8. \"CNN’s Sanders Hit Piece Doesn’t Pass the Smell Test\"\n",
      "9. \"Trump lashes out after former adviser Roger Stone is convicted on all 7 counts\"\n",
      "10. \"Nurse dies in New York hospital where workers are reduced to using trash bags as protective medical gear\"\n"
     ]
    }
   ],
   "source": [
    "sample = posts_df.sample(1000)\n",
    "print_most_changed(sample, submissions_df)"
   ]
  },
  {
   "cell_type": "code",
   "execution_count": null,
   "id": "bc2bba37-7245-4bb1-a6ea-bcbfac8fedf4",
   "metadata": {},
   "outputs": [],
   "source": []
  },
  {
   "cell_type": "code",
   "execution_count": null,
   "id": "87a05785-5510-4737-ac28-5e5a0dbec151",
   "metadata": {},
   "outputs": [],
   "source": []
  }
 ],
 "metadata": {
  "kernelspec": {
   "display_name": "Python 3 (ipykernel)",
   "language": "python",
   "name": "python3"
  },
  "language_info": {
   "codemirror_mode": {
    "name": "ipython",
    "version": 3
   },
   "file_extension": ".py",
   "mimetype": "text/x-python",
   "name": "python",
   "nbconvert_exporter": "python",
   "pygments_lexer": "ipython3",
   "version": "3.12.3"
  }
 },
 "nbformat": 4,
 "nbformat_minor": 5
}
