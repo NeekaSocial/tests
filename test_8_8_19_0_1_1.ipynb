{
 "cells": [
  {
   "cell_type": "code",
   "execution_count": 1,
   "id": "24e64354-14a9-4fa1-ab95-6ac7f7fb82b3",
   "metadata": {},
   "outputs": [],
   "source": [
    "import numpy as np\n",
    "import pandas as pd\n",
    "import random\n",
    "from neeka_lib import *\n",
    "from reddit_helper import *\n",
    "from sklearn.cluster import KMeans"
   ]
  },
  {
   "cell_type": "code",
   "execution_count": 2,
   "id": "8c79d76d-3bb2-45cd-89d5-b83edc0d32d4",
   "metadata": {},
   "outputs": [],
   "source": [
    "# Parameters\n",
    "MIN_VOTES_PER_USER = 8\n",
    "MIN_VOTES_PER_POST = 8\n",
    "N_GRAPH_ITERATIONS = 19\n",
    "DIV_WEIGHT = 0\n",
    "CENT_WEIGHT = 1\n",
    "POL_WEIGHT = 1\n",
    "VECTOR_LENGTH = 300 # length of user/post embeddings\n",
    "SUBREDDIT_NAMES = ['politics', 'news', 'worldnews']"
   ]
  },
  {
   "cell_type": "code",
   "execution_count": 3,
   "id": "211a1e44-21e8-46e8-b5f5-d83dc3e81028",
   "metadata": {},
   "outputs": [],
   "source": [
    "# get ALL votes\n",
    "all_votes_df = pd.read_csv('reddit_votes_data/44_million_reddit_votes/44_million_votes.txt',sep='\\t')"
   ]
  },
  {
   "cell_type": "code",
   "execution_count": 4,
   "id": "428c84b5-7655-4758-813a-92683a9d487b",
   "metadata": {},
   "outputs": [],
   "source": [
    "# get ALL submissions\n",
    "all_submissions_df = pd.read_csv('reddit_votes_data/submission_info/submission_info.txt',sep='\\t')\n",
    "all_submissions_df.set_index('SUBMISSION_ID',inplace=True)"
   ]
  },
  {
   "cell_type": "code",
   "execution_count": 5,
   "id": "124a95bf-5527-4a21-b10d-0bccc2729d79",
   "metadata": {},
   "outputs": [],
   "source": [
    "# get all submissions in specified subreddits submissions\n",
    "submissions_df = all_submissions_df[all_submissions_df['SUBREDDIT'].isin(SUBREDDIT_NAMES)]\n",
    "\n",
    "# get all submissions in specified subreddits submissions\n",
    "r_subreddit_names = [f'r/{NAME}' for NAME in SUBREDDIT_NAMES]\n",
    "votes_df = all_votes_df[all_votes_df['SUBREDDIT'].isin(r_subreddit_names)]\n",
    "votes_df = all_votes_df[all_votes_df['SUBMISSION_ID'].isin(submissions_df.index)]"
   ]
  },
  {
   "cell_type": "code",
   "execution_count": 6,
   "id": "ebf04562-94c8-4769-a83b-ed96bd4fff8a",
   "metadata": {},
   "outputs": [],
   "source": [
    "votes_df = filter_to_multiple_votes(votes_df, min_usr_votes=MIN_VOTES_PER_USER, min_post_votes=MIN_VOTES_PER_POST)"
   ]
  },
  {
   "cell_type": "code",
   "execution_count": 7,
   "id": "ad825b24-4799-4487-91ec-2f3a0d0b46fc",
   "metadata": {},
   "outputs": [],
   "source": [
    "# get all politics users \n",
    "pol_users = votes_df['USERNAME'].unique()\n",
    "\n",
    "# create our dataframe of users\n",
    "vectors = pd.Series([ np.random.choice([1,-1],VECTOR_LENGTH) for _ in range(len(pol_users)) ])\n",
    "intermediary_vectors = pd.Series([ np.zeros(VECTOR_LENGTH) for _ in range(len(pol_users)) ])\n",
    "\n",
    "users_df = pd.DataFrame({'USERS':pol_users,'VECTOR':vectors, 'INTERMEDIARY':intermediary_vectors})\n",
    "users_df.set_index('USERS',inplace=True)"
   ]
  },
  {
   "cell_type": "code",
   "execution_count": 8,
   "id": "c7d505d3-e050-4206-84b9-c208678b7b50",
   "metadata": {},
   "outputs": [],
   "source": [
    "reset_users(users_df)"
   ]
  },
  {
   "cell_type": "code",
   "execution_count": 9,
   "id": "24260026-4726-4b26-9dac-e5e82fec4ab2",
   "metadata": {},
   "outputs": [
    {
     "name": "stdout",
     "output_type": "stream",
     "text": [
      "          35600 / 35608         \r"
     ]
    }
   ],
   "source": [
    "# Iterate graph to form user embeddings\n",
    "for _ in range(N_GRAPH_ITERATIONS):\n",
    "    iterate_graph(votes_df, users_df)\n",
    "    resolve_graph(users_df)"
   ]
  },
  {
   "cell_type": "code",
   "execution_count": 10,
   "id": "ecf95d4b-1756-4ac0-845f-e4b2e3e43f56",
   "metadata": {},
   "outputs": [
    {
     "name": "stdout",
     "output_type": "stream",
     "text": [
      "0: 4632\n",
      "1: 8024\n"
     ]
    }
   ],
   "source": [
    "# Perform k-means clustering to group users - this is needed for testing\n",
    "kmeans = KMeans(n_clusters=2, random_state=0, n_init='auto')\n",
    "kmeans.fit(  np.stack(users_df['VECTOR'].to_numpy())  )\n",
    "group_labels = kmeans.labels_\n",
    "group_ids, group_counts = np.unique(group_labels, return_counts=True)\n",
    "for grpid, grpcnt in zip(group_ids,group_counts):\n",
    "    print(f'{grpid}: {grpcnt}')"
   ]
  },
  {
   "cell_type": "code",
   "execution_count": 11,
   "id": "5d713b00-f10f-4fa4-9a18-852d19f61620",
   "metadata": {},
   "outputs": [],
   "source": [
    "# Put users into groups - this is needed for testing\n",
    "users_df['GROUP'] = \"NO_GROUP\"\n",
    "users_df.loc[group_labels == 0,'GROUP'] = 'GROUP_0'\n",
    "users_df.loc[group_labels == 1,'GROUP'] = 'GROUP_1' "
   ]
  },
  {
   "cell_type": "code",
   "execution_count": 12,
   "id": "27aa8c79-330e-4069-bc4a-39009692572e",
   "metadata": {},
   "outputs": [],
   "source": [
    "# initialize the posts_df dataframe\n",
    "posts_df = pd.DataFrame({'POST_ID':list(set(votes_df['SUBMISSION_ID']))})\n",
    "posts_df.set_index('POST_ID',inplace=True)\n",
    "reset_post_stats(posts_df)"
   ]
  },
  {
   "cell_type": "code",
   "execution_count": 13,
   "id": "a6f8627e-e011-48f4-a59f-b8d9b6b76e88",
   "metadata": {
    "scrolled": true
   },
   "outputs": [],
   "source": [
    "# calculate some base statistics for each post\n",
    "calculate_post_stats(users_df, votes_df, posts_df)"
   ]
  },
  {
   "cell_type": "code",
   "execution_count": 14,
   "id": "3b930c36-748d-4e84-b686-4938f8ad074b",
   "metadata": {},
   "outputs": [],
   "source": [
    "# calvulate the Neeka score for each post\n",
    "neeka_score_calculation(posts_df, div_weight=DIV_WEIGHT, cent_weight=CENT_WEIGHT, pol_weight=POL_WEIGHT)"
   ]
  },
  {
   "cell_type": "code",
   "execution_count": 15,
   "id": "c405e26b-1f68-417a-899c-cebde9084ad1",
   "metadata": {},
   "outputs": [],
   "source": [
    "# calculate percentile rank \n",
    "x_index = np.logical_not(np.logical_or( posts_df['GROUP1_X'].isna(), posts_df['GROUP0_X'].isna())) \n",
    "posts_x_df = posts_df[x_index].copy()\n",
    "calculate_percentile_rank(posts_x_df)"
   ]
  },
  {
   "cell_type": "markdown",
   "id": "074b2f4c-76a5-450b-96d7-d6d1c73702bc",
   "metadata": {},
   "source": [
    "# Results"
   ]
  },
  {
   "cell_type": "markdown",
   "id": "be6f17ed-3250-4cad-9408-02e533afdbe7",
   "metadata": {},
   "source": [
    "### Statistics"
   ]
  },
  {
   "cell_type": "code",
   "execution_count": 16,
   "id": "630850c9-d590-4f89-8bcf-21302063dc91",
   "metadata": {},
   "outputs": [
    {
     "name": "stdout",
     "output_type": "stream",
     "text": [
      "\n",
      "    simple_agreement: 46.68 %\n",
      "    neeka_agreement: 54.49 %\n",
      "    agreement_change: 7.81 %\n",
      "\n",
      "    simple_apolar: 34.12 %\n",
      "    neeka_apolar: 49.05 %\n",
      "    apolar_change: 14.93 %\n",
      "\n",
      "    simple_neutrality: 66.46 %\n",
      "    neeka_neutrality: 98.05 %\n",
      "    neutrality_change: 31.58 %\n",
      "\n",
      "    Overall:\n",
      "    simple_quality: 49.09 %\n",
      "    neeka_quality: 67.2 %\n",
      "    quality_change: 18.11 %\n",
      "\n",
      "    #######################################\n",
      "\n",
      "    simple_group0_bias: 24.95 %\n",
      "    simple_group1_bias: 58.48 %\n",
      "    \n",
      "    neeka_group0_bias: 44.06 %\n",
      "    neeka_group1_bias: 42.11 %\n",
      "    \n"
     ]
    }
   ],
   "source": [
    "results = calculate_test_results(posts_x_df)\n",
    "print_test_results(results)"
   ]
  },
  {
   "cell_type": "markdown",
   "id": "5be8ea92-76b6-4ae4-af99-94e3c5ce11d3",
   "metadata": {},
   "source": [
    "### Most Promoted/Demoted ALL POSTS "
   ]
  },
  {
   "cell_type": "code",
   "execution_count": 17,
   "id": "9fc929b6-3331-4bd9-8ab4-4778a8f6b9e2",
   "metadata": {},
   "outputs": [
    {
     "name": "stdout",
     "output_type": "stream",
     "text": [
      "Most Promoted by **Neeka Consensus** over simple-consensus (most demoted by simple-consensus):\n",
      "1. \"NBA owner Mark Cuban to Senate: 'Do your f---ing job'\"\n",
      "2. \"Watch: Where Are All the Flag Lovers Now? Trump Plays and Points During the National Anthem\"\n",
      "3. \"Trump approval ratings nosedive amid coronavirus outbreak\"\n",
      "4. \"Mark Cuban wants the US government to give every household a $1,000 stimulus check every 2 weeks that expires if it's not spent within 10 days\"\n",
      "5. \"It’s a MAGA Microbe Meltdown | Trump utterly fails to rise to his first real crisis.\"\n",
      "6. \"Warren Would Take Billionaires Down a Few Billion Pegs - Elizabeth Warren’s tax proposals would significantly curb the gigantic fortunes of America’s richest families over time.\"\n",
      "7. \"Tom Ridge: Selfish protests against stay-at-home orders dishonor America's veterans\"\n",
      "8. \"Biden rolls out new policies on Medicare and student debt in effort to court Sanders supporters\"\n",
      "9. \"Wetherspoons denies ‘abandoning’ staff in coronavirus crisis - The UK pub chain Wetherspoons has denied it is “abandoning” its staff after it told 43,000 workers they will not be paid during the Covid-19 crisis until the company is reimbursed for their wages by the government.\"\n",
      "10. \"Trump Impeachment Hearings: The President’s Attempt to Intimidate Marie Yovanovitch Backfires\"\n",
      "-\n",
      "Most Promoted by **simple-consensus** over Neeka (most demoted by Neeka):\n",
      "1. \"Trump openly admitted on live TV to doing the thing he's accused of in the impeachment inquiry: Trump admitted to holding up military aid to pressure Ukraine to investigate a baseless conspiracy that it interfered in the 2016 election.\"\n",
      "2. \"Roger Stone convicted on all seven counts on charges filed in Mueller probe\"\n",
      "3. \"Netanyahu Charged With Bribery, Fraud and Breach of Trust, Capping a Dramatic Political Year\"\n",
      "4. \"Virginia governor makes Election Day a holiday and expands early voting\"\n",
      "5. \"Aldi tells suppliers product packaging must be 100% recyclable, reusable or compostable by 2025\"\n",
      "6. \"‘Everything Is Connected’: Ukrainian Gas Company’s CEO Willing to Testify Against Rudy Giuliani\"\n",
      "7. \"Russia banned from all global sport including 2020 OIympics and 2022 World Cup\"\n",
      "8. \"Video emerges showing Trump talking about cutting pandemic team in 2018, despite saying last week 'I didn't know about it'\"\n",
      "9. \"Trump Impeached for Abuse of Power\"\n",
      "10. \"Trump openly admitted on live TV to doing the thing he's accused of in the impeachment inquiry\"\n"
     ]
    }
   ],
   "source": [
    "sample = posts_df\n",
    "print_most_changed(sample, submissions_df)"
   ]
  },
  {
   "cell_type": "markdown",
   "id": "d5c1d1fb-300f-4855-8042-418c9a380e5f",
   "metadata": {},
   "source": [
    "### Most Promoted/Demoted SAMPLE A"
   ]
  },
  {
   "cell_type": "code",
   "execution_count": 18,
   "id": "b33fbef9-dd37-4f25-8faf-108d3f41a947",
   "metadata": {},
   "outputs": [
    {
     "name": "stdout",
     "output_type": "stream",
     "text": [
      "Most Promoted by **Neeka Consensus** over simple-consensus (most demoted by simple-consensus):\n",
      "1. \"Manufacturing Success: CNN’s Premature Parade for Buttigieg in Iowa\"\n",
      "2. \"Another mayor in the Philippines shot dead inside his own office at the town hall on Wednesday, September 5 making him the 11th mayor shot dead under President Duterte's Administration\"\n",
      "3. \"Nancy Pelosi: Trump’s Slow Response To Coronavirus Pandemic Was ‘Deadly’ - “As the president fiddles, people are dying,” the House speaker said.\"\n",
      "4. \"China shuts down more cities in bid to contain deadly virus\"\n",
      "5. \"Centrist Pundits Assume Voters Agree with Them. Polling Tells a Different Story.\"\n",
      "6. \"Japanese Fisheries Collapsed Due to Pesticides, New Research Says\"\n",
      "7. \"‘Inexcusable’: Dr. Sanjay Gupta Goes Off on Georgia Governor’s ‘Stunning’ Coronavirus Admission\"\n",
      "8. \"New Poll Shows Every Democratic Frontrunner Beating Donald Trump in 2020 Election\"\n",
      "9. \"Bald eagle rescued in Missouri after being shot in wing; shooter could face $100G fine\"\n",
      "10. \"Israeli police raided a coronavirus testing clinic in the East Jerusalem Palestinian neighborhood of Silwan and arrested its organizers on Tuesday night because the clinic was operated in collaboration with the Palestinian Authority\"\n",
      "-\n",
      "Most Promoted by **simple-consensus** over Neeka (most demoted by Neeka):\n",
      "1. \"Poll: 57% of voters say US political system works only for insiders with money & power\"\n",
      "2. \"Europeans fear relationship with America will only get worse under a Trump second term. “Eight years in political terms is an era, not an error. And it would undermine the reality of American democracy,” said French analyst François Heisbourg.\"\n",
      "3. \"The family of a British teenager killed in a road accident involving the wife of a American diplomat in August 2019 has called for the UK government to block the extradition of Julian Assange to the US, unless Washington agrees to send Anne Sacoolas in the opposite direction.\"\n",
      "4. \"Trump threatens to sue Minneapolis for demanding he pay for rally security in advance: Trump's campaign has stiffed at least 10 cities, going back to the 2016 campaign. Minneapolis won't stand for that\"\n",
      "5. \"'One of the Most Brazen Acts of Voter Suppression in Modern Times' as US Supreme Court Blocks Absentee Ballot Extension in Wisconsin. Justice Ruth Bader Ginsburg warned in a scathing dissent that the right-wing majority's ruling \"will result in massive disenfranchisement.\"\"\n",
      "6. \"Sen. Richard Burr, who sold stock before recent market decline, voted in 2012 against banning insider trading for Congress\"\n",
      "7. \"John Bolton Likes Tweet Saying Trump Should ‘Fire the Moron Who Hired John Bolton’\"\n",
      "8. \"Democrats rally behind Pelosi on delay of articles\"\n",
      "9. \"New Trove of Ukraine Documents Exposes 'Clear Paper Trail From Rudy Giuliani to the Oval Office to Secretary Pompeo'. \"We can see why Mike Pompeo has refused to release this information to Congress. The evidence is only going to get worse.\"\"\n",
      "10. \"Mexicans demand crackdown on Americans crossing the border\"\n"
     ]
    }
   ],
   "source": [
    "sample = posts_df.sample(1000)\n",
    "print_most_changed(sample, submissions_df)"
   ]
  },
  {
   "cell_type": "markdown",
   "id": "43613b92-9210-459d-ab19-df1205cf5d5d",
   "metadata": {},
   "source": [
    "### Most Promoted/Demoted SAMPLE B"
   ]
  },
  {
   "cell_type": "code",
   "execution_count": 19,
   "id": "498b6893-adb5-4b0a-b3d0-7c2a158b9ccd",
   "metadata": {},
   "outputs": [
    {
     "name": "stdout",
     "output_type": "stream",
     "text": [
      "Most Promoted by **Neeka Consensus** over simple-consensus (most demoted by simple-consensus):\n",
      "1. \"Nunes threatens to take CNN, Daily Beast to court over story about meeting with Ukrainian prosecutor | TheHill\"\n",
      "2. \"Giuliani pal Lev Parnas wants to testify about Nunes’ scrapped Ukraine trip: lawyer\"\n",
      "3. \"Public Enemy, Sarah Silverman to join Sanders at rally in Los Angeles\"\n",
      "4. \"Sanders becomes first to qualify for Maine primary as largest progressive organization in Iowa endorses him\"\n",
      "5. \"Multiple studies show Medicare for All would be cheaper than public option pushed by moderates\"\n",
      "6. \"Biden, not Sanders, gains in popularity after Warren drops out: Reuters/Ipsos poll\"\n",
      "7. \"Opinion: Are Americans ready for a female president? Yes. In fact, they might prefer one\"\n",
      "8. \"Newly revealed emails show why Trump should fear a real Senate trial\"\n",
      "9. \"Brazilians call for boycotts of major companies that support Bolsonaro | World news\"\n",
      "10. \"Kamala Harris aide says in resignation letter: 'I've never seen staff treated so poorly'\"\n",
      "-\n",
      "Most Promoted by **simple-consensus** over Neeka (most demoted by Neeka):\n",
      "1. \"Virginia will eliminate a state holiday honoring Robert E. Lee and Stonewall Jackson. It'll make Election Day a day off instead\"\n",
      "2. \"Trump administration reveals it's blocking dozens of emails about Ukraine aid freeze, including President's role\"\n",
      "3. \"The GOP attacked Ilhan Omar for calling Stephen Miller a \"white nationalist.\" She says his leaked emails prove her right.\"\n",
      "4. \"Winning: Trump Boos Reached \"Almost 100 Decibels\" at Nationals World Series Game\"\n",
      "5. \"State Department lawyers found the White House Office of Management and Budget, and thus the president, had no legal standing to block spending of the Ukraine aid in a legal finding conveyed in a classified memorandum to Secretary of State Michael Pompeo\"\n",
      "6. \"I ran the White House pandemic office. Trump closed it.\"\n",
      "7. \"Trump vows 'no more' federal aid to California as devastating wildfires continue to burn\"\n",
      "8. \"The rich are getting free money and capitalism is broken, says US billionaire\"\n",
      "9. \"#VoteThemAllOut2020 Trends as Trump's Republican Allies Stand Firm Behind the President During Impeachment Trial\"\n",
      "10. \"Devin Nunes was directly involved in the push for Biden Ukraine investigations, says Lev Parnas\"\n"
     ]
    }
   ],
   "source": [
    "sample = posts_df.sample(1000)\n",
    "print_most_changed(sample, submissions_df)"
   ]
  },
  {
   "cell_type": "markdown",
   "id": "a073ac97-8aa0-4f66-b523-942153a30eb3",
   "metadata": {},
   "source": [
    "### Most Promoted/Demoted SAMPLE C"
   ]
  },
  {
   "cell_type": "code",
   "execution_count": 20,
   "id": "ab7b9fb7-8c41-44fc-a8f1-67ffabaa9173",
   "metadata": {},
   "outputs": [
    {
     "name": "stdout",
     "output_type": "stream",
     "text": [
      "Most Promoted by **Neeka Consensus** over simple-consensus (most demoted by simple-consensus):\n",
      "1. \"Pope cancels event due to 'illness' after touching hands and kissing heads at Vatican\"\n",
      "2. \"Trump’s Budget: Making America God-Awful Again | It would destroy what’s left of the social safety net and finish the hollowing out of America’s working and middle classes.\"\n",
      "3. \"Virus-hit Chinese city to shut public transport\"\n",
      "4. \"FBI: Nation-state actors have breached two US municipalities\"\n",
      "5. \"Queen Elizabeth gives a coronavirus speech and the contrast with Trump is stunning\"\n",
      "6. \"Joe Biden proposes expanding Medicare eligibility and student debt relief\"\n",
      "7. \"George Conway Says Republicans Would Be 'Out For Blood' If Obama Had Done What Trump Did With Ukraine\"\n",
      "8. \"In Year-End Address, Dying Healthcare Activist Ady Barkan Reminds Public Joe Biden Only 2020 Democrat Not to Meet With Him\"\n",
      "9. \"Trump Is the Founders’ Worst Nightmare | The very conduct that necessitates presidential impeachment also supplies the means for the demagogue to escape it.\"\n",
      "10. \"Biden Accuser’s Lawyer Is Trump Donor With History of Representing Sexual Harassment Accusers\"\n",
      "-\n",
      "Most Promoted by **simple-consensus** over Neeka (most demoted by Neeka):\n",
      "1. \"‘Everything Is Connected’: Ukrainian Gas Company’s CEO Willing to Testify Against Rudy Giuliani\"\n",
      "2. \"A Message to PBS: Televise the Trump Impeachment Hearings for All to See\"\n",
      "3. \"House Intelligence Committee in possession of video, audio recordings from Giuliani associate Lev Parnas\"\n",
      "4. \"Megathread: House passes resolution formalizing impeachment inquiry against Trump\"\n",
      "5. \"'Unacceptable': Dems Fume After Trump Announces Plan to Refuse Congressional Oversight of Corporate Bailout Funds - \"This is a frightening amount of public money to have given a corrupt admininistration with zero accountability.\"\"\n",
      "6. \"‘As I was being eaten, I was thinking about my insurance’: Woman who lost face in bear attack on why she’s voting for Bernie Sanders\"\n",
      "7. \"'History Is Watching Us': 600+ Rallies Planned Nationwide on Trump Impeachment Eve\"\n",
      "8. \"The Guy Trump Cited as Proof There Wasn’t a Quid Pro Quo Just Said There Was a Quid Pro Quo; One of the president’s biggest allies just threw him under the bus\"\n",
      "9. \"Trump told Gordon Sondland to extort Ukraine. Now he claims to “hardly know” him. | Last month, Sondland was a \"really good man\" and a \"great American.\" Now? \"I hardly know the gentleman\"\"\n",
      "10. \"Schiff: I 'hope to hell' I'd impeach Obama if he did the same as Trump — If Obama had done what the current president is accused of, the House Intelligence Committee chairman told ABC's \"This Week,\" then \"every one of these Republicans would be voting to impeach him.\"\"\n"
     ]
    }
   ],
   "source": [
    "sample = posts_df.sample(1000)\n",
    "print_most_changed(sample, submissions_df)"
   ]
  },
  {
   "cell_type": "code",
   "execution_count": null,
   "id": "bc2bba37-7245-4bb1-a6ea-bcbfac8fedf4",
   "metadata": {},
   "outputs": [],
   "source": []
  },
  {
   "cell_type": "code",
   "execution_count": null,
   "id": "87a05785-5510-4737-ac28-5e5a0dbec151",
   "metadata": {},
   "outputs": [],
   "source": []
  }
 ],
 "metadata": {
  "kernelspec": {
   "display_name": "Python 3 (ipykernel)",
   "language": "python",
   "name": "python3"
  },
  "language_info": {
   "codemirror_mode": {
    "name": "ipython",
    "version": 3
   },
   "file_extension": ".py",
   "mimetype": "text/x-python",
   "name": "python",
   "nbconvert_exporter": "python",
   "pygments_lexer": "ipython3",
   "version": "3.12.3"
  }
 },
 "nbformat": 4,
 "nbformat_minor": 5
}
