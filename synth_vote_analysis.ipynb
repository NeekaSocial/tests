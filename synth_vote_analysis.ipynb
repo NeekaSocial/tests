{
 "cells": [
  {
   "cell_type": "code",
   "execution_count": 1,
   "id": "6c73f998-9fe8-42c5-9a69-bcbf2cdabb71",
   "metadata": {},
   "outputs": [],
   "source": [
    "import numpy as np\n",
    "import pandas as pd\n",
    "import random\n",
    "from neeka_lib import *\n",
    "from hdbscan import HDBSCAN"
   ]
  },
  {
   "cell_type": "code",
   "execution_count": 2,
   "id": "4a5c2bdf-b12d-41df-ad6f-00edd3ef5313",
   "metadata": {},
   "outputs": [],
   "source": [
    "## based on subreddits 'news', 'worldnews', and 'politics', filtered for users that have made more than 4 votes and posts that have more than 16 votes\n",
    "\n",
    "AVERAGE_VOTES_PER_USER = 59.07557045401082\n",
    "OG_NUMBER_OF_POSTS = 18535\n",
    "OG_NUMBER_OF_USERS = 17004\n",
    "STD_VOTES_PER_USER = 135.967848463547\n",
    "VOTES_PER_USER_PER_POST =  AVERAGE_VOTES_PER_USER / OG_NUMBER_OF_POSTS"
   ]
  },
  {
   "cell_type": "code",
   "execution_count": 3,
   "id": "7c262871-cd77-40ad-9562-dff2c3427f40",
   "metadata": {},
   "outputs": [],
   "source": [
    "grp0 = int(np.round(OG_NUMBER_OF_USERS*.7))\n",
    "grp1 = int(np.round(OG_NUMBER_OF_USERS*.3))\n",
    "usr_groups = [grp0,grp1]\n",
    "\n",
    "users_df = gen_users(usr_groups)\n",
    "posts_df =  gen_posts(num_posts=OG_NUMBER_OF_POSTS, num_groups=len(usr_groups))\n",
    "votes_df = gen_votes(users=users_df, posts=posts_df, avg_votes=AVERAGE_VOTES_PER_USER, std_votes=STD_VOTES_PER_USER, min_votes=4)"
   ]
  },
  {
   "cell_type": "code",
   "execution_count": 4,
   "id": "c419b829-f15c-4fc1-9287-08fb8cfb5b99",
   "metadata": {},
   "outputs": [],
   "source": [
    "reset_users(users_df)"
   ]
  },
  {
   "cell_type": "code",
   "execution_count": 5,
   "id": "3c26f8da-2e81-4507-b11c-a2a1f3c34ebc",
   "metadata": {},
   "outputs": [
    {
     "name": "stdout",
     "output_type": "stream",
     "text": [
      "          18500 / 18535         \r"
     ]
    }
   ],
   "source": [
    "for _ in range(3):\n",
    "    iterate_graph(votes_df, users_df)\n",
    "    resolve_graph(users_df)"
   ]
  },
  {
   "cell_type": "code",
   "execution_count": 6,
   "id": "a89c8984-06cc-45a1-a4b3-e2393a6972dd",
   "metadata": {},
   "outputs": [],
   "source": [
    "reset_post_stats(posts_df)"
   ]
  },
  {
   "cell_type": "code",
   "execution_count": 7,
   "id": "5210fbc2-22aa-41b8-b124-16b006df594e",
   "metadata": {},
   "outputs": [],
   "source": [
    "calculate_post_stats(users_df, votes_df, posts_df)"
   ]
  },
  {
   "cell_type": "code",
   "execution_count": 8,
   "id": "816f3be4-0beb-454d-8f5f-4ddfc016bac1",
   "metadata": {},
   "outputs": [],
   "source": [
    "neeka_score_calculation(posts_df)"
   ]
  },
  {
   "cell_type": "code",
   "execution_count": null,
   "id": "3eb2ff66-347d-4190-9c44-a034f4e496ac",
   "metadata": {},
   "outputs": [],
   "source": [
    "results = calculate_test_results(posts_df)\n",
    "print_test_results(results)"
   ]
  },
  {
   "cell_type": "code",
   "execution_count": null,
   "id": "9550ee74-9959-409f-b06a-499799cac741",
   "metadata": {},
   "outputs": [],
   "source": []
  },
  {
   "cell_type": "code",
   "execution_count": null,
   "id": "1a580f2e-8a48-4aff-b0df-d70819f597df",
   "metadata": {},
   "outputs": [],
   "source": []
  },
  {
   "cell_type": "code",
   "execution_count": null,
   "id": "bb8cd575-4e54-496f-a7a4-9471288b7266",
   "metadata": {},
   "outputs": [],
   "source": []
  },
  {
   "cell_type": "code",
   "execution_count": 10,
   "id": "ad4da854-e14f-45f4-9a9e-3772b6663847",
   "metadata": {},
   "outputs": [
    {
     "data": {
      "text/plain": [
       "np.float64(213.72439027483628)"
      ]
     },
     "execution_count": 10,
     "metadata": {},
     "output_type": "execute_result"
    }
   ],
   "source": [
    "np.mean(posts_df['POLARITY'])"
   ]
  },
  {
   "cell_type": "code",
   "execution_count": null,
   "id": "b240badc-f3c8-4317-9496-dc42d75f5855",
   "metadata": {},
   "outputs": [],
   "source": []
  }
 ],
 "metadata": {
  "kernelspec": {
   "display_name": "Python 3 (ipykernel)",
   "language": "python",
   "name": "python3"
  },
  "language_info": {
   "codemirror_mode": {
    "name": "ipython",
    "version": 3
   },
   "file_extension": ".py",
   "mimetype": "text/x-python",
   "name": "python",
   "nbconvert_exporter": "python",
   "pygments_lexer": "ipython3",
   "version": "3.12.3"
  }
 },
 "nbformat": 4,
 "nbformat_minor": 5
}
