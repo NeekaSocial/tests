{
 "cells": [
  {
   "cell_type": "code",
   "execution_count": 1,
   "id": "24e64354-14a9-4fa1-ab95-6ac7f7fb82b3",
   "metadata": {},
   "outputs": [],
   "source": [
    "import numpy as np\n",
    "import pandas as pd\n",
    "import random\n",
    "from neeka_lib import *\n",
    "from reddit_helper import *\n",
    "from sklearn.cluster import KMeans"
   ]
  },
  {
   "cell_type": "code",
   "execution_count": 2,
   "id": "8c79d76d-3bb2-45cd-89d5-b83edc0d32d4",
   "metadata": {},
   "outputs": [],
   "source": [
    "# Parameters\n",
    "MIN_VOTES_PER_USER = 16\n",
    "MIN_VOTES_PER_POST = 16\n",
    "N_GRAPH_ITERATIONS = 3\n",
    "VECTOR_LENGTH = 300 # length of user/post embeddings\n",
    "SUBREDDIT_NAMES = ['politics', 'news', 'worldnews']"
   ]
  },
  {
   "cell_type": "code",
   "execution_count": 3,
   "id": "211a1e44-21e8-46e8-b5f5-d83dc3e81028",
   "metadata": {},
   "outputs": [],
   "source": [
    "# get ALL votes\n",
    "all_votes_df = pd.read_csv('reddit_votes_data/44_million_reddit_votes/44_million_votes.txt',sep='\\t')"
   ]
  },
  {
   "cell_type": "code",
   "execution_count": 4,
   "id": "428c84b5-7655-4758-813a-92683a9d487b",
   "metadata": {},
   "outputs": [],
   "source": [
    "# get ALL submissions\n",
    "all_submissions_df = pd.read_csv('reddit_votes_data/submission_info/submission_info.txt',sep='\\t')\n",
    "all_submissions_df.set_index('SUBMISSION_ID',inplace=True)"
   ]
  },
  {
   "cell_type": "code",
   "execution_count": 5,
   "id": "124a95bf-5527-4a21-b10d-0bccc2729d79",
   "metadata": {},
   "outputs": [],
   "source": [
    "# get all submissions in specified subreddits submissions\n",
    "submissions_df = all_submissions_df[all_submissions_df['SUBREDDIT'].isin(SUBREDDIT_NAMES)]\n",
    "\n",
    "# get all submissions in specified subreddits submissions\n",
    "r_subreddit_names = [f'r/{NAME}' for NAME in SUBREDDIT_NAMES]\n",
    "votes_df = all_votes_df[all_votes_df['SUBREDDIT'].isin(r_subreddit_names)]\n",
    "votes_df = all_votes_df[all_votes_df['SUBMISSION_ID'].isin(submissions_df.index)]"
   ]
  },
  {
   "cell_type": "code",
   "execution_count": 6,
   "id": "ebf04562-94c8-4769-a83b-ed96bd4fff8a",
   "metadata": {},
   "outputs": [],
   "source": [
    "votes_df = filter_to_multiple_votes(votes_df, min_usr_votes=MIN_VOTES_PER_USER, min_post_votes=MIN_VOTES_PER_POST)"
   ]
  },
  {
   "cell_type": "code",
   "execution_count": 7,
   "id": "ad825b24-4799-4487-91ec-2f3a0d0b46fc",
   "metadata": {},
   "outputs": [],
   "source": [
    "# get all politics users \n",
    "pol_users = votes_df['USERNAME'].unique()\n",
    "\n",
    "# create our dataframe of users\n",
    "vectors = pd.Series([ np.random.choice([1,-1],VECTOR_LENGTH) for _ in range(len(pol_users)) ])\n",
    "intermediary_vectors = pd.Series([ np.zeros(VECTOR_LENGTH) for _ in range(len(pol_users)) ])\n",
    "\n",
    "users_df = pd.DataFrame({'USERS':pol_users,'VECTOR':vectors, 'INTERMEDIARY':intermediary_vectors})\n",
    "users_df.set_index('USERS',inplace=True)"
   ]
  },
  {
   "cell_type": "code",
   "execution_count": 8,
   "id": "c7d505d3-e050-4206-84b9-c208678b7b50",
   "metadata": {},
   "outputs": [],
   "source": [
    "reset_users(users_df)"
   ]
  },
  {
   "cell_type": "code",
   "execution_count": 9,
   "id": "24260026-4726-4b26-9dac-e5e82fec4ab2",
   "metadata": {},
   "outputs": [
    {
     "name": "stdout",
     "output_type": "stream",
     "text": [
      "          17500 / 17547         \r"
     ]
    }
   ],
   "source": [
    "# Iterate graph to form user embeddings\n",
    "for _ in range(N_GRAPH_ITERATIONS):\n",
    "    iterate_graph(votes_df, users_df)\n",
    "    resolve_graph(users_df)"
   ]
  },
  {
   "cell_type": "code",
   "execution_count": 10,
   "id": "ecf95d4b-1756-4ac0-845f-e4b2e3e43f56",
   "metadata": {},
   "outputs": [
    {
     "name": "stdout",
     "output_type": "stream",
     "text": [
      "0: 3158\n",
      "1: 4800\n"
     ]
    }
   ],
   "source": [
    "# Perform k-means clustering to group users - this is needed for testing\n",
    "kmeans = KMeans(n_clusters=2, random_state=0, n_init='auto')\n",
    "kmeans.fit(  np.stack(users_df['VECTOR'].to_numpy())  )\n",
    "group_labels = kmeans.labels_\n",
    "group_ids, group_counts = np.unique(group_labels, return_counts=True)\n",
    "for grpid, grpcnt in zip(group_ids,group_counts):\n",
    "    print(f'{grpid}: {grpcnt}')"
   ]
  },
  {
   "cell_type": "code",
   "execution_count": 11,
   "id": "5d713b00-f10f-4fa4-9a18-852d19f61620",
   "metadata": {},
   "outputs": [],
   "source": [
    "# Put users into groups - this is needed for testing\n",
    "users_df['GROUP'] = \"NO_GROUP\"\n",
    "users_df.loc[group_labels == 0,'GROUP'] = 'GROUP_0'\n",
    "users_df.loc[group_labels == 1,'GROUP'] = 'GROUP_1' "
   ]
  },
  {
   "cell_type": "code",
   "execution_count": 12,
   "id": "27aa8c79-330e-4069-bc4a-39009692572e",
   "metadata": {},
   "outputs": [],
   "source": [
    "# initialize the posts_df dataframe\n",
    "posts_df = pd.DataFrame({'POST_ID':list(set(votes_df['SUBMISSION_ID']))})\n",
    "posts_df.set_index('POST_ID',inplace=True)\n",
    "reset_post_stats(posts_df)"
   ]
  },
  {
   "cell_type": "code",
   "execution_count": 13,
   "id": "a6f8627e-e011-48f4-a59f-b8d9b6b76e88",
   "metadata": {
    "scrolled": true
   },
   "outputs": [],
   "source": [
    "# calculate some base statistics for each post\n",
    "calculate_post_stats(users_df, votes_df, posts_df)"
   ]
  },
  {
   "cell_type": "code",
   "execution_count": 14,
   "id": "3b930c36-748d-4e84-b686-4938f8ad074b",
   "metadata": {},
   "outputs": [],
   "source": [
    "# calvulate the Neeka score for each post\n",
    "neeka_score_calculation(posts_df)"
   ]
  },
  {
   "cell_type": "code",
   "execution_count": 15,
   "id": "c405e26b-1f68-417a-899c-cebde9084ad1",
   "metadata": {},
   "outputs": [],
   "source": [
    "# calculate percentile rank \n",
    "x_index = np.logical_not(np.logical_or( posts_df['GROUP1_X'].isna(), posts_df['GROUP0_X'].isna())) \n",
    "posts_x_df = posts_df[x_index].copy()\n",
    "calculate_percentile_rank(posts_x_df)"
   ]
  },
  {
   "cell_type": "markdown",
   "id": "074b2f4c-76a5-450b-96d7-d6d1c73702bc",
   "metadata": {},
   "source": [
    "# Results"
   ]
  },
  {
   "cell_type": "markdown",
   "id": "be6f17ed-3250-4cad-9408-02e533afdbe7",
   "metadata": {},
   "source": [
    "### Statistics"
   ]
  },
  {
   "cell_type": "code",
   "execution_count": 16,
   "id": "630850c9-d590-4f89-8bcf-21302063dc91",
   "metadata": {},
   "outputs": [
    {
     "name": "stdout",
     "output_type": "stream",
     "text": [
      "\n",
      "    simple_agreement: 49.66 %\n",
      "    neeka_agreement: 60.24 %\n",
      "    agreement_change: 10.58 %\n",
      "\n",
      "    simple_apolar: 44.91 %\n",
      "    neeka_apolar: 56.44 %\n",
      "    apolar_change: 11.52 %\n",
      "\n",
      "    simple_neutrality: 77.96 %\n",
      "    neeka_neutrality: 85.93 %\n",
      "    neutrality_change: 7.96 %\n",
      "\n",
      "    Overall:\n",
      "    simple_quality: 57.51 %\n",
      "    neeka_quality: 67.54 %\n",
      "    quality_change: 10.02 %\n",
      "\n",
      "    #######################################\n",
      "\n",
      "    simple_group0_bias: 27.72 %\n",
      "    simple_group1_bias: 49.75 %\n",
      "    \n",
      "    neeka_group0_bias: 36.44 %\n",
      "    neeka_group1_bias: 50.52 %\n",
      "    \n"
     ]
    }
   ],
   "source": [
    "results = calculate_test_results(posts_x_df)\n",
    "print_test_results(results)"
   ]
  },
  {
   "cell_type": "markdown",
   "id": "5be8ea92-76b6-4ae4-af99-94e3c5ce11d3",
   "metadata": {},
   "source": [
    "### Most Promoted/Demoted ALL POSTS "
   ]
  },
  {
   "cell_type": "code",
   "execution_count": 17,
   "id": "9fc929b6-3331-4bd9-8ab4-4778a8f6b9e2",
   "metadata": {},
   "outputs": [
    {
     "name": "stdout",
     "output_type": "stream",
     "text": [
      "Most Promoted by **Neeka Consensus** over simple-consensus (most demoted by simple-consensus):\n",
      "1. \"China will not change its position that Taiwan belongs to it and the world will only ever recognize that there is “one China”, Beijing said on Sunday after President Tsai Ing-wen won re-election and said she would not submit to China’s threats.\"\n",
      "2. \"Apple CEO becomes chairman of China university board\"\n",
      "3. \"Silicon Valley giants accused of avoiding $100 billion in taxes\"\n",
      "4. \"Pakistani professor sentenced to death for blasphemy\"\n",
      "5. \"Jail video of Jeffrey Epstein’s first suicide attempt was deleted, prosecutors reveal\"\n",
      "6. \"USA Powerlifting bans all trans women from competing as women\"\n",
      "7. \"Crystal Geyser accidentally emailed the Chronicle its strategy to put a bottling plant in Randle, WA including an astroturf PR campaign and suing opposed neighbors \"get them to the table.\" The company is now threatening to sue the paper for publishing.\"\n",
      "8. \"Fallout from Russia's mysterious missile disaster suggests a nuclear reactor blew up\"\n",
      "9. \"France declares first two confirmed cases of coronavirus\"\n",
      "10. \"In an angry rant on social media, Brazilian President Jair Bolsonaro denied his connection to the murder of councilwoman and human rights activist Marielle Franco in Rio de Janeiro last year and threatened to cancel the license of the television network that aired the allegations.\"\n",
      "-\n",
      "Most Promoted by **simple-consensus** over Neeka (most demoted by Neeka):\n",
      "1. \"Millennials support socialism because they want to make America great — but for everyone\"\n",
      "2. \"Trump's plan to cage kids indefinitely while denying them vaccines is ethnic cleansing in plain sight\"\n",
      "3. \"The U.S. President Was Credibly Accused of Rape—But It Didn't Make Front-Page News\"\n",
      "4. \"Teenage climate change activist Greta Thunberg said on Monday that talking to Trump at a UN summit on global warming would have been a waste of time since he would not have paid any attention.\"\n",
      "5. \"Churchill's grandson slams Trump for skipping cemetery visit because of weather: \"They died with their face to the foe and that pathetic inadequate @realDonaldTrump couldn’t even defy the weather to pay his respects to The Fallen,\" Soames tweeted\"\n",
      "6. \"Reddit ‘Quarantines’ Pro-Trump Forum Over Anti-Police Threats\"\n",
      "7. \"Cohen's lawyer says he's completely flipped and will give evidence that Trump colluded with Russia\"\n",
      "8. \"Pro-Trump Message Board “Quarantined” By Reddit Following Violent Threats\"\n",
      "9. \"Wake up, Republicans. Your party stands for all the wrong things now.\"\n",
      "10. \"Right-wing hawk attack tactics aren't working this time — and here's why: Republicans used their old Iraq tricks to quash critics of Trump's Iran adventure. But this time nobody's buying\"\n"
     ]
    }
   ],
   "source": [
    "sample = posts_df\n",
    "print_most_changed(sample, submissions_df)"
   ]
  },
  {
   "cell_type": "markdown",
   "id": "d5c1d1fb-300f-4855-8042-418c9a380e5f",
   "metadata": {},
   "source": [
    "### Most Promoted/Demoted SAMPLE A"
   ]
  },
  {
   "cell_type": "code",
   "execution_count": 18,
   "id": "b33fbef9-dd37-4f25-8faf-108d3f41a947",
   "metadata": {},
   "outputs": [
    {
     "name": "stdout",
     "output_type": "stream",
     "text": [
      "Most Promoted by **Neeka Consensus** over simple-consensus (most demoted by simple-consensus):\n",
      "1. \"In an angry rant on social media, Brazilian President Jair Bolsonaro denied his connection to the murder of councilwoman and human rights activist Marielle Franco in Rio de Janeiro last year and threatened to cancel the license of the television network that aired the allegations.\"\n",
      "2. \"Missing Romanian teenager 'begged' police to 'stay on the line':\"Please stay with me on the line, I'm really scared,\" Alexandra Macesanu told a police officer while crying during her third and last call, according to a transcript released on Facebook by her uncle\"\n",
      "3. \"#PresidentCuomo trends as governor’s star status rises over coronavirus response\"\n",
      "4. \"Martin Shkreli Placed in Solitary Confinement After Allegedly Running Company Behind Bars: Report\"\n",
      "5. \"Firms withdraw from China on worsening business conditions\"\n",
      "6. \"U.S. makes it harder to sue corporations over franchise wage law violations\"\n",
      "7. \"Finland to give dads same parental leave as mums\"\n",
      "8. \"Private jet sector asks to be included in bailouts for aviation industry amidst increase in plane charter volume\"\n",
      "9. \"FTC Sues Owner of Online Dating Service Match.com for Using Fake Love Interest Ads To Trick Consumers into Paying for a Match.com Subscription\"\n",
      "10. \"The Post Office Is a National Treasure. We Can’t Let the Privatizers Destroy It.\"\n",
      "-\n",
      "Most Promoted by **simple-consensus** over Neeka (most demoted by Neeka):\n",
      "1. \"Academics Rally Behind Alexandria Ocasio-Cortez Over Concentration Camp Comments: ‘She Is Completely Historically Accurate’\"\n",
      "2. \"Trump says Russia 'helped me get elected' for first time in furious outburst at Mueller\"\n",
      "3. \"Mueller to Congress: Trump’s Wrong, I Didn’t Exonerate Him\"\n",
      "4. \"Megathread: Trump Tells Freshman Congresswomen to 'Go Back' to the Countries They Came From\"\n",
      "5. \"Bill Nye says \"the planet's on f***ing fire\" and we need to \"grow the f*** up\"\"\n",
      "6. \"AG Bill Barr killed 7 Robert Mueller investigations — 10 days after he submitted his report\"\n",
      "7. \"Trump tweets 2020 campaign ad with logo used by Dutch white nationalist and white supremacists.\"\n",
      "8. \"President Draft Dodger Calls Himself ‘Wartime President’ Because He’s Really Into Role Play\"\n",
      "9. \"'This Is Not a Drill': Demonstrations in Over 1,000 US Cities Against Trump's Assault on Democracy, Rule of Law\"\n",
      "10. \"‘Wake up America, he’s creating a dictatorship’: Trump ignites backlash with demand Supreme Court justices recuse themselves from cases affecting him\"\n"
     ]
    }
   ],
   "source": [
    "sample = posts_df.sample(1000)\n",
    "print_most_changed(sample, submissions_df)"
   ]
  },
  {
   "cell_type": "markdown",
   "id": "43613b92-9210-459d-ab19-df1205cf5d5d",
   "metadata": {},
   "source": [
    "### Most Promoted/Demoted SAMPLE B"
   ]
  },
  {
   "cell_type": "code",
   "execution_count": 19,
   "id": "498b6893-adb5-4b0a-b3d0-7c2a158b9ccd",
   "metadata": {},
   "outputs": [
    {
     "name": "stdout",
     "output_type": "stream",
     "text": [
      "Most Promoted by **Neeka Consensus** over simple-consensus (most demoted by simple-consensus):\n",
      "1. \"UN peacekeepers 'fathered hundreds of children in Haiti mission', report says\"\n",
      "2. \"Christopher Tolkien son of J. R. R. Tolkien has died at 95\"\n",
      "3. \"Women can swim topless in Barcelona as city rules it would be sex discrimination to to cover up\"\n",
      "4. \"New Trove of Ukraine Documents Exposes 'Clear Paper Trail From Rudy Giuliani to the Oval Office to Secretary Pompeo': \"We can see why Mike Pompeo has refused to release this information to Congress. The evidence is only going to get worse.\"\"\n",
      "5. \"Prince Andrew Says He Doesn't Regret His 'Very Useful' Relationship With Jeffrey Epstein\"\n",
      "6. \"Fort Worth police officer who fatally shot Atatiana Jefferson indicted on murder charge\"\n",
      "7. \"California firefighters are heading to Australia to battle deadly brushfires on the ground\"\n",
      "8. \"Private clinics in the UK are reselling COVID-19 test kits at £125 despite only costing $2 to manufacture\"\n",
      "9. \"French Union cuts power to Amazon facility in support of workers\"\n",
      "10. \"Trump suggests he could serve more than eight years as president over 'stolen time' of Russia investigation\"\n",
      "-\n",
      "Most Promoted by **simple-consensus** over Neeka (most demoted by Neeka):\n",
      "1. \"The U.S. President Was Credibly Accused of Rape—But It Didn't Make Front-Page News\"\n",
      "2. \"Reddit ‘Quarantines’ Pro-Trump Forum Over Anti-Police Threats\"\n",
      "3. \"Mueller to Congress: Trump’s Wrong, I Didn’t Exonerate Him\"\n",
      "4. \"Megathread: Office of Special Counsel Indicts 13 Russian Nationals and 3 Russian Entities for Interference in 2016 Election\"\n",
      "5. \"Sanders presidency could start with $300 billion U.S. jobs program: adviser\"\n",
      "6. \"Obama: If Republicans really cared about Clinton's emails they would be 'up in arms' over Trump's iPhone\"\n",
      "7. \"Trump Mulls Letting Turkey Kill U.S. Resident to Help Saudis Get Away With Killing U.S. Resident\"\n",
      "8. \"Undermining Trump-Bolton War Narrative, British General Says No Evidence of 'Increased Threat' From Iran. \"Intelligence and military officials in Europe as well as in the United States said that over the past year, most aggressive moves have originated not in Tehran, but in Washington.\"\"\n",
      "9. \"Former Republican Congressman Says Trump 'Morally' and 'Intellectually' Unfit for Office\"\n",
      "10. \"The number of Covid-19 cases in the D.C. region is doubling every 48 hours\"\n"
     ]
    }
   ],
   "source": [
    "sample = posts_df.sample(1000)\n",
    "print_most_changed(sample, submissions_df)"
   ]
  },
  {
   "cell_type": "markdown",
   "id": "a073ac97-8aa0-4f66-b523-942153a30eb3",
   "metadata": {},
   "source": [
    "### Most Promoted/Demoted SAMPLE C"
   ]
  },
  {
   "cell_type": "code",
   "execution_count": 20,
   "id": "ab7b9fb7-8c41-44fc-a8f1-67ffabaa9173",
   "metadata": {},
   "outputs": [
    {
     "name": "stdout",
     "output_type": "stream",
     "text": [
      "Most Promoted by **Neeka Consensus** over simple-consensus (most demoted by simple-consensus):\n",
      "1. \"Pakistani professor sentenced to death for blasphemy\"\n",
      "2. \"Apple Safari browser sends some user IP addresses to Chinese conglomerate Tencent by default\"\n",
      "3. \"The head of Interpol disappears whilst visiting China\"\n",
      "4. \"French riot police 'spray tear gas' in faces of seated Extinction Rebellion activists\"\n",
      "5. \"China Invents Rice That Can Grow in Salt Water, Can Feed Over 200 Million People\"\n",
      "6. \"Berlin to freeze rents and give tenants rights to sue landlords after rising costs force residents out to suburbs - New law tackling rising prices sets cap for 1.5 million properties built before 2014\"\n",
      "7. \"Almost 200 North Korean soldiers have reportedly died from coronavirus cases while thousands more are in quarantine. The government won't acknowledge they even exist.\"\n",
      "8. \"Prague revamp reveals Jewish gravestones used to pave streets: Dozens of paving stones made from Jewish headstones have been found during redevelopment work in Prague’s tourist district, confirming speculation that the former communist regime raided synagogues and graveyards for building materials.\"\n",
      "9. \"Finland urges EU to consider banning Brazilian beef over Amazon fires\"\n",
      "10. \"Psychologist who waterboarded 9/11 masterminds says he was called a 'pussy' when he told the CIA to stop the brutal practice, Guantánamo trial hears\"\n",
      "-\n",
      "Most Promoted by **simple-consensus** over Neeka (most demoted by Neeka):\n",
      "1. \"Cohen's lawyer says he's completely flipped and will give evidence that Trump colluded with Russia\"\n",
      "2. \"Reddit users demand ban for notorious pro-Trump community\"\n",
      "3. \"Beto O'Rourke Rips Media for Failing to Connect Trump Rhetoric to El Paso: 'You Know the Sh*t He's Been Saying...Members of the Press, What the F*ck?'\"\n",
      "4. \"CNN’s Sanders Hit Piece Is a Journalistic Outrage\"\n",
      "5. \"Note to Media: Having A Penis Thrust In Your Face Is Not Harmless Fun and Jesus What Is Wrong With You People\"\n",
      "6. \"Elizabeth Warren Is Completely Serious About income inequality. About corporate power. About corrupt politics. And about being America’s next president.\"\n",
      "7. \"Ocasio-Cortez: Give stimulus checks to everyone now, collect next year from those who don't need them\"\n",
      "8. \"Bernie is the best choice\"\n",
      "9. \"F.B.I. Opened Inquiry Into Whether Trump Was Secretly Working on Behalf of Russia\"\n",
      "10. \"Bernie Sanders Is Not a Communist\"\n"
     ]
    }
   ],
   "source": [
    "sample = posts_df.sample(1000)\n",
    "print_most_changed(sample, submissions_df)"
   ]
  },
  {
   "cell_type": "code",
   "execution_count": null,
   "id": "bc2bba37-7245-4bb1-a6ea-bcbfac8fedf4",
   "metadata": {},
   "outputs": [],
   "source": []
  },
  {
   "cell_type": "code",
   "execution_count": null,
   "id": "87a05785-5510-4737-ac28-5e5a0dbec151",
   "metadata": {},
   "outputs": [],
   "source": []
  }
 ],
 "metadata": {
  "kernelspec": {
   "display_name": "Python 3 (ipykernel)",
   "language": "python",
   "name": "python3"
  },
  "language_info": {
   "codemirror_mode": {
    "name": "ipython",
    "version": 3
   },
   "file_extension": ".py",
   "mimetype": "text/x-python",
   "name": "python",
   "nbconvert_exporter": "python",
   "pygments_lexer": "ipython3",
   "version": "3.12.3"
  }
 },
 "nbformat": 4,
 "nbformat_minor": 5
}
