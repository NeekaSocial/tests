{
 "cells": [
  {
   "cell_type": "code",
   "execution_count": 1,
   "id": "24e64354-14a9-4fa1-ab95-6ac7f7fb82b3",
   "metadata": {},
   "outputs": [],
   "source": [
    "import numpy as np\n",
    "import pandas as pd\n",
    "import random\n",
    "from neeka_lib import *\n",
    "from reddit_helper import *\n",
    "from sklearn.cluster import KMeans"
   ]
  },
  {
   "cell_type": "code",
   "execution_count": 2,
   "id": "8c79d76d-3bb2-45cd-89d5-b83edc0d32d4",
   "metadata": {},
   "outputs": [],
   "source": [
    "# Parameters\n",
    "MIN_VOTES_PER_USER = 8\n",
    "MIN_VOTES_PER_POST = 8\n",
    "N_GRAPH_ITERATIONS = 3\n",
    "VECTOR_LENGTH = 300 # length of user/post embeddings\n",
    "SUBREDDIT_NAMES = ['politics', 'news', 'worldnews']"
   ]
  },
  {
   "cell_type": "code",
   "execution_count": 3,
   "id": "211a1e44-21e8-46e8-b5f5-d83dc3e81028",
   "metadata": {},
   "outputs": [],
   "source": [
    "# get ALL votes\n",
    "all_votes_df = pd.read_csv('reddit_votes_data/44_million_reddit_votes/44_million_votes.txt',sep='\\t')"
   ]
  },
  {
   "cell_type": "code",
   "execution_count": 4,
   "id": "428c84b5-7655-4758-813a-92683a9d487b",
   "metadata": {},
   "outputs": [],
   "source": [
    "# get ALL submissions\n",
    "all_submissions_df = pd.read_csv('reddit_votes_data/submission_info/submission_info.txt',sep='\\t')\n",
    "all_submissions_df.set_index('SUBMISSION_ID',inplace=True)"
   ]
  },
  {
   "cell_type": "code",
   "execution_count": 5,
   "id": "124a95bf-5527-4a21-b10d-0bccc2729d79",
   "metadata": {},
   "outputs": [],
   "source": [
    "# get all submissions in specified subreddits submissions\n",
    "submissions_df = all_submissions_df[all_submissions_df['SUBREDDIT'].isin(SUBREDDIT_NAMES)]\n",
    "\n",
    "# get all submissions in specified subreddits submissions\n",
    "r_subreddit_names = [f'r/{NAME}' for NAME in SUBREDDIT_NAMES]\n",
    "votes_df = all_votes_df[all_votes_df['SUBREDDIT'].isin(r_subreddit_names)]\n",
    "votes_df = all_votes_df[all_votes_df['SUBMISSION_ID'].isin(submissions_df.index)]"
   ]
  },
  {
   "cell_type": "code",
   "execution_count": 6,
   "id": "ebf04562-94c8-4769-a83b-ed96bd4fff8a",
   "metadata": {},
   "outputs": [],
   "source": [
    "votes_df = filter_to_multiple_votes(votes_df, min_usr_votes=MIN_VOTES_PER_USER, min_post_votes=MIN_VOTES_PER_POST)"
   ]
  },
  {
   "cell_type": "code",
   "execution_count": 7,
   "id": "c322c737-0361-4d39-9cf7-336d96337c51",
   "metadata": {},
   "outputs": [
    {
     "data": {
      "text/plain": [
       "1174890"
      ]
     },
     "execution_count": 7,
     "metadata": {},
     "output_type": "execute_result"
    }
   ],
   "source": [
    "len(votes_df)"
   ]
  },
  {
   "cell_type": "code",
   "execution_count": 8,
   "id": "2c3e9c5a-ef79-4584-aa33-c82b24f488d5",
   "metadata": {},
   "outputs": [
    {
     "data": {
      "text/plain": [
       "1174890"
      ]
     },
     "execution_count": 8,
     "metadata": {},
     "output_type": "execute_result"
    }
   ],
   "source": [
    "votes_df = filter_to_multiple_votes(votes_df, min_usr_votes=MIN_VOTES_PER_USER, min_post_votes=MIN_VOTES_PER_POST)\n",
    "len(votes_df)"
   ]
  },
  {
   "cell_type": "code",
   "execution_count": 9,
   "id": "ad825b24-4799-4487-91ec-2f3a0d0b46fc",
   "metadata": {},
   "outputs": [],
   "source": [
    "# get all politics users \n",
    "pol_users = votes_df['USERNAME'].unique()\n",
    "\n",
    "# create our dataframe of users\n",
    "vectors = pd.Series([ np.random.choice([1,-1],VECTOR_LENGTH) for _ in range(len(pol_users)) ])\n",
    "intermediary_vectors = pd.Series([ np.zeros(VECTOR_LENGTH) for _ in range(len(pol_users)) ])\n",
    "\n",
    "users_df = pd.DataFrame({'USERS':pol_users,'VECTOR':vectors, 'INTERMEDIARY':intermediary_vectors})\n",
    "users_df.set_index('USERS',inplace=True)"
   ]
  },
  {
   "cell_type": "code",
   "execution_count": 10,
   "id": "c7d505d3-e050-4206-84b9-c208678b7b50",
   "metadata": {},
   "outputs": [],
   "source": [
    "reset_users(users_df)"
   ]
  },
  {
   "cell_type": "code",
   "execution_count": 11,
   "id": "24260026-4726-4b26-9dac-e5e82fec4ab2",
   "metadata": {},
   "outputs": [
    {
     "name": "stdout",
     "output_type": "stream",
     "text": [
      "          35600 / 35608         \r"
     ]
    }
   ],
   "source": [
    "# Iterate graph to form user embeddings\n",
    "for _ in range(N_GRAPH_ITERATIONS):\n",
    "    iterate_graph(votes_df, users_df)\n",
    "    resolve_graph(users_df)"
   ]
  },
  {
   "cell_type": "code",
   "execution_count": 12,
   "id": "ecf95d4b-1756-4ac0-845f-e4b2e3e43f56",
   "metadata": {},
   "outputs": [
    {
     "name": "stdout",
     "output_type": "stream",
     "text": [
      "0: 5009\n",
      "1: 7647\n"
     ]
    }
   ],
   "source": [
    "# Perform k-means clustering to group users - this is needed for testing\n",
    "kmeans = KMeans(n_clusters=2, random_state=0, n_init='auto')\n",
    "kmeans.fit(  np.stack(users_df['VECTOR'].to_numpy())  )\n",
    "group_labels = kmeans.labels_\n",
    "group_ids, group_counts = np.unique(group_labels, return_counts=True)\n",
    "for grpid, grpcnt in zip(group_ids,group_counts):\n",
    "    print(f'{grpid}: {grpcnt}')"
   ]
  },
  {
   "cell_type": "code",
   "execution_count": 13,
   "id": "5d713b00-f10f-4fa4-9a18-852d19f61620",
   "metadata": {},
   "outputs": [],
   "source": [
    "# Put users into groups - this is needed for testing\n",
    "users_df['GROUP'] = \"NO_GROUP\"\n",
    "users_df.loc[group_labels == 0,'GROUP'] = 'GROUP_0'\n",
    "users_df.loc[group_labels == 1,'GROUP'] = 'GROUP_1' "
   ]
  },
  {
   "cell_type": "code",
   "execution_count": 14,
   "id": "27aa8c79-330e-4069-bc4a-39009692572e",
   "metadata": {},
   "outputs": [],
   "source": [
    "# initialize the posts_df dataframe\n",
    "posts_df = pd.DataFrame({'POST_ID':list(set(votes_df['SUBMISSION_ID']))})\n",
    "posts_df.set_index('POST_ID',inplace=True)\n",
    "reset_post_stats(posts_df)"
   ]
  },
  {
   "cell_type": "code",
   "execution_count": 15,
   "id": "a6f8627e-e011-48f4-a59f-b8d9b6b76e88",
   "metadata": {
    "scrolled": true
   },
   "outputs": [],
   "source": [
    "# calculate some base statistics for each post\n",
    "calculate_post_stats(users_df, votes_df, posts_df)"
   ]
  },
  {
   "cell_type": "code",
   "execution_count": 16,
   "id": "3b930c36-748d-4e84-b686-4938f8ad074b",
   "metadata": {},
   "outputs": [],
   "source": [
    "# calvulate the Neeka score for each post\n",
    "neeka_score_calculation(posts_df)"
   ]
  },
  {
   "cell_type": "code",
   "execution_count": 17,
   "id": "c405e26b-1f68-417a-899c-cebde9084ad1",
   "metadata": {},
   "outputs": [],
   "source": [
    "# calculate percentile rank \n",
    "x_index = np.logical_not(np.logical_or( posts_df['GROUP1_X'].isna(), posts_df['GROUP0_X'].isna())) \n",
    "posts_x_df = posts_df[x_index].copy()\n",
    "calculate_percentile_rank(posts_x_df)"
   ]
  },
  {
   "cell_type": "markdown",
   "id": "074b2f4c-76a5-450b-96d7-d6d1c73702bc",
   "metadata": {},
   "source": [
    "# Results"
   ]
  },
  {
   "cell_type": "markdown",
   "id": "be6f17ed-3250-4cad-9408-02e533afdbe7",
   "metadata": {},
   "source": [
    "### Statistics"
   ]
  },
  {
   "cell_type": "code",
   "execution_count": 18,
   "id": "630850c9-d590-4f89-8bcf-21302063dc91",
   "metadata": {},
   "outputs": [
    {
     "name": "stdout",
     "output_type": "stream",
     "text": [
      "\n",
      "    simple_agreement: 48.84 %\n",
      "    neeka_agreement: 60.44 %\n",
      "    agreement_change: 11.6 %\n",
      "\n",
      "    simple_apolar: 35.02 %\n",
      "    neeka_apolar: 47.52 %\n",
      "    apolar_change: 12.5 %\n",
      "\n",
      "    simple_neutrality: 68.79 %\n",
      "    neeka_neutrality: 80.62 %\n",
      "    neutrality_change: 11.83 %\n",
      "\n",
      "    Overall:\n",
      "    simple_quality: 50.88 %\n",
      "    neeka_quality: 62.86 %\n",
      "    quality_change: 11.97 %\n",
      "\n",
      "    #######################################\n",
      "\n",
      "    simple_group0_bias: 26.89 %\n",
      "    simple_group1_bias: 58.1 %\n",
      "    \n",
      "    neeka_group0_bias: 37.97 %\n",
      "    neeka_group1_bias: 57.35 %\n",
      "    \n"
     ]
    }
   ],
   "source": [
    "results = calculate_test_results(posts_x_df)\n",
    "print_test_results(results)"
   ]
  },
  {
   "cell_type": "markdown",
   "id": "5be8ea92-76b6-4ae4-af99-94e3c5ce11d3",
   "metadata": {},
   "source": [
    "### Most Promoted/Demoted ALL POSTS "
   ]
  },
  {
   "cell_type": "code",
   "execution_count": 19,
   "id": "9fc929b6-3331-4bd9-8ab4-4778a8f6b9e2",
   "metadata": {},
   "outputs": [
    {
     "name": "stdout",
     "output_type": "stream",
     "text": [
      "Most Promoted by **Neeka Consensus** over simple-consensus (most demoted by simple-consensus):\n",
      "1. \"Putin approves law targeting journalists as 'foreign agents'\"\n",
      "2. \"The Latest: US plan to allow prescription drugs from Canada\"\n",
      "3. \"Canada's Bianca Andreescu defeats Serena Williams to win U.S. Open\"\n",
      "4. \"'Fallacy' to say Amazon is the heritage of humankind, Brazil's Bolsonaro tells UN climate forum\"\n",
      "5. \"The Pentagon awarded Lockheed Martin $946 million on behalf of the Kingdom of Saudi Arabia for the defense giants’ THAAD missile defense system\"\n",
      "6. \"Virginia teacher sues school after being fired for not using transgender student's pronouns\"\n",
      "7. \"FBI: Nation-state actors have breached two US municipalities\"\n",
      "8. \"Mexico’s El Chapo sentenced to life in prison\"\n",
      "9. \"Apple and Samsung fined for deliberately slowing down phones\"\n",
      "10. \"Australian police find $200 million of meth hidden inside Sriracha bottles\"\n",
      "-\n",
      "Most Promoted by **simple-consensus** over Neeka (most demoted by Neeka):\n",
      "1. \"Greta Thunberg is Time's 2019 Person of the Year\"\n",
      "2. \"Greta Thunberg says she ‘needs a rest’ as she heads home to Sweden after year of global climate activism. Teen campaigner, this week named Time’s Person of the Year, is currently in Italy leading a ‘Fridays for Future’ demonstration\"\n",
      "3. \"Greta Thunberg tells cheering crowd 'we will make sure we put world leaders against the wall' if they do not tackle global warming | 'The adults are behaving as if there is no tomorrow but there is a tomorrow, it is the tomorrow where our young people will live &amp; we have to fight for that tomorrow.\"\"\n",
      "4. \"Millennials support socialism because they want to make America great — but for everyone\"\n",
      "5. \"Yale psychiatrist urges Pelosi: Request 72-hour mental health hold on Trump after Iran attack\"\n",
      "6. \"Trump is just 67 votes away from being an ex-President and it's freaking him out\"\n",
      "7. \"Trump sought to cheat to win re-election, Democrats charge at trial — \"President Trump solicited foreign interference in our democratic elections, abusing the powers of his office to seek help from abroad to improve his re-election prospects at home,\" lawmaker Adam Schiff told a hushed chamber.\"\n",
      "8. \"Teenage climate change activist Greta Thunberg said on Monday that talking to Trump at a UN summit on global warming would have been a waste of time since he would not have paid any attention.\"\n",
      "9. \"Trump's plan to cage kids indefinitely while denying them vaccines is ethnic cleansing in plain sight\"\n",
      "10. \"Right-wing hawk attack tactics aren't working this time — and here's why: Republicans used their old Iraq tricks to quash critics of Trump's Iran adventure. But this time nobody's buying\"\n"
     ]
    }
   ],
   "source": [
    "sample = posts_df\n",
    "print_most_changed(sample, submissions_df)"
   ]
  },
  {
   "cell_type": "markdown",
   "id": "d5c1d1fb-300f-4855-8042-418c9a380e5f",
   "metadata": {},
   "source": [
    "### Most Promoted/Demoted SAMPLE A"
   ]
  },
  {
   "cell_type": "code",
   "execution_count": 20,
   "id": "b33fbef9-dd37-4f25-8faf-108d3f41a947",
   "metadata": {},
   "outputs": [
    {
     "name": "stdout",
     "output_type": "stream",
     "text": [
      "Most Promoted by **Neeka Consensus** over simple-consensus (most demoted by simple-consensus):\n",
      "1. \"Mormon Senator goes ahead with medical marijuana bill despite his church's objection.\"\n",
      "2. \"North Korea Leader Kim-Jong Il has died\"\n",
      "3. \"Newly found video evidence may indicate turkish coup was facade\"\n",
      "4. \"Police are using unconstitutional \"Geofence Warrants\" to gather location data of anyone who was near the location of a crime\"\n",
      "5. \"Australia's PM abused by community members of NSW town hit by bushfires\"\n",
      "6. \"Nine Years After Citizens United, Calls to Overturn 'Horrendous' Decision and Pass Pro-Democracy HR1 - \"Until Citizens United is overturned, the corporate oligarchy will maintain the power to block the policies favored by the majority of Americans.\"\"\n",
      "7. \"NSA whistleblower Edward Snowden nominated for Nobel Peace Prize\"\n",
      "8. \"FBI admits Patriot Act snooping powers didn't crack any major terrorism cases.\"\n",
      "9. \"A college football fan's sign asking for beer money raised more than $1 million. He's giving it to charity\"\n",
      "10. \"CBS News poll: Majority of Americans and Democrats approve of Trump impeachment inquiry\"\n",
      "-\n",
      "Most Promoted by **simple-consensus** over Neeka (most demoted by Neeka):\n",
      "1. \"Warren: Kavanaugh 'should be impeached' just like Trump\"\n",
      "2. \"Donald Trump is much worse than Richard Nixon. He may even have committed treason.\"\n",
      "3. \"GOP Groundhog Day: Why do we keep electing Republicans? They're no good at this | If you're starting to get that special \"George W. Bush feeling,\" you're not alone. Will America learn its lesson?\"\n",
      "4. \"Donald Trump was impeachable the day he took office: Two and a half years later, we're finally there - From the first day, Donald Trump has been an unhappy president. Because he knew he was engaging in treason\"\n",
      "5. \"Report: Russia troll farm put content on r/The_Donald\"\n",
      "6. \"AOC angrily slams ‘crumbs for our families’ in a fiery speech about coronavirus stimulus on House floor\"\n",
      "7. \"Trump ranted for 35 minutes in 89-degree heat, calling the prime minister of Denmark ‘nasty,’ repeating his claim that Jewish voters are ‘disloyal,’ and saying it ‘isn’t my trade war’\"\n",
      "8. \"Over 60 percent of Americans say Trump's interactions with Ukraine president a serious problem: poll\"\n",
      "9. \"Activists get permit to fly 'Baby Trump' blimp over July 4 'Salute to Trump' celebration\"\n",
      "10. \"Video shows Mike Pence ‘callously’ turning back on caged migrants while touring border detention centres – One person said: 'I saw not a single shred of pity or empathy in that empty man’s eyes'\"\n"
     ]
    }
   ],
   "source": [
    "sample = posts_df.sample(1000)\n",
    "print_most_changed(sample, submissions_df)"
   ]
  },
  {
   "cell_type": "markdown",
   "id": "43613b92-9210-459d-ab19-df1205cf5d5d",
   "metadata": {},
   "source": [
    "### Most Promoted/Demoted SAMPLE B"
   ]
  },
  {
   "cell_type": "code",
   "execution_count": 21,
   "id": "498b6893-adb5-4b0a-b3d0-7c2a158b9ccd",
   "metadata": {},
   "outputs": [
    {
     "name": "stdout",
     "output_type": "stream",
     "text": [
      "Most Promoted by **Neeka Consensus** over simple-consensus (most demoted by simple-consensus):\n",
      "1. \"Elderly man attacked, humiliated while collecting cans in San Francisco neighborhood\"\n",
      "2. \"Iceland sentences 26 corrupt bankers to 74 years in prison\"\n",
      "3. \"Trump tweets altered video of Ilhan Omar belittling 9/11\"\n",
      "4. \"A Prison Guard Drove A Truck Through A Group Of Jewish ICE Protesters, Injuring Several\"\n",
      "5. \"Queensland government was warned about risks of Chinese company's water extraction. Exclusive: Concerns about groundwater security at Cherrabah overridden by Campbell Newman’s government\"\n",
      "6. \"Hong Kong protests: second car rams protesters as teargas deployed\"\n",
      "7. \"Coca-Cola will not ditch single-use plastic bottles because consumers still want them, the firm's head of sustainability told the BBC\"\n",
      "8. \"LeBron James: Daryl Morey was 'misinformed' about the situation in Hong Kong\"\n",
      "9. \"Founder of Bob's Red Mill Natural Foods transfers business to employees\"\n",
      "10. \"A rare protest has been held at one of China's most prestigious universities after authorities dropped the phrase \"freedom of thought\" from the school's charter and replaced it with a pledge to follow the Communist Party's leadership.\"\n",
      "-\n",
      "Most Promoted by **simple-consensus** over Neeka (most demoted by Neeka):\n",
      "1. \"GOP Groundhog Day: Why do we keep electing Republicans? They're no good at this | If you're starting to get that special \"George W. Bush feeling,\" you're not alone. Will America learn its lesson?\"\n",
      "2. \"Greta Thunberg apologises after saying politicians should be ‘put against the wall’. 'That’s what happens when you improvise speeches in a second language’ the 16-year-old said following criticism\"\n",
      "3. \"On Super Tuesday and Beyond, 10 Reasons to Vote for Bernie Sanders\"\n",
      "4. \"The Trump Organization planned to give Putin a $50 million penthouse at Trump Tower Moscow\"\n",
      "5. \"Democrats won't let Fox News host primary debates, citing 'inappropriate' relationship with Trump\"\n",
      "6. \"'Hell No': Ocasio-Cortez Denounces Pelosi-Approved Vote on McConnell's Border Bill Without New Protections for Children — \"Under no circumstances should the House vote for a McConnell-only bill w/ no negotiation with Democrats,\" said the Democrat from New York\"\n",
      "7. \"AOC Slams McConnell Campaign's 'Boys Will Be Boys' Defense: 'Boys Will Be Held Accountable For Their Actions'\"\n",
      "8. \"Beto O'Rourke Rips Media for Failing to Connect Trump Rhetoric to El Paso: 'You Know the Sh*t He's Been Saying...Members of the Press, What the F*ck?'\"\n",
      "9. \"Trump press aide Sarah Sanders must be fired after admitting she made false claims, say White House reporters\"\n",
      "10. \"If Trump Fires Mueller, We Must Impeach\"\n"
     ]
    }
   ],
   "source": [
    "sample = posts_df.sample(1000)\n",
    "print_most_changed(sample, submissions_df)"
   ]
  },
  {
   "cell_type": "markdown",
   "id": "a073ac97-8aa0-4f66-b523-942153a30eb3",
   "metadata": {},
   "source": [
    "### Most Promoted/Demoted SAMPLE C"
   ]
  },
  {
   "cell_type": "code",
   "execution_count": 22,
   "id": "ab7b9fb7-8c41-44fc-a8f1-67ffabaa9173",
   "metadata": {},
   "outputs": [
    {
     "name": "stdout",
     "output_type": "stream",
     "text": [
      "Most Promoted by **Neeka Consensus** over simple-consensus (most demoted by simple-consensus):\n",
      "1. \"Virginia teacher sues school after being fired for not using transgender student's pronouns\"\n",
      "2. \"Chinese schools have begun enforcing \"smart uniforms\" embedded with computer chips to monitor student movements and prevent them from skipping classes. As students enter the school, the time and date is recorded along with a short video that parents can access via a mobile app.\"\n",
      "3. \"Magic mushroom ingredient psilocybin could be key to treating depression - studies | Immediate reduction in depression and anxiety for up to eight months seen in patients with advanced cancer given a single dose of psilocybin\"\n",
      "4. \"Hong Kong protests: 70-year-old man hit by brick during clashes in Sheung Shui dies in hospital\"\n",
      "5. \"Air Asia flight loses contact with air traffic control\"\n",
      "6. \"Boeing ex-CEO is denied severance, forfeits at least $44 million\"\n",
      "7. \"Pelosi Statement on Timing of Appointment of Impeachment Mangers and Transmittal of Articles of Impeachment to Senate\"\n",
      "8. \"South Dakota will require \"In God We Trust\" signs in all public schools\"\n",
      "9. \"South Korea sees signs North Korea restoring part of launch site it promised to dismantle\"\n",
      "10. \"U.S. Says It Made 'Ceasefire' Deal in Syria But Turkey and Kurdish Forces Reject Claim\"\n",
      "-\n",
      "Most Promoted by **simple-consensus** over Neeka (most demoted by Neeka):\n",
      "1. \"Trump ranted for 35 minutes in 89-degree heat, calling the prime minister of Denmark ‘nasty,’ repeating his claim that Jewish voters are ‘disloyal,’ and saying it ‘isn’t my trade war’\"\n",
      "2. \"On Super Tuesday and Beyond, 10 Reasons to Vote for Bernie Sanders\"\n",
      "3. \"Ocasio-Cortez dares moderate Dems to grow thicker skin, says ‘discomfort’ is part of politics: ‘I’m uncomfortable all the time’\"\n",
      "4. \"Warren’s nonstop ideas reshape the Democratic presidential race — and give her new momentum\"\n",
      "5. \"Proposal to spend 25% of European Union budget on climate change\"\n",
      "6. \"Ex-Trump adviser sold $31m in shares days before president announced steel tariffs\"\n",
      "7. \"Ivanka Trump broke her own stay-at-home advice and traveled 200 miles from DC to a Trump resort in New Jersey to celebrate Passover\"\n",
      "8. \"Trump trails Democrats by a historically large margin\"\n",
      "9. \"Trump writes rambling letter to Nancy Pelosi on eve of impeachment\"\n",
      "10. \"Support For Trump's Impeachment Surges Among Vulnerable Democrats Ahead Of House Floor Vote\"\n"
     ]
    }
   ],
   "source": [
    "sample = posts_df.sample(1000)\n",
    "print_most_changed(sample, submissions_df)"
   ]
  },
  {
   "cell_type": "code",
   "execution_count": null,
   "id": "bc2bba37-7245-4bb1-a6ea-bcbfac8fedf4",
   "metadata": {},
   "outputs": [],
   "source": []
  },
  {
   "cell_type": "code",
   "execution_count": null,
   "id": "87a05785-5510-4737-ac28-5e5a0dbec151",
   "metadata": {},
   "outputs": [],
   "source": []
  }
 ],
 "metadata": {
  "kernelspec": {
   "display_name": "Python 3 (ipykernel)",
   "language": "python",
   "name": "python3"
  },
  "language_info": {
   "codemirror_mode": {
    "name": "ipython",
    "version": 3
   },
   "file_extension": ".py",
   "mimetype": "text/x-python",
   "name": "python",
   "nbconvert_exporter": "python",
   "pygments_lexer": "ipython3",
   "version": "3.12.3"
  }
 },
 "nbformat": 4,
 "nbformat_minor": 5
}
