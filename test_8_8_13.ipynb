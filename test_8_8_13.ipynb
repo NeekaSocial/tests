{
 "cells": [
  {
   "cell_type": "code",
   "execution_count": 1,
   "id": "24e64354-14a9-4fa1-ab95-6ac7f7fb82b3",
   "metadata": {},
   "outputs": [],
   "source": [
    "import numpy as np\n",
    "import pandas as pd\n",
    "import random\n",
    "from neeka_lib import *\n",
    "from reddit_helper import *\n",
    "from sklearn.cluster import KMeans"
   ]
  },
  {
   "cell_type": "code",
   "execution_count": 2,
   "id": "8c79d76d-3bb2-45cd-89d5-b83edc0d32d4",
   "metadata": {},
   "outputs": [],
   "source": [
    "# Parameters\n",
    "MIN_VOTES_PER_USER = 8\n",
    "MIN_VOTES_PER_POST = 8\n",
    "N_GRAPH_ITERATIONS = 13\n",
    "VECTOR_LENGTH = 300 # length of user/post embeddings\n",
    "SUBREDDIT_NAMES = ['politics', 'news', 'worldnews']"
   ]
  },
  {
   "cell_type": "code",
   "execution_count": 3,
   "id": "211a1e44-21e8-46e8-b5f5-d83dc3e81028",
   "metadata": {},
   "outputs": [],
   "source": [
    "# get ALL votes\n",
    "all_votes_df = pd.read_csv('reddit_votes_data/44_million_reddit_votes/44_million_votes.txt',sep='\\t')"
   ]
  },
  {
   "cell_type": "code",
   "execution_count": 4,
   "id": "428c84b5-7655-4758-813a-92683a9d487b",
   "metadata": {},
   "outputs": [],
   "source": [
    "# get ALL submissions\n",
    "all_submissions_df = pd.read_csv('reddit_votes_data/submission_info/submission_info.txt',sep='\\t')\n",
    "all_submissions_df.set_index('SUBMISSION_ID',inplace=True)"
   ]
  },
  {
   "cell_type": "code",
   "execution_count": 5,
   "id": "124a95bf-5527-4a21-b10d-0bccc2729d79",
   "metadata": {},
   "outputs": [],
   "source": [
    "# get all submissions in specified subreddits submissions\n",
    "submissions_df = all_submissions_df[all_submissions_df['SUBREDDIT'].isin(SUBREDDIT_NAMES)]\n",
    "\n",
    "# get all submissions in specified subreddits submissions\n",
    "r_subreddit_names = [f'r/{NAME}' for NAME in SUBREDDIT_NAMES]\n",
    "votes_df = all_votes_df[all_votes_df['SUBREDDIT'].isin(r_subreddit_names)]\n",
    "votes_df = all_votes_df[all_votes_df['SUBMISSION_ID'].isin(submissions_df.index)]"
   ]
  },
  {
   "cell_type": "code",
   "execution_count": 6,
   "id": "ebf04562-94c8-4769-a83b-ed96bd4fff8a",
   "metadata": {},
   "outputs": [],
   "source": [
    "votes_df = filter_to_multiple_votes(votes_df, min_usr_votes=MIN_VOTES_PER_USER, min_post_votes=MIN_VOTES_PER_POST)"
   ]
  },
  {
   "cell_type": "code",
   "execution_count": 7,
   "id": "ad825b24-4799-4487-91ec-2f3a0d0b46fc",
   "metadata": {},
   "outputs": [],
   "source": [
    "# get all politics users \n",
    "pol_users = votes_df['USERNAME'].unique()\n",
    "\n",
    "# create our dataframe of users\n",
    "vectors = pd.Series([ np.random.choice([1,-1],VECTOR_LENGTH) for _ in range(len(pol_users)) ])\n",
    "intermediary_vectors = pd.Series([ np.zeros(VECTOR_LENGTH) for _ in range(len(pol_users)) ])\n",
    "\n",
    "users_df = pd.DataFrame({'USERS':pol_users,'VECTOR':vectors, 'INTERMEDIARY':intermediary_vectors})\n",
    "users_df.set_index('USERS',inplace=True)"
   ]
  },
  {
   "cell_type": "code",
   "execution_count": 8,
   "id": "c7d505d3-e050-4206-84b9-c208678b7b50",
   "metadata": {},
   "outputs": [],
   "source": [
    "reset_users(users_df)"
   ]
  },
  {
   "cell_type": "code",
   "execution_count": 9,
   "id": "24260026-4726-4b26-9dac-e5e82fec4ab2",
   "metadata": {},
   "outputs": [
    {
     "name": "stdout",
     "output_type": "stream",
     "text": [
      "          35600 / 35608         \r"
     ]
    }
   ],
   "source": [
    "# Iterate graph to form user embeddings\n",
    "for _ in range(N_GRAPH_ITERATIONS):\n",
    "    iterate_graph(votes_df, users_df)\n",
    "    resolve_graph(users_df)"
   ]
  },
  {
   "cell_type": "code",
   "execution_count": 10,
   "id": "ecf95d4b-1756-4ac0-845f-e4b2e3e43f56",
   "metadata": {},
   "outputs": [
    {
     "name": "stdout",
     "output_type": "stream",
     "text": [
      "0: 4614\n",
      "1: 8042\n"
     ]
    }
   ],
   "source": [
    "# Perform k-means clustering to group users - this is needed for testing\n",
    "kmeans = KMeans(n_clusters=2, random_state=0, n_init='auto')\n",
    "kmeans.fit(  np.stack(users_df['VECTOR'].to_numpy())  )\n",
    "group_labels = kmeans.labels_\n",
    "group_ids, group_counts = np.unique(group_labels, return_counts=True)\n",
    "for grpid, grpcnt in zip(group_ids,group_counts):\n",
    "    print(f'{grpid}: {grpcnt}')"
   ]
  },
  {
   "cell_type": "code",
   "execution_count": 11,
   "id": "5d713b00-f10f-4fa4-9a18-852d19f61620",
   "metadata": {},
   "outputs": [],
   "source": [
    "# Put users into groups - this is needed for testing\n",
    "users_df['GROUP'] = \"NO_GROUP\"\n",
    "users_df.loc[group_labels == 0,'GROUP'] = 'GROUP_0'\n",
    "users_df.loc[group_labels == 1,'GROUP'] = 'GROUP_1' "
   ]
  },
  {
   "cell_type": "code",
   "execution_count": 12,
   "id": "27aa8c79-330e-4069-bc4a-39009692572e",
   "metadata": {},
   "outputs": [],
   "source": [
    "# initialize the posts_df dataframe\n",
    "posts_df = pd.DataFrame({'POST_ID':list(set(votes_df['SUBMISSION_ID']))})\n",
    "posts_df.set_index('POST_ID',inplace=True)\n",
    "reset_post_stats(posts_df)"
   ]
  },
  {
   "cell_type": "code",
   "execution_count": 13,
   "id": "a6f8627e-e011-48f4-a59f-b8d9b6b76e88",
   "metadata": {
    "scrolled": true
   },
   "outputs": [],
   "source": [
    "# calculate some base statistics for each post\n",
    "calculate_post_stats(users_df, votes_df, posts_df)"
   ]
  },
  {
   "cell_type": "code",
   "execution_count": 14,
   "id": "3b930c36-748d-4e84-b686-4938f8ad074b",
   "metadata": {},
   "outputs": [],
   "source": [
    "# calvulate the Neeka score for each post\n",
    "neeka_score_calculation(posts_df)"
   ]
  },
  {
   "cell_type": "code",
   "execution_count": 15,
   "id": "c405e26b-1f68-417a-899c-cebde9084ad1",
   "metadata": {},
   "outputs": [],
   "source": [
    "# calculate percentile rank \n",
    "x_index = np.logical_not(np.logical_or( posts_df['GROUP1_X'].isna(), posts_df['GROUP0_X'].isna())) \n",
    "posts_x_df = posts_df[x_index].copy()\n",
    "calculate_percentile_rank(posts_x_df)"
   ]
  },
  {
   "cell_type": "markdown",
   "id": "074b2f4c-76a5-450b-96d7-d6d1c73702bc",
   "metadata": {},
   "source": [
    "# Results"
   ]
  },
  {
   "cell_type": "markdown",
   "id": "be6f17ed-3250-4cad-9408-02e533afdbe7",
   "metadata": {},
   "source": [
    "### Statistics"
   ]
  },
  {
   "cell_type": "code",
   "execution_count": 16,
   "id": "630850c9-d590-4f89-8bcf-21302063dc91",
   "metadata": {},
   "outputs": [
    {
     "name": "stdout",
     "output_type": "stream",
     "text": [
      "\n",
      "    simple_agreement: 46.46 %\n",
      "    neeka_agreement: 65.13 %\n",
      "    agreement_change: 18.67 %\n",
      "\n",
      "    simple_apolar: 33.43 %\n",
      "    neeka_apolar: 53.55 %\n",
      "    apolar_change: 20.12 %\n",
      "\n",
      "    simple_neutrality: 66.5 %\n",
      "    neeka_neutrality: 92.94 %\n",
      "    neutrality_change: 26.45 %\n",
      "\n",
      "    Overall:\n",
      "    simple_quality: 48.8 %\n",
      "    neeka_quality: 70.54 %\n",
      "    quality_change: 21.75 %\n",
      "\n",
      "    #######################################\n",
      "\n",
      "    simple_group0_bias: 25.11 %\n",
      "    simple_group1_bias: 58.61 %\n",
      "    \n",
      "    neeka_group0_bias: 44.66 %\n",
      "    neeka_group1_bias: 51.72 %\n",
      "    \n"
     ]
    }
   ],
   "source": [
    "results = calculate_test_results(posts_x_df)\n",
    "print_test_results(results)"
   ]
  },
  {
   "cell_type": "markdown",
   "id": "5be8ea92-76b6-4ae4-af99-94e3c5ce11d3",
   "metadata": {},
   "source": [
    "### Most Promoted/Demoted ALL POSTS "
   ]
  },
  {
   "cell_type": "code",
   "execution_count": 17,
   "id": "9fc929b6-3331-4bd9-8ab4-4778a8f6b9e2",
   "metadata": {},
   "outputs": [
    {
     "name": "stdout",
     "output_type": "stream",
     "text": [
      "Most Promoted by **Neeka Consensus** over simple-consensus (most demoted by simple-consensus):\n",
      "1. \"Apple and Samsung fined for deliberately slowing down phones\"\n",
      "2. \"FBI: Nation-state actors have breached two US municipalities\"\n",
      "3. \"A former neighbor of Joe Biden's accuser Tara Reade has come forward to corroborate her sexual assault account, saying Reade discussed the allegations in detail in the mid-1990s\"\n",
      "4. \"Spain: prosecutors claim attack not rape as victim ‘did not fight back’ - Six men accused of sexual abuse of 14-year-old girl in abandoned factory in Manresa\"\n",
      "5. \"Feb. 11 Is 'The Day We Fight Back' Against NSA Surveillance | More than 5,300 web-based companies and other organizations, including Reddit, Imgur, Tumblr, Mozilla the Electronic Frontier Foundation and the ACLU, have joined forces to protest National Security Agency surveillance on Feb. 11.\"\n",
      "6. \"Rapper Pop Smoke killed in home invasion\"\n",
      "7. \"Not a conspiracy anymore\"\n",
      "8. \"Houston Chronicle calls on O'Rourke to end White House bid, run for Senate\"\n",
      "9. \"Banksy says that most \"Banksy\" works are fake\"\n",
      "10. \"Iceland sentences 26 corrupt bankers to 74 years in prison\"\n",
      "-\n",
      "Most Promoted by **simple-consensus** over Neeka (most demoted by Neeka):\n",
      "1. \"Europeans fear relationship with America will only get worse under a Trump second term. “Eight years in political terms is an era, not an error. And it would undermine the reality of American democracy,” said French analyst François Heisbourg.\"\n",
      "2. \"Trump Named ‘Worst President for Our Environment in History' by Nine Green Groups\"\n",
      "3. \"Experts say Trump firing of 3 officials including Sondland and Vindman is a ‘criminal’ offense\"\n",
      "4. \"Trump launches snide attack on Greta Thunberg after she beats him to Time Person of the Year\"\n",
      "5. \"Skeptics Blast Trump's New Claim That Soleimani Targeted 4 US Embassies: \"Either Fox News gets higher level briefings than Congress ... or there was no such imminent threat,\" charged Sen. Chris Murphy.\"\n",
      "6. \"Kim Jong Un Wants Trump To Win In 2020, Former White House Adviser Says: 'All The Bad Guys Want Trump To Win'\"\n",
      "7. \"Greta Thunberg is Time's 2019 Person of the Year\"\n",
      "8. \"It Is Beginning to Look Like the U.S. Has a Corruption Problem, Not Ukraine\"\n",
      "9. \"No, Mr. President, healthcare workers aren’t stealing masks. You failed them.\"\n",
      "10. \"Trump officials are bending over backwards to say he didn't threaten to commit a war crime after he repeatedly threatened to commit a war crime\"\n"
     ]
    }
   ],
   "source": [
    "sample = posts_df\n",
    "print_most_changed(sample, submissions_df)"
   ]
  },
  {
   "cell_type": "markdown",
   "id": "d5c1d1fb-300f-4855-8042-418c9a380e5f",
   "metadata": {},
   "source": [
    "### Most Promoted/Demoted SAMPLE A"
   ]
  },
  {
   "cell_type": "code",
   "execution_count": 18,
   "id": "b33fbef9-dd37-4f25-8faf-108d3f41a947",
   "metadata": {},
   "outputs": [
    {
     "name": "stdout",
     "output_type": "stream",
     "text": [
      "Most Promoted by **Neeka Consensus** over simple-consensus (most demoted by simple-consensus):\n",
      "1. \"Photos Emerge From Kashmir, a Land on Lockdown. Indian photographers managed to work around a communication blockade to publish their images\"\n",
      "2. \"The Pentagon awarded Lockheed Martin $946 million on behalf of the Kingdom of Saudi Arabia for the defense giants’ THAAD missile defense system\"\n",
      "3. \"Chinese schools have begun enforcing \"smart uniforms\" embedded with computer chips to monitor student movements and prevent them from skipping classes. As students enter the school, the time and date is recorded along with a short video that parents can access via a mobile app.\"\n",
      "4. \"Mormon Senator goes ahead with medical marijuana bill despite his church's objection.\"\n",
      "5. \"Anger grows as Puerto Rico misses power restoration deadline\"\n",
      "6. \"The Liz and Bernie show: Progressive duo shows us why they're electable |Warren and Sanders lay waste to moderate foes, and to the false dichotomy between \"electable\" and progressive\"\n",
      "7. \"Shep Smith Out at Fox News Amid Trump Tension\"\n",
      "8. \"Russia spreading propaganda during COVID-19 pandemic: Canadian study\"\n",
      "9. \"New video emerges of fatal shooting of black jogger in Georgia in Georgia\"\n",
      "10. \"Biden Accuser’s Lawyer Is Trump Donor With History of Representing Sexual Harassment Accusers\"\n",
      "-\n",
      "Most Promoted by **simple-consensus** over Neeka (most demoted by Neeka):\n",
      "1. \"Climate activist Greta Thunberg donates prize money to new foundation\"\n",
      "2. \"Trump Tied Soleimani Hit To Support From GOP Hawks Ahead Of Impeachment Trial According to NYT and WSJ: New motivation emerges after contradictory Trump administration accounts of \"imminent\" threats justifying airstrike assassination.\"\n",
      "3. \"Right-wing hawk attack tactics aren't working this time — and here's why: Republicans used their old Iraq tricks to quash critics of Trump's Iran adventure. But this time nobody's buying\"\n",
      "4. \"Trump’s climate change denial is “so extreme” it is helping to galvanise the environmental movement, Greta Thunberg has said.\"\n",
      "5. \"A new witness is about to damage Trump. Fox News is already smearing him.\"\n",
      "6. \"Trump golf cart rentals have now cost US taxpayers more than half a million dollars\"\n",
      "7. \"Academics Rally Behind Alexandria Ocasio-Cortez Over Concentration Camp Comments: ‘She Is Completely Historically Accurate’\"\n",
      "8. \"Former Hawaii Democratic governor calls on Gabbard to resign\"\n",
      "9. \"The U.S. President Was Credibly Accused of Rape—But It Didn't Make Front-Page News\"\n",
      "10. \"The Trump administration plans to kick 700,000 off food stamps during a pandemic\"\n"
     ]
    }
   ],
   "source": [
    "sample = posts_df.sample(1000)\n",
    "print_most_changed(sample, submissions_df)"
   ]
  },
  {
   "cell_type": "markdown",
   "id": "43613b92-9210-459d-ab19-df1205cf5d5d",
   "metadata": {},
   "source": [
    "### Most Promoted/Demoted SAMPLE B"
   ]
  },
  {
   "cell_type": "code",
   "execution_count": 19,
   "id": "498b6893-adb5-4b0a-b3d0-7c2a158b9ccd",
   "metadata": {},
   "outputs": [
    {
     "name": "stdout",
     "output_type": "stream",
     "text": [
      "Most Promoted by **Neeka Consensus** over simple-consensus (most demoted by simple-consensus):\n",
      "1. \"Emmanuel Macron to introduce new tax on expensive jewellery, supercars and luxury yachts\"\n",
      "2. \"The bushfires in Australia are so big they're generating their own weather systems — 'pyrocumulonimbus' thunderstorms that can start more fires.\"\n",
      "3. \"US police arrest 36-year-old nurse after patient in a vegetative state gave birth\"\n",
      "4. \"China Killing Prisoners To Harvest Organs For Transplant: BMC Report Accuses China Of ‘Falsifying’ Data\"\n",
      "5. \"Tibetan students and government workers are banned from participating in religious observances, as Chinese authorities continue efforts to separate Tibetans from their cultural heritage and identity.\"\n",
      "6. \"Chinese Passengers refuse to board flight with Wuhan natives after recognizing their accents, causing a 5-hour standoff at Nagoya Airport\"\n",
      "7. \"Questioning Tara Reade’s story doesn’t make one a rape apologist: On Joe Biden and #MeToo\"\n",
      "8. \"CBS News poll: Majority of Americans and Democrats approve of Trump impeachment inquiry\"\n",
      "9. \"First bear in Germany in 16 years\"\n",
      "10. \"Iranian Chess Player Who Refused To Play For His Country Wins Silver Med\"\n",
      "-\n",
      "Most Promoted by **simple-consensus** over Neeka (most demoted by Neeka):\n",
      "1. \"Far-Right Terrorism Has Increased 320 Percent in Just 4 Years, Extremism Watchdog Warns\"\n",
      "2. \"Brad Pitt Slams GOP, Trump Impeachment Trial at the Oscars\"\n",
      "3. \"Leaked White House data shows infections spiking more than 1,000% in rural areas that backed Trump | Trump claims cases are falling everywhere. An unreleased task force report shows massive spikes in the heartland\"\n",
      "4. \"Senator Who Cast Key No Vote On Witnesses Laughs While Excusing Trump’s Behavior: “Maybe he didn’t know,” Lamar Alexander said when asked why the president went to Ukraine instead of the attorney general about the Bidens\"\n",
      "5. \"The public servants Trump smeared as 'traitors' and 'human scum' are TIME Magazine's 2019 'Guardians of the Year'\"\n",
      "6. \"MSNBC Cuts Into Briefing So Doctor Can Refute Trump's \"Mystifying\" Claim That Zinc Can Treat Covid-19\"\n",
      "7. \"ICE Destroyed Footage Of A Trans Asylum-Seeker Who Died In Custody Despite A Request To Save It\"\n",
      "8. \"Brazil expects 110,000 dead due to coronavirus in the state of São Paulo alone.\"\n",
      "9. \"Bernie is the best choice\"\n",
      "10. \"U.S. market sell-off brings short sellers $344 billion profit\"\n"
     ]
    }
   ],
   "source": [
    "sample = posts_df.sample(1000)\n",
    "print_most_changed(sample, submissions_df)"
   ]
  },
  {
   "cell_type": "markdown",
   "id": "a073ac97-8aa0-4f66-b523-942153a30eb3",
   "metadata": {},
   "source": [
    "### Most Promoted/Demoted SAMPLE C"
   ]
  },
  {
   "cell_type": "code",
   "execution_count": 20,
   "id": "ab7b9fb7-8c41-44fc-a8f1-67ffabaa9173",
   "metadata": {},
   "outputs": [
    {
     "name": "stdout",
     "output_type": "stream",
     "text": [
      "Most Promoted by **Neeka Consensus** over simple-consensus (most demoted by simple-consensus):\n",
      "1. \"Rapper Pop Smoke killed in home invasion\"\n",
      "2. \"In a break from tradition, I am endorsing all 12 Democratic candidates\"\n",
      "3. \"Texas Accepts Mexico's Offer of Harvey Relief\"\n",
      "4. \"CDC has stopped disclosing number of Coronavirus tests and cases in the U. S.\"\n",
      "5. \"CBS News poll: Majority of Americans and Democrats approve of Trump impeachment inquiry\"\n",
      "6. \"Fox News' Shepard Smith departs network, steps down as chief news anchor\"\n",
      "7. \"OK Boomers, Wake Up! — Sanders is the person you used to be but forgot about.\"\n",
      "8. \"South Dakota will require \"In God We Trust\" signs in all public schools\"\n",
      "9. \"Marion \"Suge\" Knight sentenced to 28 years in prison\"\n",
      "10. \"Atlanta student found dead filed a police report on unwanted kissing days before she vanished, authorities say\"\n",
      "-\n",
      "Most Promoted by **simple-consensus** over Neeka (most demoted by Neeka):\n",
      "1. \"Millennials support socialism because they want to make America great — but for everyone\"\n",
      "2. \"Trump is pissed at new intelligence reports showing the Kremlin has picked its preferred 2020 candidate: him. Trump railed Friday about new analysis by U.S. intelligence officials indicating Russia is already working to get him reelected. To him, it's just another partisan plot to discredit him.\"\n",
      "3. \"Former Republican says \"gun worship\" has \"gotten worse\" under Trump as Conservatives struggle to redefine patriotism\"\n",
      "4. \"For the first time, a majority of Americans want the Senate to remove President Trump from office\"\n",
      "5. \"Outrage and Disgust After 'Serial Killer' Navy SEAL, Pardoned by Trump for War Crimes, Rebrands as Conservative Influencer: In Iraq, Gallagher allegedly committed a number of war crimes, including killing a 15-yr-old. Gallagher was acquitted of all crimes other than posing with the child's body\"\n",
      "6. \"A new witness is about to damage Trump. Fox News is already smearing him.\"\n",
      "7. \"Trump just comes out and says it: The GOP is hurt when it’s easier to vote\"\n",
      "8. \"Hundreds of Thousands Take to Streets in All 50 States With a Simple Message for Congress: 'Time to Impeach and Remove Trump'; \"This is what democracy looks like.\"\"\n",
      "9. \"Speaker Nancy Pelosi hints House could take further action against Trump if Senate acquits\"\n",
      "10. \"Trump walks out of press conference after altercation with female reporters\"\n"
     ]
    }
   ],
   "source": [
    "sample = posts_df.sample(1000)\n",
    "print_most_changed(sample, submissions_df)"
   ]
  },
  {
   "cell_type": "code",
   "execution_count": null,
   "id": "bc2bba37-7245-4bb1-a6ea-bcbfac8fedf4",
   "metadata": {},
   "outputs": [],
   "source": []
  },
  {
   "cell_type": "code",
   "execution_count": null,
   "id": "87a05785-5510-4737-ac28-5e5a0dbec151",
   "metadata": {},
   "outputs": [],
   "source": []
  }
 ],
 "metadata": {
  "kernelspec": {
   "display_name": "Python 3 (ipykernel)",
   "language": "python",
   "name": "python3"
  },
  "language_info": {
   "codemirror_mode": {
    "name": "ipython",
    "version": 3
   },
   "file_extension": ".py",
   "mimetype": "text/x-python",
   "name": "python",
   "nbconvert_exporter": "python",
   "pygments_lexer": "ipython3",
   "version": "3.12.3"
  }
 },
 "nbformat": 4,
 "nbformat_minor": 5
}
