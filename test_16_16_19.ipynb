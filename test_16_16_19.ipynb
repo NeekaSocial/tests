{
 "cells": [
  {
   "cell_type": "code",
   "execution_count": 1,
   "id": "24e64354-14a9-4fa1-ab95-6ac7f7fb82b3",
   "metadata": {},
   "outputs": [],
   "source": [
    "import numpy as np\n",
    "import pandas as pd\n",
    "import random\n",
    "from neeka_lib import *\n",
    "from reddit_helper import *\n",
    "from sklearn.cluster import KMeans"
   ]
  },
  {
   "cell_type": "code",
   "execution_count": 2,
   "id": "8c79d76d-3bb2-45cd-89d5-b83edc0d32d4",
   "metadata": {},
   "outputs": [],
   "source": [
    "# Parameters\n",
    "MIN_VOTES_PER_USER = 16\n",
    "MIN_VOTES_PER_POST = 16\n",
    "N_GRAPH_ITERATIONS = 19\n",
    "VECTOR_LENGTH = 300 # length of user/post embeddings\n",
    "SUBREDDIT_NAMES = ['politics', 'news', 'worldnews']"
   ]
  },
  {
   "cell_type": "code",
   "execution_count": 3,
   "id": "211a1e44-21e8-46e8-b5f5-d83dc3e81028",
   "metadata": {},
   "outputs": [],
   "source": [
    "# get ALL votes\n",
    "all_votes_df = pd.read_csv('reddit_votes_data/44_million_reddit_votes/44_million_votes.txt',sep='\\t')"
   ]
  },
  {
   "cell_type": "code",
   "execution_count": 4,
   "id": "428c84b5-7655-4758-813a-92683a9d487b",
   "metadata": {},
   "outputs": [],
   "source": [
    "# get ALL submissions\n",
    "all_submissions_df = pd.read_csv('reddit_votes_data/submission_info/submission_info.txt',sep='\\t')\n",
    "all_submissions_df.set_index('SUBMISSION_ID',inplace=True)"
   ]
  },
  {
   "cell_type": "code",
   "execution_count": 5,
   "id": "124a95bf-5527-4a21-b10d-0bccc2729d79",
   "metadata": {},
   "outputs": [],
   "source": [
    "# get all submissions in specified subreddits submissions\n",
    "submissions_df = all_submissions_df[all_submissions_df['SUBREDDIT'].isin(SUBREDDIT_NAMES)]\n",
    "\n",
    "# get all submissions in specified subreddits submissions\n",
    "r_subreddit_names = [f'r/{NAME}' for NAME in SUBREDDIT_NAMES]\n",
    "votes_df = all_votes_df[all_votes_df['SUBREDDIT'].isin(r_subreddit_names)]\n",
    "votes_df = all_votes_df[all_votes_df['SUBMISSION_ID'].isin(submissions_df.index)]"
   ]
  },
  {
   "cell_type": "code",
   "execution_count": 6,
   "id": "ebf04562-94c8-4769-a83b-ed96bd4fff8a",
   "metadata": {},
   "outputs": [],
   "source": [
    "votes_df = filter_to_multiple_votes(votes_df, min_usr_votes=MIN_VOTES_PER_USER, min_post_votes=MIN_VOTES_PER_POST)"
   ]
  },
  {
   "cell_type": "code",
   "execution_count": 7,
   "id": "ad825b24-4799-4487-91ec-2f3a0d0b46fc",
   "metadata": {},
   "outputs": [],
   "source": [
    "# get all politics users \n",
    "pol_users = votes_df['USERNAME'].unique()\n",
    "\n",
    "# create our dataframe of users\n",
    "vectors = pd.Series([ np.random.choice([1,-1],VECTOR_LENGTH) for _ in range(len(pol_users)) ])\n",
    "intermediary_vectors = pd.Series([ np.zeros(VECTOR_LENGTH) for _ in range(len(pol_users)) ])\n",
    "\n",
    "users_df = pd.DataFrame({'USERS':pol_users,'VECTOR':vectors, 'INTERMEDIARY':intermediary_vectors})\n",
    "users_df.set_index('USERS',inplace=True)"
   ]
  },
  {
   "cell_type": "code",
   "execution_count": 8,
   "id": "c7d505d3-e050-4206-84b9-c208678b7b50",
   "metadata": {},
   "outputs": [],
   "source": [
    "reset_users(users_df)"
   ]
  },
  {
   "cell_type": "code",
   "execution_count": 9,
   "id": "24260026-4726-4b26-9dac-e5e82fec4ab2",
   "metadata": {},
   "outputs": [
    {
     "name": "stdout",
     "output_type": "stream",
     "text": [
      "          17500 / 17547         \r"
     ]
    }
   ],
   "source": [
    "# Iterate graph to form user embeddings\n",
    "for _ in range(N_GRAPH_ITERATIONS):\n",
    "    iterate_graph(votes_df, users_df)\n",
    "    resolve_graph(users_df)"
   ]
  },
  {
   "cell_type": "code",
   "execution_count": 10,
   "id": "ecf95d4b-1756-4ac0-845f-e4b2e3e43f56",
   "metadata": {},
   "outputs": [
    {
     "name": "stdout",
     "output_type": "stream",
     "text": [
      "0: 3247\n",
      "1: 4711\n"
     ]
    }
   ],
   "source": [
    "# Perform k-means clustering to group users - this is needed for testing\n",
    "kmeans = KMeans(n_clusters=2, random_state=0, n_init='auto')\n",
    "kmeans.fit(  np.stack(users_df['VECTOR'].to_numpy())  )\n",
    "group_labels = kmeans.labels_\n",
    "group_ids, group_counts = np.unique(group_labels, return_counts=True)\n",
    "for grpid, grpcnt in zip(group_ids,group_counts):\n",
    "    print(f'{grpid}: {grpcnt}')"
   ]
  },
  {
   "cell_type": "code",
   "execution_count": 11,
   "id": "5d713b00-f10f-4fa4-9a18-852d19f61620",
   "metadata": {},
   "outputs": [],
   "source": [
    "# Put users into groups - this is needed for testing\n",
    "users_df['GROUP'] = \"NO_GROUP\"\n",
    "users_df.loc[group_labels == 0,'GROUP'] = 'GROUP_0'\n",
    "users_df.loc[group_labels == 1,'GROUP'] = 'GROUP_1' "
   ]
  },
  {
   "cell_type": "code",
   "execution_count": 12,
   "id": "27aa8c79-330e-4069-bc4a-39009692572e",
   "metadata": {},
   "outputs": [],
   "source": [
    "# initialize the posts_df dataframe\n",
    "posts_df = pd.DataFrame({'POST_ID':list(set(votes_df['SUBMISSION_ID']))})\n",
    "posts_df.set_index('POST_ID',inplace=True)\n",
    "reset_post_stats(posts_df)"
   ]
  },
  {
   "cell_type": "code",
   "execution_count": 13,
   "id": "a6f8627e-e011-48f4-a59f-b8d9b6b76e88",
   "metadata": {
    "scrolled": true
   },
   "outputs": [],
   "source": [
    "# calculate some base statistics for each post\n",
    "calculate_post_stats(users_df, votes_df, posts_df)"
   ]
  },
  {
   "cell_type": "code",
   "execution_count": 14,
   "id": "3b930c36-748d-4e84-b686-4938f8ad074b",
   "metadata": {},
   "outputs": [],
   "source": [
    "# calvulate the Neeka score for each post\n",
    "neeka_score_calculation(posts_df)"
   ]
  },
  {
   "cell_type": "code",
   "execution_count": 15,
   "id": "c405e26b-1f68-417a-899c-cebde9084ad1",
   "metadata": {},
   "outputs": [],
   "source": [
    "# calculate percentile rank \n",
    "x_index = np.logical_not(np.logical_or( posts_df['GROUP1_X'].isna(), posts_df['GROUP0_X'].isna())) \n",
    "posts_x_df = posts_df[x_index].copy()\n",
    "calculate_percentile_rank(posts_x_df)"
   ]
  },
  {
   "cell_type": "markdown",
   "id": "074b2f4c-76a5-450b-96d7-d6d1c73702bc",
   "metadata": {},
   "source": [
    "# Results"
   ]
  },
  {
   "cell_type": "markdown",
   "id": "be6f17ed-3250-4cad-9408-02e533afdbe7",
   "metadata": {},
   "source": [
    "### Statistics"
   ]
  },
  {
   "cell_type": "code",
   "execution_count": 16,
   "id": "630850c9-d590-4f89-8bcf-21302063dc91",
   "metadata": {},
   "outputs": [
    {
     "name": "stdout",
     "output_type": "stream",
     "text": [
      "\n",
      "    simple_agreement: 49.79 %\n",
      "    neeka_agreement: 61.8 %\n",
      "    agreement_change: 12.01 %\n",
      "\n",
      "    simple_apolar: 45.86 %\n",
      "    neeka_apolar: 58.98 %\n",
      "    apolar_change: 13.11 %\n",
      "\n",
      "    simple_neutrality: 79.41 %\n",
      "    neeka_neutrality: 90.19 %\n",
      "    neutrality_change: 10.78 %\n",
      "\n",
      "    Overall:\n",
      "    simple_quality: 58.36 %\n",
      "    neeka_quality: 70.32 %\n",
      "    quality_change: 11.97 %\n",
      "\n",
      "    #######################################\n",
      "\n",
      "    simple_group0_bias: 28.75 %\n",
      "    simple_group1_bias: 49.34 %\n",
      "    \n",
      "    neeka_group0_bias: 39.09 %\n",
      "    neeka_group1_bias: 48.9 %\n",
      "    \n"
     ]
    }
   ],
   "source": [
    "results = calculate_test_results(posts_x_df)\n",
    "print_test_results(results)"
   ]
  },
  {
   "cell_type": "markdown",
   "id": "5be8ea92-76b6-4ae4-af99-94e3c5ce11d3",
   "metadata": {},
   "source": [
    "### Most Promoted/Demoted ALL POSTS "
   ]
  },
  {
   "cell_type": "code",
   "execution_count": 17,
   "id": "9fc929b6-3331-4bd9-8ab4-4778a8f6b9e2",
   "metadata": {},
   "outputs": [
    {
     "name": "stdout",
     "output_type": "stream",
     "text": [
      "Most Promoted by **Neeka Consensus** over simple-consensus (most demoted by simple-consensus):\n",
      "1. \"USA Powerlifting bans all trans women from competing as women\"\n",
      "2. \"China will not change its position that Taiwan belongs to it and the world will only ever recognize that there is “one China”, Beijing said on Sunday after President Tsai Ing-wen won re-election and said she would not submit to China’s threats.\"\n",
      "3. \"Apple CEO becomes chairman of China university board\"\n",
      "4. \"Doctor treating Paris coronavirus patients says virus ‘less serious’ than SARS\"\n",
      "5. \"Fallout from Russia's mysterious missile disaster suggests a nuclear reactor blew up\"\n",
      "6. \"Huge Hong Kong protest against extradition bill\"\n",
      "7. \"Verizon throttled 'unlimited' data of Calif. fire department during wildfire\"\n",
      "8. \"Prince Andrew Says He Doesn't Regret His 'Very Useful' Relationship With Jeffrey Epstein\"\n",
      "9. \"'Lying has become a norm': Hong Kong police falsely accused protesters of blocking ambulances, democrats say.\"\n",
      "10. \"A science teacher from rural Kenya who donates most of his salary to help poorer students has been crowned the world’s best teacher and awarded a $1m prize, beating 10,000 nominations from 179 countries.\"\n",
      "-\n",
      "Most Promoted by **simple-consensus** over Neeka (most demoted by Neeka):\n",
      "1. \"Millennials support socialism because they want to make America great — but for everyone\"\n",
      "2. \"Greta Thunberg says she ‘needs a rest’ as she heads home to Sweden after year of global climate activism. Teen campaigner, this week named Time’s Person of the Year, is currently in Italy leading a ‘Fridays for Future’ demonstration\"\n",
      "3. \"Greta Thunberg tells cheering crowd 'we will make sure we put world leaders against the wall' if they do not tackle global warming | 'The adults are behaving as if there is no tomorrow but there is a tomorrow, it is the tomorrow where our young people will live &amp; we have to fight for that tomorrow.\"\"\n",
      "4. \"Trump's plan to cage kids indefinitely while denying them vaccines is ethnic cleansing in plain sight\"\n",
      "5. \"The U.S. President Was Credibly Accused of Rape—But It Didn't Make Front-Page News\"\n",
      "6. \"Wake up, Republicans. Your party stands for all the wrong things now.\"\n",
      "7. \"Former Republican says \"gun worship\" has \"gotten worse\" under Trump as Conservatives struggle to redefine patriotism\"\n",
      "8. \"'The Door Is Open, Come On In,' Sanders Says to Buttigieg and Klobuchar Supporters as Centrists Line Up Behind Biden; Sanders said the former candidates' supporters \"understand that we have got to move toward a government which believes in justice, not greed.\"\"\n",
      "9. \"Trump revealed highly classified information to Russian foreign minister and ambassador.\"\n",
      "10. \"Teenage climate change activist Greta Thunberg said on Monday that talking to Trump at a UN summit on global warming would have been a waste of time since he would not have paid any attention.\"\n"
     ]
    }
   ],
   "source": [
    "sample = posts_df\n",
    "print_most_changed(sample, submissions_df)"
   ]
  },
  {
   "cell_type": "markdown",
   "id": "d5c1d1fb-300f-4855-8042-418c9a380e5f",
   "metadata": {},
   "source": [
    "### Most Promoted/Demoted SAMPLE A"
   ]
  },
  {
   "cell_type": "code",
   "execution_count": 18,
   "id": "b33fbef9-dd37-4f25-8faf-108d3f41a947",
   "metadata": {},
   "outputs": [
    {
     "name": "stdout",
     "output_type": "stream",
     "text": [
      "Most Promoted by **Neeka Consensus** over simple-consensus (most demoted by simple-consensus):\n",
      "1. \"Joe Biden says he would consider a Republican for his running mate\"\n",
      "2. \"Phoenix officer to be fired for pulling gun on parents over doll taken by 4-year-old\"\n",
      "3. \"Video showing hundreds of shackled, blindfolded prisoners in China is 'genuine'\"\n",
      "4. \"Teachers at school built on ‘toxic site’ have the same rare cancer\"\n",
      "5. \"BBC News: Suspending Parliament was unlawful, court rules\"\n",
      "6. \"Hong Kong Protesters Wearing LeBron James Masks at Recent Protests\"\n",
      "7. \"Justice Dept. confirms Trump Jr. and McGahn did not testify to grand jury\"\n",
      "8. \"CNN’s Jake Tapper Calls Out Joe Biden For Declining Interview Requests\"\n",
      "9. \"Deutsche Bank Executive Who Signed Off On Trump Loans Kills Self At Age 55\"\n",
      "10. \"Firms withdraw from China on worsening business conditions\"\n",
      "-\n",
      "Most Promoted by **simple-consensus** over Neeka (most demoted by Neeka):\n",
      "1. \"'The Door Is Open, Come On In,' Sanders Says to Buttigieg and Klobuchar Supporters as Centrists Line Up Behind Biden; Sanders said the former candidates' supporters \"understand that we have got to move toward a government which believes in justice, not greed.\"\"\n",
      "2. \"Bernie Sanders: Coronavirus highlights the flaws in our health care and economic systems\"\n",
      "3. \"I Am Part of the Resistance Inside the Trump Administration\"\n",
      "4. \"Warren: We need to call white supremacy domestic terrorism\"\n",
      "5. \"Trump says Russia 'helped me get elected' for first time in furious outburst at Mueller\"\n",
      "6. \"Top economist: US coronavirus response is like third world country -- US on course for second Great Depression\"\n",
      "7. \"Rep. Ilhan Omar: Legalize marijuana everywhere, expunge records of those jailed for pot offenses\"\n",
      "8. \"Bernie Sanders Is Still in a Remarkably Strong Position\"\n",
      "9. \"Republicans Are Excusing a Criminal Conspiracy\"\n",
      "10. \"Trump: If You Notice My Incompetence, You’re Rooting for the Coronavirus\"\n"
     ]
    }
   ],
   "source": [
    "sample = posts_df.sample(1000)\n",
    "print_most_changed(sample, submissions_df)"
   ]
  },
  {
   "cell_type": "markdown",
   "id": "43613b92-9210-459d-ab19-df1205cf5d5d",
   "metadata": {},
   "source": [
    "### Most Promoted/Demoted SAMPLE B"
   ]
  },
  {
   "cell_type": "code",
   "execution_count": 19,
   "id": "498b6893-adb5-4b0a-b3d0-7c2a158b9ccd",
   "metadata": {},
   "outputs": [
    {
     "name": "stdout",
     "output_type": "stream",
     "text": [
      "Most Promoted by **Neeka Consensus** over simple-consensus (most demoted by simple-consensus):\n",
      "1. \"Huge Hong Kong protest against extradition bill\"\n",
      "2. \"Rampant Chinese cheating exposed at the Boston Marathon\"\n",
      "3. \"Silicon Valley giants accused of avoiding $100 billion in taxes\"\n",
      "4. \"Trump administration blames Iran for oil tanker attacks in Middle East\"\n",
      "5. \"Protestors Rally Outside Blizzcon 2019 with 'Winnie the Pooh' Costumes\"\n",
      "6. \"Video showing hundreds of shackled, blindfolded prisoners in China is 'genuine'\"\n",
      "7. \"Michigan AG: If Trump 'fails to wear a mask, he's going to be asked not to return to any enclosed facility inside our state'\"\n",
      "8. \"Three fired over Nazi salute photo with West Virginia corrections employees\"\n",
      "9. \"Virus-hit Chinese city to shut public transport\"\n",
      "10. \"Mike Bloomberg in 2011: ‘Enormous Cohort’ of Young Black and Latino Men ‘Don’t Know How to Behave in the Workplace’\"\n",
      "-\n",
      "Most Promoted by **simple-consensus** over Neeka (most demoted by Neeka):\n",
      "1. \"Millennials support socialism because they want to make America great — but for everyone\"\n",
      "2. \"Warren: Kavanaugh 'should be impeached' just like Trump\"\n",
      "3. \"President Bernie Sanders\"\n",
      "4. \"Donald Trump Mocks 16-year-old Greta Thunberg, Twitter Reacts: 'She Has More Class in Her Little Finger'\"\n",
      "5. \"Buttigieg: Republicans have 'lost all claim to ever use religious language' over family separations\"\n",
      "6. \"Sanders builds 6-point lead in Texas primary: poll\"\n",
      "7. \"Senator King suggests at least 20 minutes are missing from Trump Ukraine call transcript\"\n",
      "8. \"Greta Thunberg has hit back at adults who “choose to spend their time mocking and threatening teenagers and children for promoting science”, suggesting they “must simply feel so threatened”.\"\n",
      "9. \"Trump official refuses to say a coronavirus vaccine would be affordable to all\"\n",
      "10. \"Expected Case Against Deutsche Bank Disappeared in Trump Transition\"\n"
     ]
    }
   ],
   "source": [
    "sample = posts_df.sample(1000)\n",
    "print_most_changed(sample, submissions_df)"
   ]
  },
  {
   "cell_type": "markdown",
   "id": "a073ac97-8aa0-4f66-b523-942153a30eb3",
   "metadata": {},
   "source": [
    "### Most Promoted/Demoted SAMPLE C"
   ]
  },
  {
   "cell_type": "code",
   "execution_count": 20,
   "id": "ab7b9fb7-8c41-44fc-a8f1-67ffabaa9173",
   "metadata": {},
   "outputs": [
    {
     "name": "stdout",
     "output_type": "stream",
     "text": [
      "Most Promoted by **Neeka Consensus** over simple-consensus (most demoted by simple-consensus):\n",
      "1. \"Verizon throttled 'unlimited' data of Calif. fire department during wildfire\"\n",
      "2. \"The head of Interpol disappears whilst visiting China\"\n",
      "3. \"Impeachment shows unelected government employees are heart of democracy\"\n",
      "4. \"Trump administration blames Iran for oil tanker attacks in Middle East\"\n",
      "5. \"Apple Safari browser sends some user IP addresses to Chinese conglomerate Tencent by default\"\n",
      "6. \"Teachers at school built on ‘toxic site’ have the same rare cancer\"\n",
      "7. \"McDonald's apologized after a restaurant in Guangzhou, China, refused to service black customers\"\n",
      "8. \"This week's Arctic blast will be so cold, forecasters expect it to break more than 200 records across US\"\n",
      "9. \"Chinese researcher accused of trying to smuggle vials of ‘biological material’ out of US hidden in a sock\"\n",
      "10. \"Russian media mentions of Tulsi Gabbard are 200% more often positive than for any other US Democratic Candidate. Because of her stands against the \"Democratic Establishment,\" she is seen as a useful tool for dividing the Democratic Base in the US election.\"\n",
      "-\n",
      "Most Promoted by **simple-consensus** over Neeka (most demoted by Neeka):\n",
      "1. \"Revealed: Trump’s election consultants filmed saying they use bribes and sex workers to entrap politicians\"\n",
      "2. \"Far-right extremism to be included in official terror warnings alongside Islamist threats for first time\"\n",
      "3. \"Saudi Arabia Owns the 45th Floor of Trump Tower, and It Shows\"\n",
      "4. \"Megathread: Trump Tells Freshman Congresswomen to 'Go Back' to the Countries They Came From\"\n",
      "5. \"Megathread 2: Michael Flynn testifies in plea that he was directed to make contact with Russia by senior Trump transition team officials\"\n",
      "6. \"'I really hope she is the future': AOC's support of Sanders fuels 2024 speculation\"\n",
      "7. \"Eric Trump Billed Taxpayers $80K for Two-Day Business Trip to Uruguay\"\n",
      "8. \"Trump Uses Coronavirus Briefing to Play Batshit Campaign Ad Attacking Press\"\n",
      "9. \"Mueller Has Provided Congress with Everything It Needs to Impeach Trump\"\n",
      "10. \"The president must be impeached\"\n"
     ]
    }
   ],
   "source": [
    "sample = posts_df.sample(1000)\n",
    "print_most_changed(sample, submissions_df)"
   ]
  },
  {
   "cell_type": "code",
   "execution_count": null,
   "id": "bc2bba37-7245-4bb1-a6ea-bcbfac8fedf4",
   "metadata": {},
   "outputs": [],
   "source": []
  },
  {
   "cell_type": "code",
   "execution_count": null,
   "id": "87a05785-5510-4737-ac28-5e5a0dbec151",
   "metadata": {},
   "outputs": [],
   "source": []
  }
 ],
 "metadata": {
  "kernelspec": {
   "display_name": "Python 3 (ipykernel)",
   "language": "python",
   "name": "python3"
  },
  "language_info": {
   "codemirror_mode": {
    "name": "ipython",
    "version": 3
   },
   "file_extension": ".py",
   "mimetype": "text/x-python",
   "name": "python",
   "nbconvert_exporter": "python",
   "pygments_lexer": "ipython3",
   "version": "3.12.3"
  }
 },
 "nbformat": 4,
 "nbformat_minor": 5
}
