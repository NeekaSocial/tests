{
 "cells": [
  {
   "cell_type": "code",
   "execution_count": 1,
   "id": "24e64354-14a9-4fa1-ab95-6ac7f7fb82b3",
   "metadata": {},
   "outputs": [],
   "source": [
    "import numpy as np\n",
    "import pandas as pd\n",
    "import random\n",
    "from neeka_lib import *\n",
    "from reddit_helper import *\n",
    "from sklearn.cluster import KMeans"
   ]
  },
  {
   "cell_type": "code",
   "execution_count": 2,
   "id": "8c79d76d-3bb2-45cd-89d5-b83edc0d32d4",
   "metadata": {},
   "outputs": [],
   "source": [
    "# Parameters\n",
    "MIN_VOTES_PER_USER = 8\n",
    "MIN_VOTES_PER_POST = 8\n",
    "N_GRAPH_ITERATIONS = 7\n",
    "VECTOR_LENGTH = 300 # length of user/post embeddings\n",
    "SUBREDDIT_NAMES = ['politics', 'news', 'worldnews']"
   ]
  },
  {
   "cell_type": "code",
   "execution_count": 3,
   "id": "211a1e44-21e8-46e8-b5f5-d83dc3e81028",
   "metadata": {},
   "outputs": [],
   "source": [
    "# get ALL votes\n",
    "all_votes_df = pd.read_csv('reddit_votes_data/44_million_reddit_votes/44_million_votes.txt',sep='\\t')"
   ]
  },
  {
   "cell_type": "code",
   "execution_count": 4,
   "id": "428c84b5-7655-4758-813a-92683a9d487b",
   "metadata": {},
   "outputs": [],
   "source": [
    "# get ALL submissions\n",
    "all_submissions_df = pd.read_csv('reddit_votes_data/submission_info/submission_info.txt',sep='\\t')\n",
    "all_submissions_df.set_index('SUBMISSION_ID',inplace=True)"
   ]
  },
  {
   "cell_type": "code",
   "execution_count": 5,
   "id": "124a95bf-5527-4a21-b10d-0bccc2729d79",
   "metadata": {},
   "outputs": [],
   "source": [
    "# get all submissions in specified subreddits submissions\n",
    "submissions_df = all_submissions_df[all_submissions_df['SUBREDDIT'].isin(SUBREDDIT_NAMES)]\n",
    "\n",
    "# get all submissions in specified subreddits submissions\n",
    "r_subreddit_names = [f'r/{NAME}' for NAME in SUBREDDIT_NAMES]\n",
    "votes_df = all_votes_df[all_votes_df['SUBREDDIT'].isin(r_subreddit_names)]\n",
    "votes_df = all_votes_df[all_votes_df['SUBMISSION_ID'].isin(submissions_df.index)]"
   ]
  },
  {
   "cell_type": "code",
   "execution_count": 6,
   "id": "ebf04562-94c8-4769-a83b-ed96bd4fff8a",
   "metadata": {},
   "outputs": [],
   "source": [
    "votes_df = filter_to_multiple_votes(votes_df, min_usr_votes=MIN_VOTES_PER_USER, min_post_votes=MIN_VOTES_PER_POST)"
   ]
  },
  {
   "cell_type": "code",
   "execution_count": 7,
   "id": "ad825b24-4799-4487-91ec-2f3a0d0b46fc",
   "metadata": {},
   "outputs": [],
   "source": [
    "# get all politics users \n",
    "pol_users = votes_df['USERNAME'].unique()\n",
    "\n",
    "# create our dataframe of users\n",
    "vectors = pd.Series([ np.random.choice([1,-1],VECTOR_LENGTH) for _ in range(len(pol_users)) ])\n",
    "intermediary_vectors = pd.Series([ np.zeros(VECTOR_LENGTH) for _ in range(len(pol_users)) ])\n",
    "\n",
    "users_df = pd.DataFrame({'USERS':pol_users,'VECTOR':vectors, 'INTERMEDIARY':intermediary_vectors})\n",
    "users_df.set_index('USERS',inplace=True)"
   ]
  },
  {
   "cell_type": "code",
   "execution_count": 8,
   "id": "c7d505d3-e050-4206-84b9-c208678b7b50",
   "metadata": {},
   "outputs": [],
   "source": [
    "reset_users(users_df)"
   ]
  },
  {
   "cell_type": "code",
   "execution_count": 9,
   "id": "24260026-4726-4b26-9dac-e5e82fec4ab2",
   "metadata": {},
   "outputs": [
    {
     "name": "stdout",
     "output_type": "stream",
     "text": [
      "          35600 / 35608         \r"
     ]
    }
   ],
   "source": [
    "# Iterate graph to form user embeddings\n",
    "for _ in range(N_GRAPH_ITERATIONS):\n",
    "    iterate_graph(votes_df, users_df)\n",
    "    resolve_graph(users_df)"
   ]
  },
  {
   "cell_type": "code",
   "execution_count": 10,
   "id": "ecf95d4b-1756-4ac0-845f-e4b2e3e43f56",
   "metadata": {},
   "outputs": [
    {
     "name": "stdout",
     "output_type": "stream",
     "text": [
      "0: 4677\n",
      "1: 7979\n"
     ]
    }
   ],
   "source": [
    "# Perform k-means clustering to group users - this is needed for testing\n",
    "kmeans = KMeans(n_clusters=2, random_state=0, n_init='auto')\n",
    "kmeans.fit(  np.stack(users_df['VECTOR'].to_numpy())  )\n",
    "group_labels = kmeans.labels_\n",
    "group_ids, group_counts = np.unique(group_labels, return_counts=True)\n",
    "for grpid, grpcnt in zip(group_ids,group_counts):\n",
    "    print(f'{grpid}: {grpcnt}')"
   ]
  },
  {
   "cell_type": "code",
   "execution_count": 11,
   "id": "5d713b00-f10f-4fa4-9a18-852d19f61620",
   "metadata": {},
   "outputs": [],
   "source": [
    "# Put users into groups - this is needed for testing\n",
    "users_df['GROUP'] = \"NO_GROUP\"\n",
    "users_df.loc[group_labels == 0,'GROUP'] = 'GROUP_0'\n",
    "users_df.loc[group_labels == 1,'GROUP'] = 'GROUP_1' "
   ]
  },
  {
   "cell_type": "code",
   "execution_count": 12,
   "id": "27aa8c79-330e-4069-bc4a-39009692572e",
   "metadata": {},
   "outputs": [],
   "source": [
    "# initialize the posts_df dataframe\n",
    "posts_df = pd.DataFrame({'POST_ID':list(set(votes_df['SUBMISSION_ID']))})\n",
    "posts_df.set_index('POST_ID',inplace=True)\n",
    "reset_post_stats(posts_df)"
   ]
  },
  {
   "cell_type": "code",
   "execution_count": 13,
   "id": "a6f8627e-e011-48f4-a59f-b8d9b6b76e88",
   "metadata": {
    "scrolled": true
   },
   "outputs": [],
   "source": [
    "# calculate some base statistics for each post\n",
    "calculate_post_stats(users_df, votes_df, posts_df)"
   ]
  },
  {
   "cell_type": "code",
   "execution_count": 14,
   "id": "3b930c36-748d-4e84-b686-4938f8ad074b",
   "metadata": {},
   "outputs": [],
   "source": [
    "# calvulate the Neeka score for each post\n",
    "neeka_score_calculation(posts_df)"
   ]
  },
  {
   "cell_type": "code",
   "execution_count": 15,
   "id": "c405e26b-1f68-417a-899c-cebde9084ad1",
   "metadata": {},
   "outputs": [],
   "source": [
    "# calculate percentile rank \n",
    "x_index = np.logical_not(np.logical_or( posts_df['GROUP1_X'].isna(), posts_df['GROUP0_X'].isna())) \n",
    "posts_x_df = posts_df[x_index].copy()\n",
    "calculate_percentile_rank(posts_x_df)"
   ]
  },
  {
   "cell_type": "markdown",
   "id": "074b2f4c-76a5-450b-96d7-d6d1c73702bc",
   "metadata": {},
   "source": [
    "# Results"
   ]
  },
  {
   "cell_type": "markdown",
   "id": "be6f17ed-3250-4cad-9408-02e533afdbe7",
   "metadata": {},
   "source": [
    "### Statistics"
   ]
  },
  {
   "cell_type": "code",
   "execution_count": 16,
   "id": "630850c9-d590-4f89-8bcf-21302063dc91",
   "metadata": {},
   "outputs": [
    {
     "name": "stdout",
     "output_type": "stream",
     "text": [
      "\n",
      "    simple_agreement: 47.78 %\n",
      "    neeka_agreement: 64.86 %\n",
      "    agreement_change: 17.09 %\n",
      "\n",
      "    simple_apolar: 34.45 %\n",
      "    neeka_apolar: 52.87 %\n",
      "    apolar_change: 18.43 %\n",
      "\n",
      "    simple_neutrality: 67.2 %\n",
      "    neeka_neutrality: 89.77 %\n",
      "    neutrality_change: 22.56 %\n",
      "\n",
      "    Overall:\n",
      "    simple_quality: 49.81 %\n",
      "    neeka_quality: 69.17 %\n",
      "    quality_change: 19.36 %\n",
      "\n",
      "    #######################################\n",
      "\n",
      "    simple_group0_bias: 25.77 %\n",
      "    simple_group1_bias: 58.57 %\n",
      "    \n",
      "    neeka_group0_bias: 43.16 %\n",
      "    neeka_group1_bias: 53.4 %\n",
      "    \n"
     ]
    }
   ],
   "source": [
    "results = calculate_test_results(posts_x_df)\n",
    "print_test_results(results)"
   ]
  },
  {
   "cell_type": "markdown",
   "id": "5be8ea92-76b6-4ae4-af99-94e3c5ce11d3",
   "metadata": {},
   "source": [
    "### Most Promoted/Demoted ALL POSTS "
   ]
  },
  {
   "cell_type": "code",
   "execution_count": 17,
   "id": "9fc929b6-3331-4bd9-8ab4-4778a8f6b9e2",
   "metadata": {},
   "outputs": [
    {
     "name": "stdout",
     "output_type": "stream",
     "text": [
      "Most Promoted by **Neeka Consensus** over simple-consensus (most demoted by simple-consensus):\n",
      "1. \"Apple and Samsung fined for deliberately slowing down phones\"\n",
      "2. \"FBI: Nation-state actors have breached two US municipalities\"\n",
      "3. \"A former neighbor of Joe Biden's accuser Tara Reade has come forward to corroborate her sexual assault account, saying Reade discussed the allegations in detail in the mid-1990s\"\n",
      "4. \"Feb. 11 Is 'The Day We Fight Back' Against NSA Surveillance | More than 5,300 web-based companies and other organizations, including Reddit, Imgur, Tumblr, Mozilla the Electronic Frontier Foundation and the ACLU, have joined forces to protest National Security Agency surveillance on Feb. 11.\"\n",
      "5. \"Putin approves law targeting journalists as 'foreign agents'\"\n",
      "6. \"Iceland sentences 26 corrupt bankers to 74 years in prison\"\n",
      "7. \"Major tech firms urge U.S. to retain net neutrality rules\"\n",
      "8. \"Houston Chronicle calls on O'Rourke to end White House bid, run for Senate\"\n",
      "9. \"Vinnie Paul Dead: Pantera Drummer Dies at 54 | Billboard\"\n",
      "10. \"Iranian students seen refusing to trample US, Israeli flags\"\n",
      "-\n",
      "Most Promoted by **simple-consensus** over Neeka (most demoted by Neeka):\n",
      "1. \"Europeans fear relationship with America will only get worse under a Trump second term. “Eight years in political terms is an era, not an error. And it would undermine the reality of American democracy,” said French analyst François Heisbourg.\"\n",
      "2. \"Trump Named ‘Worst President for Our Environment in History' by Nine Green Groups\"\n",
      "3. \"Trump launches snide attack on Greta Thunberg after she beats him to Time Person of the Year\"\n",
      "4. \"Greta Thunberg is Time's 2019 Person of the Year\"\n",
      "5. \"Trump officials are bending over backwards to say he didn't threaten to commit a war crime after he repeatedly threatened to commit a war crime\"\n",
      "6. \"No, Mr. President, healthcare workers aren’t stealing masks. You failed them.\"\n",
      "7. \"Greta Thunberg tells cheering crowd 'we will make sure we put world leaders against the wall' if they do not tackle global warming | 'The adults are behaving as if there is no tomorrow but there is a tomorrow, it is the tomorrow where our young people will live &amp; we have to fight for that tomorrow.\"\"\n",
      "8. \"Millennials support socialism because they want to make America great — but for everyone\"\n",
      "9. \"Trump is just 67 votes away from being an ex-President and it's freaking him out\"\n",
      "10. \"Republicans Are Talking 'Civil War' Because They Don't Have Any Defense for the President*\"\n"
     ]
    }
   ],
   "source": [
    "sample = posts_df\n",
    "print_most_changed(sample, submissions_df)"
   ]
  },
  {
   "cell_type": "markdown",
   "id": "d5c1d1fb-300f-4855-8042-418c9a380e5f",
   "metadata": {},
   "source": [
    "### Most Promoted/Demoted SAMPLE A"
   ]
  },
  {
   "cell_type": "code",
   "execution_count": 18,
   "id": "b33fbef9-dd37-4f25-8faf-108d3f41a947",
   "metadata": {},
   "outputs": [
    {
     "name": "stdout",
     "output_type": "stream",
     "text": [
      "Most Promoted by **Neeka Consensus** over simple-consensus (most demoted by simple-consensus):\n",
      "1. \"N. Macedonia becomes 30th NATO member.\"\n",
      "2. \"Australian intelligence determined China was responsible for a cyber-attack on its national parliament and three largest political parties before the general election in May, five people with direct knowledge of the matter told Reuters.\"\n",
      "3. \"Shep Smith Out at Fox News Amid Trump Tension\"\n",
      "4. \"IRS, FBI Search Home of Baltimore Mayor Catherine Pugh, Baltimore City Hall\"\n",
      "5. \"Shaq Defends Free Speech on NBA Opening Night: ‘Daryl Morey Was Right’\"\n",
      "6. \"60 students without vaccines kept out of school in Fargo, West Fargo\"\n",
      "7. \"'Medicare-for-all' gets unexpected surge of support, even in red states\"\n",
      "8. \"Trump Has Dropped the Pretense of Playing by the Rules of Democracy\"\n",
      "9. \"Democratic Primaries: Great opportunity to test ranked choice voting on a national level\"\n",
      "10. \"Questioning Tara Reade’s story doesn’t make one a rape apologist: On Joe Biden and #MeToo\"\n",
      "-\n",
      "Most Promoted by **simple-consensus** over Neeka (most demoted by Neeka):\n",
      "1. \"Greta Thunberg is Time's 2019 Person of the Year\"\n",
      "2. \"Republicans Are Talking 'Civil War' Because They Don't Have Any Defense for the President*\"\n",
      "3. \"Ireland quadruples contribution to WHO\"\n",
      "4. \"Donald Trump Not Causing Nuclear War Is What Now Qualifies as Good News in America, Hooray?\"\n",
      "5. \"McConnell Draws Outrage for 'Ridiculous' Excuse That Trump Impeachment Trial Prevented Action on Coronavirus Crisis\"\n",
      "6. \"Academics Rally Behind Alexandria Ocasio-Cortez Over Concentration Camp Comments: ‘She Is Completely Historically Accurate’\"\n",
      "7. \"Doing the Right Thing Was Vindman’s Only Crime\"\n",
      "8. \"Nancy Pelosi Suggests More Witnesses May Be Called to Testify in Trump Impeachment Inquiry: 'We Aren't Finished Yet'\"\n",
      "9. \"The Impeachment Probe Should Include All of Trump’s Crimes\"\n",
      "10. \"The Coronavirus Test Is Too Hard for Trump — The president joins Herbert Hoover and James Buchanan as a leader who failed when it mattered most.\"\n"
     ]
    }
   ],
   "source": [
    "sample = posts_df.sample(1000)\n",
    "print_most_changed(sample, submissions_df)"
   ]
  },
  {
   "cell_type": "markdown",
   "id": "43613b92-9210-459d-ab19-df1205cf5d5d",
   "metadata": {},
   "source": [
    "### Most Promoted/Demoted SAMPLE B"
   ]
  },
  {
   "cell_type": "code",
   "execution_count": 19,
   "id": "498b6893-adb5-4b0a-b3d0-7c2a158b9ccd",
   "metadata": {},
   "outputs": [
    {
     "name": "stdout",
     "output_type": "stream",
     "text": [
      "Most Promoted by **Neeka Consensus** over simple-consensus (most demoted by simple-consensus):\n",
      "1. \"Photos Emerge From Kashmir, a Land on Lockdown. Indian photographers managed to work around a communication blockade to publish their images\"\n",
      "2. \"Canada's Bianca Andreescu defeats Serena Williams to win U.S. Open\"\n",
      "3. \"Woman who stood on ship's railing for selfie barred for life from cruises\"\n",
      "4. \"Shell Workers Had To Attend Trump Speech To Be Paid, Were Ordered Not To Protest: Report\"\n",
      "5. \"Rape convict exonerated 36 years later\"\n",
      "6. \"Remains of 3 people found during renovations at the Alamo\"\n",
      "7. \"Shinzo Abe says there are issues with WHO, and Japan will review its funding after the pandemic\"\n",
      "8. \"NSA whistleblower Edward Snowden nominated for Nobel Peace Prize\"\n",
      "9. \"Magic mushroom ingredient psilocybin could be key to treating depression - studies | Immediate reduction in depression and anxiety for up to eight months seen in patients with advanced cancer given a single dose of psilocybin\"\n",
      "10. \"China Killing Prisoners To Harvest Organs For Transplant: BMC Report Accuses China Of ‘Falsifying’ Data\"\n",
      "-\n",
      "Most Promoted by **simple-consensus** over Neeka (most demoted by Neeka):\n",
      "1. \"Yale psychiatrist urges Pelosi: Request 72-hour mental health hold on Trump after Iran attack\"\n",
      "2. \"Demanding Transcript of Trump Call With Xi, Warren Slams President for Selling Out People of Hong Kong 'Behind Closed Doors': \"The public must see the transcript of Trump's call with Xi. And we need a leader who will stand up for our values.\"\"\n",
      "3. \"Greta Thunberg apologises after saying politicians should be ‘put against the wall’. 'That’s what happens when you improvise speeches in a second language’ the 16-year-old said following criticism\"\n",
      "4. \"Warren: Kavanaugh 'should be impeached' just like Trump\"\n",
      "5. \"Thousands chant 'death to America' at funeral of Iran's top general Qassem Soleimani\"\n",
      "6. \"The U.S. President Was Credibly Accused of Rape—But It Didn't Make Front-Page News\"\n",
      "7. \"Trump just comes out and says it: The GOP is hurt when it’s easier to vote\"\n",
      "8. \"2nd whistleblower comes forward after speaking with IG: Attorney\"\n",
      "9. \"Group asks Congress to investigate how Devin Nunes is paying for his lawsuits\"\n",
      "10. \"Former Republican Congressman Says Trump 'Morally' and 'Intellectually' Unfit for Office\"\n"
     ]
    }
   ],
   "source": [
    "sample = posts_df.sample(1000)\n",
    "print_most_changed(sample, submissions_df)"
   ]
  },
  {
   "cell_type": "markdown",
   "id": "a073ac97-8aa0-4f66-b523-942153a30eb3",
   "metadata": {},
   "source": [
    "### Most Promoted/Demoted SAMPLE C"
   ]
  },
  {
   "cell_type": "code",
   "execution_count": 20,
   "id": "ab7b9fb7-8c41-44fc-a8f1-67ffabaa9173",
   "metadata": {},
   "outputs": [
    {
     "name": "stdout",
     "output_type": "stream",
     "text": [
      "Most Promoted by **Neeka Consensus** over simple-consensus (most demoted by simple-consensus):\n",
      "1. \"Not a conspiracy anymore\"\n",
      "2. \"Alberta veterinarians vote to ban declawing, ear cropping, tail docking surgeries: ‘It’s inhumane’\"\n",
      "3. \"US police arrest 36-year-old nurse after patient in a vegetative state gave birth\"\n",
      "4. \"Comey: ‘If this were a case about somebody other than the president, they'd already have been indicted’\"\n",
      "5. \"Greta Thunberg leaves US with simple climate crisis message: vote\"\n",
      "6. \"In Year-End Address, Dying Healthcare Activist Ady Barkan Reminds Public Joe Biden Only 2020 Democrat Not to Meet With Him\"\n",
      "7. \"Canadians who smoke marijuana legally, or work or invest in the industry, will be barred from the U.S.: Customs and Border Protection official\"\n",
      "8. \"A Georgia death row inmate has asked to be executed by firing squad\"\n",
      "9. \"Trump signs executive order denying asylum to illegal border crossers\"\n",
      "10. \"Saudi journalist recorded his own torture and murder on Apple Watch\"\n",
      "-\n",
      "Most Promoted by **simple-consensus** over Neeka (most demoted by Neeka):\n",
      "1. \"'There need to be mass protests': Authoritarianism experts say time is running out for Americans to stop Trump\"\n",
      "2. \"Trump Touts ‘Game-Changing’ Drug Cocktail For Coronavirus Linked To Fatal Arrhythmia - The president, who is not a doctor, recommends a potentially dangerous drug combo to his 74 million Twitter followers. “What do we have to lose?” he asked.\"\n",
      "3. \"Trump Suddenly Loses Interest In Briefings After Disastrous Disinfectant Comments\"\n",
      "4. \"Hillary Clinton suggests Putin has kompromat on Trump, Russians will back Tulsi Gabbard in third-party bid\"\n",
      "5. \"Elizabeth Warren Is Completely Serious About income inequality. About corporate power. About corrupt politics. And about being America’s next president.\"\n",
      "6. \"Trump Brags About Serving Up American Troops to Saudi Arabia for Nothing More Than Cash\"\n",
      "7. \"'Rich People Have Profited Enough': New Poll Shows Two-Thirds of Americans Support Wealth Tax to Combat Inequality\"\n",
      "8. \"Fauci: It’s A ‘False Statement’ To Say COVID-19 Outbreak Is Under Control\"\n",
      "9. \"Trump says he's sending ventilators to Russia for Putin's coronavirus response, but previously pushed back on requests from US governors\"\n",
      "10. \"Former Texas Congressman Beto O’Rourke Announces 2020 Democratic Run for Presidency\"\n"
     ]
    }
   ],
   "source": [
    "sample = posts_df.sample(1000)\n",
    "print_most_changed(sample, submissions_df)"
   ]
  },
  {
   "cell_type": "code",
   "execution_count": null,
   "id": "bc2bba37-7245-4bb1-a6ea-bcbfac8fedf4",
   "metadata": {},
   "outputs": [],
   "source": []
  },
  {
   "cell_type": "code",
   "execution_count": null,
   "id": "87a05785-5510-4737-ac28-5e5a0dbec151",
   "metadata": {},
   "outputs": [],
   "source": []
  }
 ],
 "metadata": {
  "kernelspec": {
   "display_name": "Python 3 (ipykernel)",
   "language": "python",
   "name": "python3"
  },
  "language_info": {
   "codemirror_mode": {
    "name": "ipython",
    "version": 3
   },
   "file_extension": ".py",
   "mimetype": "text/x-python",
   "name": "python",
   "nbconvert_exporter": "python",
   "pygments_lexer": "ipython3",
   "version": "3.12.3"
  }
 },
 "nbformat": 4,
 "nbformat_minor": 5
}
